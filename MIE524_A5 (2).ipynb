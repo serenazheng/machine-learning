{
  "cells": [
    {
      "cell_type": "markdown",
      "metadata": {
        "id": "ona6ZzEAnl_C"
      },
      "source": [
        "# MIE524 - Assignment 5\n",
        "Please complete this notebook for Assignment 5."
      ]
    },
    {
      "cell_type": "markdown",
      "metadata": {
        "id": "ngk-cxGHoIBk"
      },
      "source": [
        "## Imports"
      ]
    },
    {
      "cell_type": "code",
      "execution_count": 1,
      "metadata": {
        "id": "sfmt3VUToNBt"
      },
      "outputs": [],
      "source": [
        "import pandas as pd\n",
        "import numpy as np"
      ]
    },
    {
      "cell_type": "markdown",
      "metadata": {
        "id": "cQlyhJr7nx2C"
      },
      "source": [
        "## Q1 - Neural Collaborative Filtering\n",
        "[[paper]](https://arxiv.org/pdf/1708.05031.pdf)"
      ]
    },
    {
      "cell_type": "code",
      "execution_count": 2,
      "metadata": {
        "id": "aXAtjfIFpfMJ"
      },
      "outputs": [],
      "source": [
        "import torch\n",
        "import torch.nn as nn\n",
        "import torch.nn.functional as F"
      ]
    },
    {
      "cell_type": "markdown",
      "metadata": {
        "id": "4DzMCkUYodFQ"
      },
      "source": [
        "### Data\n",
        "The MovieLens dataset (ml-latest-small) describes 5-star rating and free-text tagging activity from MovieLens, a movie recommendation service. It contains 100004 ratings and 1296 tag applications across 9125 movies."
      ]
    },
    {
      "cell_type": "code",
      "execution_count": 76,
      "metadata": {
        "id": "fpULkr9gnBrN"
      },
      "outputs": [],
      "source": [
        "data = pd.read_csv(\"q1-ratings.csv\")"
      ]
    },
    {
      "cell_type": "markdown",
      "metadata": {
        "id": "lw5QohbppLsF"
      },
      "source": [
        "### Encode Data"
      ]
    },
    {
      "cell_type": "code",
      "execution_count": 77,
      "metadata": {
        "id": "JN7_KSRnpHuy"
      },
      "outputs": [],
      "source": [
        "# split train and validation before encoding\n",
        "np.random.seed(3)\n",
        "torch.manual_seed(666)\n",
        "msk = np.random.rand(len(data)) < 0.8\n",
        "train = data[msk].copy()\n",
        "val = data[~msk].copy()"
      ]
    },
    {
      "cell_type": "code",
      "execution_count": null,
      "metadata": {
        "id": "b8eckHjYpHiu"
      },
      "outputs": [],
      "source": [
        "# here is a handy function modified from fast.ai\n",
        "def proc_col(col, train_col=None):\n",
        "    \"\"\"Encodes a pandas column with continuous ids.\n",
        "    \"\"\"\n",
        "    if train_col is not None:\n",
        "        uniq = train_col.unique()\n",
        "    else:\n",
        "        uniq = col.unique()\n",
        "    name2idx = {o:i for i,o in enumerate(uniq)}\n",
        "    return name2idx, np.array([name2idx.get(x, -1) for x in col]), len(uniq)"
      ]
    },
    {
      "cell_type": "code",
      "execution_count": null,
      "metadata": {
        "id": "am86fxhppOpp"
      },
      "outputs": [],
      "source": [
        "def encode_data(df, train=None):\n",
        "    \"\"\" Encodes rating data with continous user and movie ids.\n",
        "    If train is provided, encodes df with the same encoding as train.\n",
        "    \"\"\"\n",
        "    df = df.copy()\n",
        "    for col_name in [\"userId\", \"movieId\"]:\n",
        "        train_col = None\n",
        "        if train is not None:\n",
        "            train_col = train[col_name]\n",
        "        _,col,_ = proc_col(df[col_name], train_col)\n",
        "        df[col_name] = col\n",
        "        df = df[df[col_name] >= 0]\n",
        "    return df"
      ]
    },
    {
      "cell_type": "code",
      "execution_count": null,
      "metadata": {
        "id": "zELEhSXQpSb7"
      },
      "outputs": [],
      "source": [
        "# encoding the train and validation data\n",
        "df_train = encode_data(train)\n",
        "df_val = encode_data(val, train)"
      ]
    },
    {
      "cell_type": "markdown",
      "metadata": {
        "id": "lPXMy7VkFaPs"
      },
      "source": [
        "### a) Evaluate model parameters for NCF-GMF"
      ]
    },
    {
      "cell_type": "code",
      "source": [
        "class MF(nn.Module):\n",
        "    def __init__(self, num_users, num_items, emb_size=100):\n",
        "        super(MF, self).__init__()\n",
        "        self.user_emb = nn.Embedding(num_users, emb_size)\n",
        "        self.item_emb = nn.Embedding(num_items, emb_size)\n",
        "        self.user_emb.weight.data.uniform_(0, 0.05)\n",
        "        self.item_emb.weight.data.uniform_(0, 0.05)\n",
        "\n",
        "    def forward(self, u, v):\n",
        "        u = self.user_emb(u)\n",
        "        v = self.item_emb(v)\n",
        "        return (u*v).sum(1)"
      ],
      "metadata": {
        "id": "Txf5vgdZ5Vo1"
      },
      "execution_count": null,
      "outputs": []
    },
    {
      "cell_type": "code",
      "source": [
        "def train_epocs(model, epochs=10, lr=0.01, wd=0.0):\n",
        "    # YOUR CODE HERE\n",
        "    optimizer = torch.optim.Adam(model.parameters(), lr=lr, weight_decay=wd)\n",
        "    model.train()\n",
        "    for i in range(epochs):\n",
        "        users = torch.LongTensor(df_train.userId.values) # .cuda()\n",
        "        items = torch.LongTensor(df_train.movieId.values) #.cuda()\n",
        "        ratings = torch.FloatTensor(df_train.rating.values) #.cuda()\n",
        "        y_hat = model(users, items)\n",
        "        loss = F.mse_loss(y_hat, ratings)\n",
        "        optimizer.zero_grad()\n",
        "        loss.backward()\n",
        "        optimizer.step()\n",
        "\n",
        "        # the MSE loss on the validation set of each epoch\n",
        "        val_loss = test_loss(model)\n",
        "\n",
        "        print(f\"Epoch {i + 1}/{epochs}, Train Loss: {loss.item():.3f}, Validation Loss: {val_loss:.4f}\")\n",
        "\n",
        "    # Final validation MSE loss\n",
        "    final_val_loss = test_loss(model)\n",
        "    print(f\"Final Validation Loss: {final_val_loss:.4f}\")\n",
        "    return final_val_loss\n",
        "\n",
        "def test_loss(model):\n",
        "    model.eval()\n",
        "    users = torch.LongTensor(df_val.userId.values) #.cuda()\n",
        "    items = torch.LongTensor(df_val.movieId.values) #.cuda()\n",
        "    ratings = torch.FloatTensor(df_val.rating.values) #.cuda()\n",
        "    y_hat = model(users, items)\n",
        "    loss = F.mse_loss(y_hat, ratings)\n",
        "\n",
        "    return loss.item()"
      ],
      "metadata": {
        "id": "ivyCv04x3aj7"
      },
      "execution_count": null,
      "outputs": []
    },
    {
      "cell_type": "code",
      "source": [
        "num_users = len(df_train['userId'].unique())\n",
        "num_items = len(df_train['movieId'].unique())\n",
        "print(f\"Number of users: {num_users}, Number of items: {num_items}\")"
      ],
      "metadata": {
        "colab": {
          "base_uri": "https://localhost:8080/"
        },
        "id": "BNr5QEsl3ZH4",
        "outputId": "9cda9547-6a95-4b38-e660-9defc0c933a1"
      },
      "execution_count": null,
      "outputs": [
        {
          "output_type": "stream",
          "name": "stdout",
          "text": [
            "Number of users: 610, Number of items: 8998\n"
          ]
        }
      ]
    },
    {
      "cell_type": "code",
      "execution_count": null,
      "metadata": {
        "id": "T0JOqTqCFhWP"
      },
      "outputs": [],
      "source": [
        "model_NCF_GMF_Benchmark = MF(num_users, num_items, emb_size=100)\n",
        "model_NCF_GMF_1 = MF(num_users, num_items, emb_size=256)"
      ]
    },
    {
      "cell_type": "code",
      "source": [
        "print(\"Training model_NCF_GMF_Benchmark with epochs=10, lr=0.01, wd=0\")\n",
        "c1 = train_epocs(model_NCF_GMF_Benchmark, epochs=10, lr=0.01, wd=0)\n",
        "print(\"\\n\")\n",
        "print(\"Training model_NCF_GMF_Benchmark with epochs=10, lr=0.01, wd=0.001\")\n",
        "c2 = train_epocs(model_NCF_GMF_Benchmark, epochs=10, lr=0.01, wd=0.001)\n",
        "print(\"\\n\")\n",
        "print(\"Training model_NCF_GMF_1 with epochs=10, lr=0.01, wd=0\")\n",
        "c3 = train_epocs(model_NCF_GMF_1, epochs=10, lr=0.01, wd=0)\n",
        "print(\"\\n\")\n",
        "print(\"Training model_NCF_GMF_1 with epochs=10, lr=0.01, wd=0.001\")\n",
        "c4 = train_epocs(model_NCF_GMF_1, epochs=10, lr=0.01, wd=0.001)"
      ],
      "metadata": {
        "colab": {
          "base_uri": "https://localhost:8080/"
        },
        "id": "mCHVo7US3rgK",
        "outputId": "6b0012ac-0e7a-4b6f-8a05-fb49a6d354e2"
      },
      "execution_count": null,
      "outputs": [
        {
          "output_type": "stream",
          "name": "stdout",
          "text": [
            "Training model_NCF_GMF_Benchmark with epochs=10, lr=0.01, wd=0\n",
            "Epoch 1/10, Train Loss: 12.912, Validation Loss: 12.5928\n",
            "Epoch 2/10, Train Loss: 12.504, Validation Loss: 12.0590\n",
            "Epoch 3/10, Train Loss: 11.973, Validation Loss: 11.4104\n",
            "Epoch 4/10, Train Loss: 11.328, Validation Loss: 10.6565\n",
            "Epoch 5/10, Train Loss: 10.578, Validation Loss: 9.8087\n",
            "Epoch 6/10, Train Loss: 9.736, Validation Loss: 8.8813\n",
            "Epoch 7/10, Train Loss: 8.814, Validation Loss: 7.8919\n",
            "Epoch 8/10, Train Loss: 7.831, Validation Loss: 6.8621\n",
            "Epoch 9/10, Train Loss: 6.808, Validation Loss: 5.8178\n",
            "Epoch 10/10, Train Loss: 5.771, Validation Loss: 4.7893\n",
            "Final Validation Loss: 4.7893\n",
            "\n",
            "\n",
            "Training model_NCF_GMF_Benchmark with epochs=10, lr=0.01, wd=0.001\n",
            "Epoch 1/10, Train Loss: 4.750, Validation Loss: 4.1866\n",
            "Epoch 2/10, Train Loss: 4.162, Validation Loss: 3.6519\n",
            "Epoch 3/10, Train Loss: 3.640, Validation Loss: 3.2050\n",
            "Epoch 4/10, Train Loss: 3.205, Validation Loss: 2.8603\n",
            "Epoch 5/10, Train Loss: 2.870, Validation Loss: 2.6238\n",
            "Epoch 6/10, Train Loss: 2.641, Validation Loss: 2.4911\n",
            "Epoch 7/10, Train Loss: 2.513, Validation Loss: 2.4479\n",
            "Epoch 8/10, Train Loss: 2.473, Validation Loss: 2.4715\n",
            "Epoch 9/10, Train Loss: 2.499, Validation Loss: 2.5368\n",
            "Epoch 10/10, Train Loss: 2.567, Validation Loss: 2.6204\n",
            "Final Validation Loss: 2.6204\n",
            "\n",
            "\n",
            "Training model_NCF_GMF_1 with epochs=10, lr=0.01, wd=0\n",
            "Epoch 1/10, Train Loss: 12.256, Validation Loss: 11.3377\n",
            "Epoch 2/10, Train Loss: 11.255, Validation Loss: 10.0734\n",
            "Epoch 3/10, Train Loss: 9.998, Validation Loss: 8.6086\n",
            "Epoch 4/10, Train Loss: 8.542, Validation Loss: 7.0161\n",
            "Epoch 5/10, Train Loss: 6.960, Validation Loss: 5.3878\n",
            "Epoch 6/10, Train Loss: 5.343, Validation Loss: 3.8376\n",
            "Epoch 7/10, Train Loss: 3.805, Validation Loss: 2.5008\n",
            "Epoch 8/10, Train Loss: 2.478, Validation Loss: 1.5234\n",
            "Epoch 9/10, Train Loss: 1.507, Validation Loss: 1.0283\n",
            "Epoch 10/10, Train Loss: 1.009, Validation Loss: 1.0483\n",
            "Final Validation Loss: 1.0483\n",
            "\n",
            "\n",
            "Training model_NCF_GMF_1 with epochs=10, lr=0.01, wd=0.001\n",
            "Epoch 1/10, Train Loss: 1.014, Validation Loss: 0.9690\n",
            "Epoch 2/10, Train Loss: 0.923, Validation Loss: 1.1840\n",
            "Epoch 3/10, Train Loss: 1.125, Validation Loss: 1.4401\n",
            "Epoch 4/10, Train Loss: 1.370, Validation Loss: 1.6673\n",
            "Epoch 5/10, Train Loss: 1.589, Validation Loss: 1.8709\n",
            "Epoch 6/10, Train Loss: 1.788, Validation Loss: 2.0660\n",
            "Epoch 7/10, Train Loss: 1.982, Validation Loss: 2.2594\n",
            "Epoch 8/10, Train Loss: 2.177, Validation Loss: 2.4509\n",
            "Epoch 9/10, Train Loss: 2.374, Validation Loss: 2.6371\n",
            "Epoch 10/10, Train Loss: 2.569, Validation Loss: 2.8138\n",
            "Final Validation Loss: 2.8138\n"
          ]
        }
      ]
    },
    {
      "cell_type": "markdown",
      "metadata": {
        "id": "1J9HMXYnoer8"
      },
      "source": [
        "### b) NCF-MLP Model\n",
        "\n",
        "<img src=https://miro.medium.com/v2/resize:fit:1400/format:webp/1*aP-Mx266ExwoWZPSdHtYpA.png width=\"600\">\n"
      ]
    },
    {
      "cell_type": "code",
      "execution_count": null,
      "metadata": {
        "id": "6BP9a7xIof7s"
      },
      "outputs": [],
      "source": [
        "class my_NCF_MLP(nn.Module):\n",
        "    def __init__(self, num_users, num_items, emb_size=100, hidden_size=10):\n",
        "        super(my_NCF_MLP, self).__init__()\n",
        "\n",
        "        # YOUR CODE HERE\n",
        "        self.user_emb = nn.Embedding(num_users, emb_size)\n",
        "        self.item_emb = nn.Embedding(num_items, emb_size)\n",
        "        self.user_emb.weight.data.uniform_(0, 0.05)\n",
        "        self.item_emb.weight.data.uniform_(0, 0.05)\n",
        "\n",
        "        # 2 linear layers\n",
        "        self.fc1 = nn.Linear(emb_size * 2, hidden_size)\n",
        "        self.fc2 = nn.Linear(hidden_size, 1)\n",
        "        # relu activation function\n",
        "        self.relu = nn.ReLU()\n",
        "\n",
        "    def forward(self, u, v):\n",
        "\n",
        "        # YOUR CODE HERE\n",
        "        u = self.user_emb(u)\n",
        "        v = self.item_emb(v)\n",
        "        # concatenate embeddings\n",
        "        x = torch.cat([u, v], dim=1)\n",
        "        # pass through dense layers\n",
        "        x = self.relu(self.fc1(x))\n",
        "        x = self.fc2(x)\n",
        "        # Output shape: (batch_size,)\n",
        "        return x.squeeze()"
      ]
    },
    {
      "cell_type": "markdown",
      "metadata": {
        "id": "CS_fx_0E2Rfa"
      },
      "source": [
        "Train model"
      ]
    },
    {
      "cell_type": "code",
      "source": [
        "model_NCF_MLP_Benchmark = my_NCF_MLP(num_users, num_items, emb_size=100, hidden_size=10)\n",
        "model_NCF_MLP_1 = my_NCF_MLP(num_users, num_items, emb_size=100, hidden_size=5)\n",
        "model_NCF_MLP_2 = my_NCF_MLP(num_users, num_items, emb_size=256, hidden_size=10)"
      ],
      "metadata": {
        "id": "apolwiGJukf5"
      },
      "execution_count": null,
      "outputs": []
    },
    {
      "cell_type": "markdown",
      "metadata": {
        "id": "d66B7bBu2rmP"
      },
      "source": [
        "### c) Evaluate model parameters for NCF-MLP"
      ]
    },
    {
      "cell_type": "code",
      "source": [
        "print(\"Training model_NCF_MLP_Benchmark with epochs=10, lr=0.01, wd=0\")\n",
        "c5 = train_epocs(model_NCF_MLP_Benchmark, epochs=10, lr=0.01, wd=0)\n",
        "print(\"\\n\")\n",
        "print(\"Training model_NCF_MLP_Benchmark with epochs=10, lr=0.01, wd=0.01\")\n",
        "c6 = train_epocs(model_NCF_MLP_Benchmark, epochs=10, lr=0.01, wd=0.01)\n",
        "print(\"\\n\")\n",
        "print(\"Training model_NCF_MLP_1 with epochs=10, lr=0.01, wd=0\")\n",
        "c7 = train_epocs(model_NCF_MLP_1, epochs=10, lr=0.01, wd=0)\n",
        "print(\"\\n\")\n",
        "print(\"Training model_NCF_MLP_1 with epochs=10, lr=0.01, wd=0.01\")\n",
        "c8 = train_epocs(model_NCF_MLP_1, epochs=10, lr=0.01, wd=0.01)\n",
        "print(\"\\n\")\n",
        "print(\"Training model_NCF_MLP_2 with epochs=10, lr=0.01, wd=0\")\n",
        "c9 = train_epocs(model_NCF_MLP_2, epochs=10, lr=0.01, wd=0)\n",
        "print(\"\\n\")\n",
        "print(\"Training model_NCF_MLP_2 with epochs=10, lr=0.01, wd=0.01\")\n",
        "c10 = train_epocs(model_NCF_MLP_2, epochs=10, lr=0.01, wd=0.01)"
      ],
      "metadata": {
        "colab": {
          "base_uri": "https://localhost:8080/"
        },
        "id": "7OQdyzQh_7Jd",
        "outputId": "2e274cbe-411d-4ff7-ab55-e21745af7658"
      },
      "execution_count": null,
      "outputs": [
        {
          "output_type": "stream",
          "name": "stdout",
          "text": [
            "Training model_NCF_MLP_Benchmark with epochs=10, lr=0.01, wd=0\n",
            "Epoch 1/10, Train Loss: 13.967, Validation Loss: 13.5913\n",
            "Epoch 2/10, Train Loss: 13.497, Validation Loss: 13.2218\n",
            "Epoch 3/10, Train Loss: 13.129, Validation Loss: 12.7547\n",
            "Epoch 4/10, Train Loss: 12.664, Validation Loss: 12.1882\n",
            "Epoch 5/10, Train Loss: 12.101, Validation Loss: 11.4885\n",
            "Epoch 6/10, Train Loss: 11.405, Validation Loss: 10.6334\n",
            "Epoch 7/10, Train Loss: 10.555, Validation Loss: 9.6170\n",
            "Epoch 8/10, Train Loss: 9.544, Validation Loss: 8.4465\n",
            "Epoch 9/10, Train Loss: 8.381, Validation Loss: 7.1434\n",
            "Epoch 10/10, Train Loss: 7.087, Validation Loss: 5.7492\n",
            "Final Validation Loss: 5.7492\n",
            "\n",
            "\n",
            "Training model_NCF_MLP_Benchmark with epochs=10, lr=0.01, wd=0.01\n",
            "Epoch 1/10, Train Loss: 5.703, Validation Loss: 5.1345\n",
            "Epoch 2/10, Train Loss: 5.084, Validation Loss: 4.5645\n",
            "Epoch 3/10, Train Loss: 4.509, Validation Loss: 4.0390\n",
            "Epoch 4/10, Train Loss: 3.979, Validation Loss: 3.5417\n",
            "Epoch 5/10, Train Loss: 3.478, Validation Loss: 3.1091\n",
            "Epoch 6/10, Train Loss: 3.043, Validation Loss: 2.7457\n",
            "Epoch 7/10, Train Loss: 2.678, Validation Loss: 2.4834\n",
            "Epoch 8/10, Train Loss: 2.417, Validation Loss: 2.3212\n",
            "Epoch 9/10, Train Loss: 2.257, Validation Loss: 2.2368\n",
            "Epoch 10/10, Train Loss: 2.174, Validation Loss: 2.1949\n",
            "Final Validation Loss: 2.1949\n",
            "\n",
            "\n",
            "Training model_NCF_MLP_1 with epochs=10, lr=0.01, wd=0\n",
            "Epoch 1/10, Train Loss: 14.658, Validation Loss: 14.5966\n",
            "Epoch 2/10, Train Loss: 14.497, Validation Loss: 14.2854\n",
            "Epoch 3/10, Train Loss: 14.187, Validation Loss: 13.9067\n",
            "Epoch 4/10, Train Loss: 13.811, Validation Loss: 13.4690\n",
            "Epoch 5/10, Train Loss: 13.375, Validation Loss: 12.9663\n",
            "Epoch 6/10, Train Loss: 12.875, Validation Loss: 12.3879\n",
            "Epoch 7/10, Train Loss: 12.300, Validation Loss: 11.7259\n",
            "Epoch 8/10, Train Loss: 11.642, Validation Loss: 10.9749\n",
            "Epoch 9/10, Train Loss: 10.895, Validation Loss: 10.1337\n",
            "Epoch 10/10, Train Loss: 10.059, Validation Loss: 9.2061\n",
            "Final Validation Loss: 9.2061\n",
            "\n",
            "\n",
            "Training model_NCF_MLP_1 with epochs=10, lr=0.01, wd=0.01\n",
            "Epoch 1/10, Train Loss: 9.137, Validation Loss: 8.8850\n",
            "Epoch 2/10, Train Loss: 8.810, Validation Loss: 8.5894\n",
            "Epoch 3/10, Train Loss: 8.508, Validation Loss: 8.3108\n",
            "Epoch 4/10, Train Loss: 8.222, Validation Loss: 8.0384\n",
            "Epoch 5/10, Train Loss: 7.941, Validation Loss: 7.7616\n",
            "Epoch 6/10, Train Loss: 7.656, Validation Loss: 7.4723\n",
            "Epoch 7/10, Train Loss: 7.358, Validation Loss: 7.1614\n",
            "Epoch 8/10, Train Loss: 7.039, Validation Loss: 6.7371\n",
            "Epoch 9/10, Train Loss: 6.608, Validation Loss: 6.2746\n",
            "Epoch 10/10, Train Loss: 6.140, Validation Loss: 5.7832\n",
            "Final Validation Loss: 5.7832\n",
            "\n",
            "\n",
            "Training model_NCF_MLP_2 with epochs=10, lr=0.01, wd=0\n",
            "Epoch 1/10, Train Loss: 14.328, Validation Loss: 13.3934\n",
            "Epoch 2/10, Train Loss: 13.300, Validation Loss: 12.2392\n",
            "Epoch 3/10, Train Loss: 12.152, Validation Loss: 10.7854\n",
            "Epoch 4/10, Train Loss: 10.706, Validation Loss: 8.9710\n",
            "Epoch 5/10, Train Loss: 8.903, Validation Loss: 6.8489\n",
            "Epoch 6/10, Train Loss: 6.795, Validation Loss: 4.6033\n",
            "Epoch 7/10, Train Loss: 4.567, Validation Loss: 2.5663\n",
            "Epoch 8/10, Train Loss: 2.551, Validation Loss: 1.2403\n",
            "Epoch 9/10, Train Loss: 1.245, Validation Loss: 1.1882\n",
            "Epoch 10/10, Train Loss: 1.203, Validation Loss: 2.3428\n",
            "Final Validation Loss: 2.3428\n",
            "\n",
            "\n",
            "Training model_NCF_MLP_2 with epochs=10, lr=0.01, wd=0.01\n",
            "Epoch 1/10, Train Loss: 2.344, Validation Loss: 0.9557\n",
            "Epoch 2/10, Train Loss: 0.940, Validation Loss: 1.3498\n",
            "Epoch 3/10, Train Loss: 1.319, Validation Loss: 2.1186\n",
            "Epoch 4/10, Train Loss: 2.077, Validation Loss: 2.7182\n",
            "Epoch 5/10, Train Loss: 2.667, Validation Loss: 3.0963\n",
            "Epoch 6/10, Train Loss: 3.035, Validation Loss: 3.3268\n",
            "Epoch 7/10, Train Loss: 3.255, Validation Loss: 3.4600\n",
            "Epoch 8/10, Train Loss: 3.377, Validation Loss: 3.4744\n",
            "Epoch 9/10, Train Loss: 3.380, Validation Loss: 3.4284\n",
            "Epoch 10/10, Train Loss: 3.323, Validation Loss: 3.3218\n",
            "Final Validation Loss: 3.3218\n"
          ]
        }
      ]
    },
    {
      "cell_type": "markdown",
      "metadata": {
        "id": "q573mVcK22rG"
      },
      "source": [
        "### d) Compare your best NCF-GMF and NCF-MLP"
      ]
    },
    {
      "cell_type": "code",
      "execution_count": null,
      "metadata": {
        "id": "bF0YHCSl260Z",
        "colab": {
          "base_uri": "https://localhost:8080/"
        },
        "outputId": "e575ae9b-9c5e-4c26-c66c-f3b274136f0a"
      },
      "outputs": [
        {
          "output_type": "stream",
          "name": "stdout",
          "text": [
            "NCF-GMF validation MSE loss: \n",
            "4.79, 2.62, 1.05, 2.81\n",
            "NCF-MLP validation MSE loss: \n",
            "5.75, 2.19, 9.21, 5.78, 2.34, 3.32\n"
          ]
        }
      ],
      "source": [
        "print(\"NCF-GMF validation MSE loss: \")\n",
        "print(f\"{c1:.2f}, {c2:.2f}, {c3:.2f}, {c4:.2f}\")\n",
        "print(\"NCF-MLP validation MSE loss: \")\n",
        "print(f\"{c5:.2f}, {c6:.2f}, {c7:.2f}, {c8:.2f}, {c9:.2f}, {c10:.2f}\")"
      ]
    },
    {
      "cell_type": "markdown",
      "metadata": {
        "id": "SsrbJN8r272U"
      },
      "source": [
        "Written comments:\n",
        "\n",
        "My best configuration for NCF-GMF is achieving a final validation loss of 1.05 when the model GMF with embedding size 256 and no regularization. My best configuration for NCF-MLP is achieving a final validation loss of 2.19 when model MLP with embedding size 100, hidden layer 10 and with regularization wd 0.01. My best NCF-GMF model achieves a lower validation loss compared to my best NCF-MLP model, offering both simplicity and better validation performance for current dataset.\n",
        "\n",
        "Increasing embedding size from 100 to 256 improved performance for models NCF-GMF as well as NCF-MLP, allowing the models to capture more detailed latent features of users and items.\n",
        "Weight decay helps control overfitting, especially for complex models like NCF_MLP. However, I noticed that when embedding size is 256, regularization hurts the performance for both models. It is probably because that models with larger embedding sizes have greater capacity and over-constraining the models with regularization restrict their ability to learn.\n",
        "More hidden layers make MLP model more complex but have better performance. Smaller hidden layers may lead to underfitting with consistently high losses."
      ]
    },
    {
      "cell_type": "markdown",
      "metadata": {
        "id": "n70Cj_al3FGB"
      },
      "source": [
        "### e) Change ratings to 1 or 0."
      ]
    },
    {
      "cell_type": "code",
      "execution_count": null,
      "metadata": {
        "id": "Cd_Dgz3F3NiL"
      },
      "outputs": [],
      "source": [
        "# YOUR CODE HERE\n",
        "# modify ratings in train and validation data such that any rating greater or equal to 3 is mapped to 1 and any rating less than 3 is mapped to 0\n",
        "df_train['rating'] = np.where(df_train['rating'] >= 3, 1, 0)\n",
        "df_val['rating'] = np.where(df_val['rating'] >= 3, 1, 0)"
      ]
    },
    {
      "cell_type": "code",
      "source": [
        "class MF(nn.Module):\n",
        "    def __init__(self, num_users, num_items, emb_size=100):\n",
        "        super(MF, self).__init__()\n",
        "        self.user_emb = nn.Embedding(num_users, emb_size)\n",
        "        self.item_emb = nn.Embedding(num_items, emb_size)\n",
        "        self.user_emb.weight.data.uniform_(0, 0.05)\n",
        "        self.item_emb.weight.data.uniform_(0, 0.05)\n",
        "\n",
        "    def forward(self, u, v):\n",
        "        u = self.user_emb(u)\n",
        "        v = self.item_emb(v)\n",
        "        return torch.sigmoid((u*v).sum(1))"
      ],
      "metadata": {
        "id": "m171Dil4i-fv"
      },
      "execution_count": null,
      "outputs": []
    },
    {
      "cell_type": "code",
      "source": [
        "class my_NCF_MLP(nn.Module):\n",
        "    def __init__(self, num_users, num_items, emb_size=100, hidden_size=10):\n",
        "        super(my_NCF_MLP, self).__init__()\n",
        "\n",
        "        # YOUR CODE HERE\n",
        "        self.user_emb = nn.Embedding(num_users, emb_size)\n",
        "        self.item_emb = nn.Embedding(num_items, emb_size)\n",
        "        self.user_emb.weight.data.uniform_(0, 0.05)\n",
        "        self.item_emb.weight.data.uniform_(0, 0.05)\n",
        "\n",
        "        # 2 linear layers\n",
        "        self.fc1 = nn.Linear(emb_size * 2, hidden_size)\n",
        "        self.fc2 = nn.Linear(hidden_size, 1)\n",
        "        # relu activation function\n",
        "        self.relu = nn.ReLU()\n",
        "\n",
        "    def forward(self, u, v):\n",
        "\n",
        "        # YOUR CODE HERE\n",
        "        u = self.user_emb(u)\n",
        "        v = self.item_emb(v)\n",
        "        # concatenate embeddings\n",
        "        x = torch.cat([u, v], dim=1)\n",
        "        # pass through dense layers\n",
        "        x = self.relu(self.fc1(x))\n",
        "        x = torch.sigmoid(self.fc2(x))  # Sigmoid for binary classification\n",
        "        # Output shape: (batch_size,)\n",
        "        return x.squeeze()"
      ],
      "metadata": {
        "id": "7xIqFmr1jFl1"
      },
      "execution_count": null,
      "outputs": []
    },
    {
      "cell_type": "code",
      "source": [
        "model_NCF_GMF_1 = MF(num_users, num_items, emb_size=256)\n",
        "model_NCF_MLP_Benchmark = my_NCF_MLP(num_users, num_items, emb_size=100, hidden_size=10)\n",
        "print(\"Training model_NCF_GMF_1 with epochs=10, lr=0.01, wd=0\")\n",
        "c3 = train_epocs(model_NCF_GMF_1, epochs=10, lr=0.01, wd=0)\n",
        "print(\"\\n\")\n",
        "print(\"Training model_NCF_MLP_Benchmark with epochs=10, lr=0.01, wd=0.01\")\n",
        "c6 = train_epocs(model_NCF_MLP_Benchmark, epochs=10, lr=0.01, wd=0.01)\n",
        "print(\"\\n\")"
      ],
      "metadata": {
        "colab": {
          "base_uri": "https://localhost:8080/"
        },
        "id": "nMaawStJjRfB",
        "outputId": "5c799576-761f-4e78-8dda-18d6432caea2"
      },
      "execution_count": null,
      "outputs": [
        {
          "output_type": "stream",
          "name": "stdout",
          "text": [
            "Training model_NCF_GMF_1 with epochs=10, lr=0.01, wd=0\n",
            "Epoch 1/10, Train Loss: 0.227, Validation Loss: 0.2058\n",
            "Epoch 2/10, Train Loss: 0.206, Validation Loss: 0.1833\n",
            "Epoch 3/10, Train Loss: 0.182, Validation Loss: 0.1617\n",
            "Epoch 4/10, Train Loss: 0.159, Validation Loss: 0.1444\n",
            "Epoch 5/10, Train Loss: 0.139, Validation Loss: 0.1335\n",
            "Epoch 6/10, Train Loss: 0.125, Validation Loss: 0.1285\n",
            "Epoch 7/10, Train Loss: 0.117, Validation Loss: 0.1274\n",
            "Epoch 8/10, Train Loss: 0.113, Validation Loss: 0.1281\n",
            "Epoch 9/10, Train Loss: 0.111, Validation Loss: 0.1293\n",
            "Epoch 10/10, Train Loss: 0.109, Validation Loss: 0.1303\n",
            "Final Validation Loss: 0.1303\n",
            "\n",
            "\n",
            "Training model_NCF_MLP_Benchmark with epochs=10, lr=0.01, wd=0.01\n",
            "Epoch 1/10, Train Loss: 0.220, Validation Loss: 0.2117\n",
            "Epoch 2/10, Train Loss: 0.213, Validation Loss: 0.2099\n",
            "Epoch 3/10, Train Loss: 0.212, Validation Loss: 0.2090\n",
            "Epoch 4/10, Train Loss: 0.211, Validation Loss: 0.2082\n",
            "Epoch 5/10, Train Loss: 0.210, Validation Loss: 0.2067\n",
            "Epoch 6/10, Train Loss: 0.208, Validation Loss: 0.2046\n",
            "Epoch 7/10, Train Loss: 0.206, Validation Loss: 0.2021\n",
            "Epoch 8/10, Train Loss: 0.204, Validation Loss: 0.1995\n",
            "Epoch 9/10, Train Loss: 0.202, Validation Loss: 0.1972\n",
            "Epoch 10/10, Train Loss: 0.199, Validation Loss: 0.1951\n",
            "Final Validation Loss: 0.1951\n",
            "\n",
            "\n"
          ]
        }
      ]
    },
    {
      "cell_type": "markdown",
      "metadata": {
        "id": "ZgKSEl313IpU"
      },
      "source": [
        "Written answer:\n",
        "\n",
        "I modified both class of the model using torch.sigmoid since it aligns the output with the new dataset requirements (binary) and makes the model suitable for generating outputs of binary probabilities.\n",
        "The NCF-GMF model maintained a low and stable validation loss, better than MCF-MLP. The NCF-MLP model, while decreased steadily across all epochs, might need more epochs to converge. However, since while the binary ratings significantly reduce the complexity of the output space, make the binary classification task easier. Both models shows better performance than before.  "
      ]
    },
    {
      "cell_type": "markdown",
      "metadata": {
        "id": "92VsrD_siRoW"
      },
      "source": [
        "### f) Hyperparameter tuning with ALS"
      ]
    },
    {
      "cell_type": "code",
      "source": [
        "import pyspark\n",
        "from pyspark.ml.evaluation import RegressionEvaluator\n",
        "from pyspark.ml.recommendation import ALS\n",
        "from pyspark.sql import Row\n",
        "from pyspark import SparkContext, SparkConf\n",
        "# create the session\n",
        "conf = SparkConf()\n",
        "\n",
        "# create the context\n",
        "sc = pyspark.SparkContext(conf=conf)\n",
        "spark = pyspark.sql.SparkSession.builder.getOrCreate()\n",
        "# convert Pandas to Spark DataFrames\n",
        "spark_train = spark.createDataFrame(df_train)\n",
        "spark_val = spark.createDataFrame(df_val)"
      ],
      "metadata": {
        "id": "y1_8Y47_xSYr"
      },
      "execution_count": null,
      "outputs": []
    },
    {
      "cell_type": "code",
      "execution_count": null,
      "metadata": {
        "id": "8KovR5JwiRoW",
        "colab": {
          "base_uri": "https://localhost:8080/"
        },
        "outputId": "56a6da8e-b40e-4ab5-b22a-db0bbf04d01c"
      },
      "outputs": [
        {
          "output_type": "stream",
          "name": "stdout",
          "text": [
            "Params: {'maxIter': 10, 'rank': 10, 'regParam': 0.001}, Training RMSE: 0.18202973453389293\n",
            "Params: {'maxIter': 10, 'rank': 10, 'regParam': 0.001}, Validation RMSE: 0.5166449494225722\n",
            "Params: {'maxIter': 10, 'rank': 10, 'regParam': 0.1}, Training RMSE: 0.30613510757570583\n",
            "Params: {'maxIter': 10, 'rank': 10, 'regParam': 0.1}, Validation RMSE: 0.3619350995949266\n",
            "Params: {'maxIter': 10, 'rank': 5, 'regParam': 0.001}, Training RMSE: 0.24110511048250025\n",
            "Params: {'maxIter': 10, 'rank': 5, 'regParam': 0.001}, Validation RMSE: 0.49450322668700664\n",
            "Params: {'maxIter': 10, 'rank': 5, 'regParam': 0.01}, Training RMSE: 0.24104094312897423\n",
            "Params: {'maxIter': 10, 'rank': 5, 'regParam': 0.01}, Validation RMSE: 0.4029735238466867\n",
            "Params: {'maxIter': 5, 'rank': 10, 'regParam': 0.001}, Training RMSE: 0.19888033600799354\n",
            "Params: {'maxIter': 5, 'rank': 10, 'regParam': 0.001}, Validation RMSE: 0.5056575923152006\n",
            "Params: {'maxIter': 5, 'rank': 10, 'regParam': 0.1}, Training RMSE: 0.3082351511317649\n",
            "Params: {'maxIter': 5, 'rank': 10, 'regParam': 0.1}, Validation RMSE: 0.3633917085347821\n"
          ]
        }
      ],
      "source": [
        "# insprired by Martin Keenan https://github.com/mkeenan195/Movie-Recommender/blob/main/als-model.py\n",
        "# parameter combinations\n",
        "param_grid = [\n",
        "    {\"maxIter\": 10, \"rank\": 10, \"regParam\": 0.001},\n",
        "    {\"maxIter\": 10, \"rank\": 10, \"regParam\": 0.1},\n",
        "    {\"maxIter\": 10, \"rank\": 5, \"regParam\": 0.001},\n",
        "    {\"maxIter\": 10, \"rank\": 5, \"regParam\": 0.01},\n",
        "    {\"maxIter\": 5, \"rank\": 10, \"regParam\": 0.001},\n",
        "    {\"maxIter\": 5, \"rank\": 10, \"regParam\": 0.1}\n",
        "]\n",
        "results = []\n",
        "for params in param_grid:\n",
        "    als = ALS(\n",
        "        maxIter=params[\"maxIter\"],\n",
        "        rank=params[\"rank\"],\n",
        "        regParam=params[\"regParam\"],\n",
        "        userCol=\"userId\",\n",
        "        itemCol=\"movieId\",\n",
        "        ratingCol=\"rating\",\n",
        "        coldStartStrategy=\"drop\"\n",
        "    )\n",
        "    model = als.fit(spark_train)\n",
        "    # Compute *training* RMSE\n",
        "    predictions = model.transform(spark_train)\n",
        "    evaluator = RegressionEvaluator(metricName=\"rmse\", labelCol=\"rating\", predictionCol=\"prediction\")\n",
        "    rmse = evaluator.evaluate(predictions)\n",
        "    results.append((params, rmse))\n",
        "    print(f\"Params: {params}, Training RMSE: {rmse}\")\n",
        "    # Compute *validation* RMSE\n",
        "    predictions = model.transform(spark_val)\n",
        "    evaluator = RegressionEvaluator(metricName=\"rmse\", labelCol=\"rating\", predictionCol=\"prediction\")\n",
        "    rmse = evaluator.evaluate(predictions)\n",
        "    results.append((params, rmse))\n",
        "    print(f\"Params: {params}, Validation RMSE: {rmse}\")"
      ]
    },
    {
      "cell_type": "code",
      "source": [
        "sc.stop()"
      ],
      "metadata": {
        "id": "kUykNGvJk_UR"
      },
      "execution_count": null,
      "outputs": []
    },
    {
      "cell_type": "markdown",
      "metadata": {
        "id": "SNBTASHWiRoW"
      },
      "source": [
        "Written Answer:\n",
        "\n",
        "The maxIter parameter controls the number of iterations the ALS optimization algorithm performs. Increasing it allows for better convergence, as shown in the result, where using maxIter 10 is better than 5. The rank parameter determines the number of latent factors used in matrix factorization. Higher ranks, such as 10,  capture more complex patterns but increase the risk of overfitting. The regParam is the parameter for regularization, which controls overfitting by penalizing the complexity of the model. A smaller regParam, such as 0.001, allows the model to fit the training data closely so that it achieved a lower training RMSE. However, this can lead to poorer generalization with higher validation RMSE. By trying at least 6 hyperparameter combinations, the combination of maxIter = 10, rank = 10, and regParam = 0.1 offers the best validation RMSE (0.3619), showing that the model have better generalization with balancing model complexity and regularization."
      ]
    },
    {
      "cell_type": "markdown",
      "metadata": {
        "id": "cwJOYh9U3PvF"
      },
      "source": [
        "## Q2 - Zero-Shot Text Classification\n",
        "https://huggingface.co/tasks/zero-shot-classification"
      ]
    },
    {
      "cell_type": "code",
      "execution_count": 54,
      "metadata": {
        "id": "qaK2_MN92_UP",
        "colab": {
          "base_uri": "https://localhost:8080/"
        },
        "outputId": "7ffe17e9-447c-4798-d097-5445b4fb0260",
        "collapsed": true
      },
      "outputs": [
        {
          "output_type": "stream",
          "name": "stdout",
          "text": [
            "Requirement already satisfied: transformers in /usr/local/lib/python3.10/dist-packages (4.46.2)\n",
            "Requirement already satisfied: filelock in /usr/local/lib/python3.10/dist-packages (from transformers) (3.16.1)\n",
            "Requirement already satisfied: huggingface-hub<1.0,>=0.23.2 in /usr/local/lib/python3.10/dist-packages (from transformers) (0.26.2)\n",
            "Requirement already satisfied: numpy>=1.17 in /usr/local/lib/python3.10/dist-packages (from transformers) (1.26.4)\n",
            "Requirement already satisfied: packaging>=20.0 in /usr/local/lib/python3.10/dist-packages (from transformers) (24.2)\n",
            "Requirement already satisfied: pyyaml>=5.1 in /usr/local/lib/python3.10/dist-packages (from transformers) (6.0.2)\n",
            "Requirement already satisfied: regex!=2019.12.17 in /usr/local/lib/python3.10/dist-packages (from transformers) (2024.9.11)\n",
            "Requirement already satisfied: requests in /usr/local/lib/python3.10/dist-packages (from transformers) (2.32.3)\n",
            "Requirement already satisfied: safetensors>=0.4.1 in /usr/local/lib/python3.10/dist-packages (from transformers) (0.4.5)\n",
            "Requirement already satisfied: tokenizers<0.21,>=0.20 in /usr/local/lib/python3.10/dist-packages (from transformers) (0.20.3)\n",
            "Requirement already satisfied: tqdm>=4.27 in /usr/local/lib/python3.10/dist-packages (from transformers) (4.66.6)\n",
            "Requirement already satisfied: fsspec>=2023.5.0 in /usr/local/lib/python3.10/dist-packages (from huggingface-hub<1.0,>=0.23.2->transformers) (2024.9.0)\n",
            "Requirement already satisfied: typing-extensions>=3.7.4.3 in /usr/local/lib/python3.10/dist-packages (from huggingface-hub<1.0,>=0.23.2->transformers) (4.12.2)\n",
            "Requirement already satisfied: charset-normalizer<4,>=2 in /usr/local/lib/python3.10/dist-packages (from requests->transformers) (3.4.0)\n",
            "Requirement already satisfied: idna<4,>=2.5 in /usr/local/lib/python3.10/dist-packages (from requests->transformers) (3.10)\n",
            "Requirement already satisfied: urllib3<3,>=1.21.1 in /usr/local/lib/python3.10/dist-packages (from requests->transformers) (2.2.3)\n",
            "Requirement already satisfied: certifi>=2017.4.17 in /usr/local/lib/python3.10/dist-packages (from requests->transformers) (2024.8.30)\n",
            "Requirement already satisfied: datasets in /usr/local/lib/python3.10/dist-packages (3.1.0)\n",
            "Requirement already satisfied: filelock in /usr/local/lib/python3.10/dist-packages (from datasets) (3.16.1)\n",
            "Requirement already satisfied: numpy>=1.17 in /usr/local/lib/python3.10/dist-packages (from datasets) (1.26.4)\n",
            "Requirement already satisfied: pyarrow>=15.0.0 in /usr/local/lib/python3.10/dist-packages (from datasets) (17.0.0)\n",
            "Requirement already satisfied: dill<0.3.9,>=0.3.0 in /usr/local/lib/python3.10/dist-packages (from datasets) (0.3.8)\n",
            "Requirement already satisfied: pandas in /usr/local/lib/python3.10/dist-packages (from datasets) (2.2.2)\n",
            "Requirement already satisfied: requests>=2.32.2 in /usr/local/lib/python3.10/dist-packages (from datasets) (2.32.3)\n",
            "Requirement already satisfied: tqdm>=4.66.3 in /usr/local/lib/python3.10/dist-packages (from datasets) (4.66.6)\n",
            "Requirement already satisfied: xxhash in /usr/local/lib/python3.10/dist-packages (from datasets) (3.5.0)\n",
            "Requirement already satisfied: multiprocess<0.70.17 in /usr/local/lib/python3.10/dist-packages (from datasets) (0.70.16)\n",
            "Requirement already satisfied: fsspec<=2024.9.0,>=2023.1.0 in /usr/local/lib/python3.10/dist-packages (from fsspec[http]<=2024.9.0,>=2023.1.0->datasets) (2024.9.0)\n",
            "Requirement already satisfied: aiohttp in /usr/local/lib/python3.10/dist-packages (from datasets) (3.11.2)\n",
            "Requirement already satisfied: huggingface-hub>=0.23.0 in /usr/local/lib/python3.10/dist-packages (from datasets) (0.26.2)\n",
            "Requirement already satisfied: packaging in /usr/local/lib/python3.10/dist-packages (from datasets) (24.2)\n",
            "Requirement already satisfied: pyyaml>=5.1 in /usr/local/lib/python3.10/dist-packages (from datasets) (6.0.2)\n",
            "Requirement already satisfied: aiohappyeyeballs>=2.3.0 in /usr/local/lib/python3.10/dist-packages (from aiohttp->datasets) (2.4.3)\n",
            "Requirement already satisfied: aiosignal>=1.1.2 in /usr/local/lib/python3.10/dist-packages (from aiohttp->datasets) (1.3.1)\n",
            "Requirement already satisfied: attrs>=17.3.0 in /usr/local/lib/python3.10/dist-packages (from aiohttp->datasets) (24.2.0)\n",
            "Requirement already satisfied: frozenlist>=1.1.1 in /usr/local/lib/python3.10/dist-packages (from aiohttp->datasets) (1.5.0)\n",
            "Requirement already satisfied: multidict<7.0,>=4.5 in /usr/local/lib/python3.10/dist-packages (from aiohttp->datasets) (6.1.0)\n",
            "Requirement already satisfied: propcache>=0.2.0 in /usr/local/lib/python3.10/dist-packages (from aiohttp->datasets) (0.2.0)\n",
            "Requirement already satisfied: yarl<2.0,>=1.17.0 in /usr/local/lib/python3.10/dist-packages (from aiohttp->datasets) (1.17.2)\n",
            "Requirement already satisfied: async-timeout<6.0,>=4.0 in /usr/local/lib/python3.10/dist-packages (from aiohttp->datasets) (4.0.3)\n",
            "Requirement already satisfied: typing-extensions>=3.7.4.3 in /usr/local/lib/python3.10/dist-packages (from huggingface-hub>=0.23.0->datasets) (4.12.2)\n",
            "Requirement already satisfied: charset-normalizer<4,>=2 in /usr/local/lib/python3.10/dist-packages (from requests>=2.32.2->datasets) (3.4.0)\n",
            "Requirement already satisfied: idna<4,>=2.5 in /usr/local/lib/python3.10/dist-packages (from requests>=2.32.2->datasets) (3.10)\n",
            "Requirement already satisfied: urllib3<3,>=1.21.1 in /usr/local/lib/python3.10/dist-packages (from requests>=2.32.2->datasets) (2.2.3)\n",
            "Requirement already satisfied: certifi>=2017.4.17 in /usr/local/lib/python3.10/dist-packages (from requests>=2.32.2->datasets) (2024.8.30)\n",
            "Requirement already satisfied: python-dateutil>=2.8.2 in /usr/local/lib/python3.10/dist-packages (from pandas->datasets) (2.8.2)\n",
            "Requirement already satisfied: pytz>=2020.1 in /usr/local/lib/python3.10/dist-packages (from pandas->datasets) (2024.2)\n",
            "Requirement already satisfied: tzdata>=2022.7 in /usr/local/lib/python3.10/dist-packages (from pandas->datasets) (2024.2)\n",
            "Requirement already satisfied: six>=1.5 in /usr/local/lib/python3.10/dist-packages (from python-dateutil>=2.8.2->pandas->datasets) (1.16.0)\n"
          ]
        }
      ],
      "source": [
        "!pip install transformers\n",
        "!pip install datasets"
      ]
    },
    {
      "cell_type": "code",
      "execution_count": 55,
      "metadata": {
        "id": "L9h9p5PA3d6d"
      },
      "outputs": [],
      "source": [
        "from transformers import pipeline\n",
        "from sklearn.metrics import accuracy_score, f1_score\n",
        "from datasets import Dataset"
      ]
    },
    {
      "cell_type": "markdown",
      "metadata": {
        "id": "_C7EdFWC3gsC"
      },
      "source": [
        "### Data"
      ]
    },
    {
      "cell_type": "code",
      "execution_count": 56,
      "metadata": {
        "id": "9ozuDWMq3ha9",
        "colab": {
          "base_uri": "https://localhost:8080/"
        },
        "outputId": "e7b3b067-d908-483d-a34c-bc69ee3757d7"
      },
      "outputs": [
        {
          "output_type": "stream",
          "name": "stdout",
          "text": [
            "Size of data: 51268\n",
            "Size of downsampled data: 999\n"
          ]
        }
      ],
      "source": [
        "arxiv_data = pd.read_csv('q2-arxiv-metadata-oai-snapshot-small.csv', index_col = 0)\n",
        "print(f'Size of data: {len(arxiv_data)}')\n",
        "# find smallest category\n",
        "min_samples_per_category = arxiv_data['first_category_english'].value_counts().min()\n",
        "# make new df to store balanced data sample\n",
        "balanced_sample = pd.DataFrame()\n",
        "# go thru category and add random sample to new df\n",
        "for category, group in arxiv_data.groupby('first_category_english'):\n",
        "    balanced_sample = pd.concat([balanced_sample, group.sample(min_samples_per_category, random_state=42)])\n",
        "print(f'Size of downsampled data: {len(balanced_sample)}')\n",
        "# convert to huggingface dataset for faster processing\n",
        "balanced_sample = Dataset.from_pandas(balanced_sample)\n",
        "\n",
        "candidate_labels = list(set(balanced_sample['first_category_english']))"
      ]
    },
    {
      "cell_type": "markdown",
      "metadata": {
        "id": "sEW3pcLw4a_A"
      },
      "source": [
        "### a) Precict categories and compute performance"
      ]
    },
    {
      "cell_type": "code",
      "execution_count": 57,
      "metadata": {
        "id": "Q4i069n03yMi"
      },
      "outputs": [],
      "source": [
        "pipe = pipeline(model=\"facebook/bart-large-mnli\",device = 0)"
      ]
    },
    {
      "cell_type": "code",
      "source": [
        "def predict_category(batch):\n",
        "  result = pipe(batch['title'], candidate_labels=candidate_labels)\n",
        "  batch['predicted_category'] = result['labels'][0]\n",
        "  return batch\n",
        "\n",
        "# using map to predict category\n",
        "balanced_sample = balanced_sample.map(predict_category, batched=False)"
      ],
      "metadata": {
        "colab": {
          "base_uri": "https://localhost:8080/",
          "height": 49,
          "referenced_widgets": [
            "9ed8015585284df7969584cf481788f1",
            "c5c0a9f9f1e74e58a0282b73d3ecb0e5",
            "077983254e9641bd9f934c8bdb039bfa",
            "dbac88d95c354a6499966b20757df4cf",
            "b2dd1a6f3628446c94cf4a08e771ab18",
            "9f8bda1704ea4f57b20b1a1274e8be08",
            "7d510e2499bd46abac05690911559061",
            "97066a558c3f4698b654c7c5860e35fe",
            "df35cf1bbdc7431ebe06157ad3f2fe4b",
            "318c79fed96445df8ad3ce3f17934019",
            "0f05cad3be8f4041bd7898dde8747b11"
          ]
        },
        "id": "I1nDV6G4l7Px",
        "outputId": "23a0f7b9-c0fa-405b-9c03-0a90fd728fa3"
      },
      "execution_count": 61,
      "outputs": [
        {
          "output_type": "display_data",
          "data": {
            "text/plain": [
              "Map:   0%|          | 0/999 [00:00<?, ? examples/s]"
            ],
            "application/vnd.jupyter.widget-view+json": {
              "version_major": 2,
              "version_minor": 0,
              "model_id": "9ed8015585284df7969584cf481788f1"
            }
          },
          "metadata": {}
        }
      ]
    },
    {
      "cell_type": "code",
      "source": [
        "true_categories = balanced_sample['first_category_english']\n",
        "predicted_categories = balanced_sample['predicted_category']\n",
        "\n",
        "accuracy = accuracy_score(true_categories, predicted_categories)\n",
        "f1 = f1_score(true_categories, predicted_categories, average='weighted')\n",
        "\n",
        "print(f\"Accuracy: {accuracy:.4f}\")\n",
        "print(f\"F1 Score: {f1:.4f}\")"
      ],
      "metadata": {
        "colab": {
          "base_uri": "https://localhost:8080/"
        },
        "id": "L7TLH1vgrQTk",
        "outputId": "a70738d9-0e55-40c3-f537-0bfb52ccd394"
      },
      "execution_count": 63,
      "outputs": [
        {
          "output_type": "stream",
          "name": "stdout",
          "text": [
            "Accuracy: 0.1652\n",
            "F1 Score: 0.1575\n"
          ]
        }
      ]
    },
    {
      "cell_type": "markdown",
      "metadata": {
        "id": "6qMKl2M94idV"
      },
      "source": [
        "### b) Poor performing categories"
      ]
    },
    {
      "cell_type": "code",
      "execution_count": 64,
      "metadata": {
        "id": "-VsykOj64h9G",
        "colab": {
          "base_uri": "https://localhost:8080/"
        },
        "outputId": "6467173f-4ab2-40c0-8b63-1a5d5f4d43fb"
      },
      "outputs": [
        {
          "output_type": "stream",
          "name": "stdout",
          "text": [
            "                                                 precision    recall  f1-score   support\n",
            "\n",
            "        Computer Vision and Pattern Recognition       0.03      0.03      0.03        37\n",
            "                          Emerging Technologies       0.20      0.24      0.22        37\n",
            "                          Programming Languages       0.09      0.24      0.13        37\n",
            "                             Information Theory       0.00      0.00      0.00        37\n",
            "                       Computation and Language       0.62      0.14      0.22        37\n",
            "                Social and Information Networks       0.33      0.03      0.05        37\n",
            "               Computer Science and Game Theory       0.00      0.00      0.00        37\n",
            "                          Mathematical Software       0.39      0.19      0.25        37\n",
            "                       Computational Complexity       0.18      0.19      0.19        37\n",
            "Computational Engineering, Finance, and Science       0.86      0.16      0.27        37\n",
            "                                       Robotics       0.08      0.05      0.06        37\n",
            "                                      Databases       0.50      0.05      0.10        37\n",
            "                               Machine Learning       0.09      0.30      0.14        37\n",
            "                        Artificial Intelligence       0.50      0.03      0.05        37\n",
            "                     Human-Computer Interaction       0.14      0.27      0.19        37\n",
            "   Distributed, Parallel, and Cluster Computing       0.07      0.14      0.10        37\n",
            "                 Data Structures and Algorithms       0.25      0.03      0.05        37\n",
            "                             Numerical Analysis       0.14      0.51      0.22        37\n",
            "                           Discrete Mathematics       0.33      0.32      0.33        37\n",
            "                          Computers and Society       0.60      0.16      0.26        37\n",
            "                           Software Engineering       0.13      0.05      0.08        37\n",
            "              Neural and Evolutionary Computing       0.00      0.00      0.00        37\n",
            "           Formal Languages and Automata Theory       0.46      0.16      0.24        37\n",
            "                          Information Retrieval       0.56      0.59      0.58        37\n",
            "                      Cryptography and Security       0.50      0.16      0.24        37\n",
            "                           Symbolic Computation       0.38      0.08      0.13        37\n",
            "                         Other Computer Science       0.08      0.32      0.12        37\n",
            "\n",
            "                                       accuracy                           0.17       999\n",
            "                                      macro avg       0.28      0.17      0.16       999\n",
            "                                   weighted avg       0.28      0.17      0.16       999\n",
            "\n"
          ]
        },
        {
          "output_type": "stream",
          "name": "stderr",
          "text": [
            "/usr/local/lib/python3.10/dist-packages/sklearn/metrics/_classification.py:1531: UndefinedMetricWarning: Precision is ill-defined and being set to 0.0 in labels with no predicted samples. Use `zero_division` parameter to control this behavior.\n",
            "  _warn_prf(average, modifier, f\"{metric.capitalize()} is\", len(result))\n",
            "/usr/local/lib/python3.10/dist-packages/sklearn/metrics/_classification.py:1531: UndefinedMetricWarning: Precision is ill-defined and being set to 0.0 in labels with no predicted samples. Use `zero_division` parameter to control this behavior.\n",
            "  _warn_prf(average, modifier, f\"{metric.capitalize()} is\", len(result))\n",
            "/usr/local/lib/python3.10/dist-packages/sklearn/metrics/_classification.py:1531: UndefinedMetricWarning: Precision is ill-defined and being set to 0.0 in labels with no predicted samples. Use `zero_division` parameter to control this behavior.\n",
            "  _warn_prf(average, modifier, f\"{metric.capitalize()} is\", len(result))\n"
          ]
        }
      ],
      "source": [
        "from sklearn.metrics import classification_report\n",
        "\n",
        "# classification report to analyze category-wise performance\n",
        "report = classification_report(true_categories, predicted_categories, target_names=candidate_labels)\n",
        "print(report)"
      ]
    },
    {
      "cell_type": "markdown",
      "metadata": {
        "id": "6PCROGaW4o7-"
      },
      "source": [
        "Written answer:\n",
        "\n",
        "The facebook/bart-large-mnli model might perform poorly due to category overlap and unclear distinctions between some labels. For example, Information Theory category have that precision, recall, and F1-score are all 0.00. Information Theory is a board field, and the model might match the paper into a more specific field. The model also depends heavily on how labels are phrased, so the titles may be too short and not match the content well. Also, the bart model is pre-trained on natural language and might not handle technical terms in computer science effectively.\n",
        "\n",
        "Using a hypothesis template can help the model align better with the text by providing a more structured prompt. For example, writing \"hypothesis template = \"This scholarly articles is about {}.\"\" makes the task more explicit. Also, enabling multi-label classification allows the model to assign multiple categories to one text, which is useful when the text covers overlapping topics. These changes can make the predictions more accurate and better suited for technical classifications."
      ]
    },
    {
      "cell_type": "markdown",
      "metadata": {
        "id": "CrojPlx-40ZA"
      },
      "source": [
        "### c) Evaluate different language models"
      ]
    },
    {
      "cell_type": "code",
      "execution_count": 28,
      "metadata": {
        "id": "x41s62Jk4qo-",
        "colab": {
          "base_uri": "https://localhost:8080/",
          "height": 291,
          "referenced_widgets": [
            "050146b285154278b92002dd3c052eba",
            "b43390a083524129ad7effeeb47745dc",
            "b8bcf47b9a234c8abb138f81ad9c39df",
            "3c515bcad38146ccad15363a6833371c",
            "e6c2ce11f2f54b0386bae23ab70bf91c",
            "68b5372f94224533a95838457d100bda",
            "0079230985214fc4b1f36a6ff888ace0",
            "a66de8f7bcc54112b3018721d49bf1f5",
            "69726e0f764842ef81385a02bad300d6",
            "99e9f18de37941729ba0055c42d27b2e",
            "879dd3cda5ca4966816ed08cf19eae42",
            "638c97ad7d71447dab1ae236a83758c5",
            "4af14b559e7c44dfa78c20141a4b7541",
            "1875d1b0693f47e196468dfcb2bcee52",
            "cb3365c6362f4f0197ed8818c820fd10",
            "990731eca7ce48a296bc2285f0cb5b47",
            "d86963c900044759b58eb1fc08584514",
            "db40bef2ce9f46879418b042512fa44b",
            "d51c7aa0921241c390f4b5490c48e807",
            "f2059859fdc841939d184a7121c281d6",
            "e17e480e4c6641af952f8c32f2c6f47a",
            "9fba4a901e334003be0b27e4331b1885",
            "c0f65d6a29f247a48a64195526becb07",
            "aba5102a17ca41ea8acb892361c5fa8d",
            "cf5c606801ad4a7a9c0d8ba949695e40",
            "90f60d441f254d63b72e14c4f675ee2e",
            "b5c1ac66661e4a1094e895de859a0a8f",
            "8ce3ba8ca98942188b7fa7bba0c33e18",
            "cf1432328b2745d4956af08b4f5b56d2",
            "410e7ae836d9468c8038b59267e2fd3b",
            "c534958de7b34afb90db7e31bf719b2c",
            "eea27765d852458dad9700c1a1496830",
            "a0a1b67fde684c3580aad1630127a945",
            "7081f1bb0bd147a6ad63a0b268133d96",
            "ef39f4b5026d4abeb088ca729428a514",
            "1e535331ee0142719ed6252676dc887c",
            "7e7b6f73548f4de6831a461d5fec99a7",
            "2a771762bcf24353b4c1dc3ca5e3f001",
            "334f1324285240b580de50ef1ee54443",
            "7ee29bbb4425491fa64389fdc2aad0d4",
            "15924c1598044fc3a457b8fee95dc59b",
            "746aa369d2fa46ef9768a1e94af2067a",
            "219f223841ae47429e4001a0fabdb920",
            "fecc82894d574cf1bc956d5efc92f116",
            "cbbc1b34c2a04078abbd42abb0c8333e",
            "629b666cf35c433e8c9d15058a633c2f",
            "3a3387ad51a849cbae2952410ec5ab31",
            "58386e5c207f42219f588f1f5aa4e5e8",
            "8f7f6582e6bf40aba56506b9558b7391",
            "94ee5b3f28164dfea0ecd9ba2e5a0e52",
            "cafc1a2141b649a6af55d4277992b740",
            "0a357143ca5941b1855296adbf9fa2a8",
            "0a5dccd42aa84e5d9ad72f75db119127",
            "47e5f70259d742dcb5f56d8e2c630b18",
            "e146be70762c463fa05f91fa700e4958",
            "6f8a24c4c1d44fd097e9b1816587cdae",
            "80cc3c40ddf844b1a85dfaab12bbd29d",
            "ccf07389cad241239dd095710617aec5",
            "d3d518d2590543a4aa250ea058a959cd",
            "080fe304f5624211af9f2b30416407df",
            "9453d221dbc94f5c8a8d7e4de0a1f9c5",
            "42da3e59246e46d2b698914d9faac9cc",
            "3987189e9dfb461db1593c4ad219c04d",
            "2af77223d39846a98d45e838a6d9a9ad",
            "dea86525e1c44055bd3bfa6a8b13c9fb",
            "209406e0cae14649a23699f932179ca0",
            "bd589169d7db40c9b3d477277d01f4de",
            "657bb19eecc54f2e8b2fe4c21f0f381e",
            "f04f83297f2c42d3a488f333f8ce507c",
            "16efcaacb772403dbceef7fbb3d5cecb",
            "e68f60e21e27479bb130924cf0079575",
            "0fe0b1eaece54ce499064a1024e60779",
            "fb1fb751b68f4135bf0a6e398fe1348a",
            "378061433f9143e08c52f4f65ec149a3",
            "dca97be486e547a3a05b9a8bc2fd3ab7",
            "d02dce24e9c94893b8d7f7185872e352",
            "1833ec8fdac44a10adbcc758ecf67701",
            "a7696b4b634e44ecbcc02dd8059edc41",
            "bfc01c3fe2fd450996dcdb313fb16631",
            "9e4da7a396f5437494c5f86b000cb01a",
            "89a1e808276a4a7db62fe0b23bc3335c",
            "4c9a77d5cf2e491a94208dcf93603807",
            "fe9c2846db91448c9c5bbea224dca5db",
            "bd2c00affb8348a69b6bb0935a1fab07",
            "b21696e50f354a1cb3b28f3f10c0f1d5",
            "2c8add9792f3419fb0d209291d5cee22",
            "dd8e0221f56a470e9a380a4dd5f14cea",
            "ad66636770c0461db7bb137e0c442e42"
          ]
        },
        "outputId": "d34229e8-66de-4490-c4bc-0816e7b112fa"
      },
      "outputs": [
        {
          "output_type": "display_data",
          "data": {
            "text/plain": [
              "config.json:   0%|          | 0.00/1.09k [00:00<?, ?B/s]"
            ],
            "application/vnd.jupyter.widget-view+json": {
              "version_major": 2,
              "version_minor": 0,
              "model_id": "050146b285154278b92002dd3c052eba"
            }
          },
          "metadata": {}
        },
        {
          "output_type": "display_data",
          "data": {
            "text/plain": [
              "model.safetensors:   0%|          | 0.00/369M [00:00<?, ?B/s]"
            ],
            "application/vnd.jupyter.widget-view+json": {
              "version_major": 2,
              "version_minor": 0,
              "model_id": "638c97ad7d71447dab1ae236a83758c5"
            }
          },
          "metadata": {}
        },
        {
          "output_type": "display_data",
          "data": {
            "text/plain": [
              "tokenizer_config.json:   0%|          | 0.00/1.28k [00:00<?, ?B/s]"
            ],
            "application/vnd.jupyter.widget-view+json": {
              "version_major": 2,
              "version_minor": 0,
              "model_id": "c0f65d6a29f247a48a64195526becb07"
            }
          },
          "metadata": {}
        },
        {
          "output_type": "display_data",
          "data": {
            "text/plain": [
              "spm.model:   0%|          | 0.00/2.46M [00:00<?, ?B/s]"
            ],
            "application/vnd.jupyter.widget-view+json": {
              "version_major": 2,
              "version_minor": 0,
              "model_id": "7081f1bb0bd147a6ad63a0b268133d96"
            }
          },
          "metadata": {}
        },
        {
          "output_type": "display_data",
          "data": {
            "text/plain": [
              "tokenizer.json:   0%|          | 0.00/8.66M [00:00<?, ?B/s]"
            ],
            "application/vnd.jupyter.widget-view+json": {
              "version_major": 2,
              "version_minor": 0,
              "model_id": "cbbc1b34c2a04078abbd42abb0c8333e"
            }
          },
          "metadata": {}
        },
        {
          "output_type": "display_data",
          "data": {
            "text/plain": [
              "added_tokens.json:   0%|          | 0.00/23.0 [00:00<?, ?B/s]"
            ],
            "application/vnd.jupyter.widget-view+json": {
              "version_major": 2,
              "version_minor": 0,
              "model_id": "6f8a24c4c1d44fd097e9b1816587cdae"
            }
          },
          "metadata": {}
        },
        {
          "output_type": "display_data",
          "data": {
            "text/plain": [
              "special_tokens_map.json:   0%|          | 0.00/286 [00:00<?, ?B/s]"
            ],
            "application/vnd.jupyter.widget-view+json": {
              "version_major": 2,
              "version_minor": 0,
              "model_id": "bd589169d7db40c9b3d477277d01f4de"
            }
          },
          "metadata": {}
        },
        {
          "output_type": "display_data",
          "data": {
            "text/plain": [
              "Map:   0%|          | 0/999 [00:00<?, ? examples/s]"
            ],
            "application/vnd.jupyter.widget-view+json": {
              "version_major": 2,
              "version_minor": 0,
              "model_id": "a7696b4b634e44ecbcc02dd8059edc41"
            }
          },
          "metadata": {}
        },
        {
          "output_type": "stream",
          "name": "stderr",
          "text": [
            "Asking to truncate to max_length but no maximum length is provided and the model has no predefined maximum length. Default to no truncation.\n"
          ]
        }
      ],
      "source": [
        "pipe = pipeline(model=\"MoritzLaurer/DeBERTa-v3-base-mnli-fever-anli\",device = 0)\n",
        "balanced_sample = balanced_sample.map(predict_category, batched=False)"
      ]
    },
    {
      "cell_type": "code",
      "source": [
        "true_categories = balanced_sample['first_category_english']\n",
        "predicted_categories = balanced_sample['predicted_category']\n",
        "\n",
        "accuracy = accuracy_score(true_categories, predicted_categories)\n",
        "f1 = f1_score(true_categories, predicted_categories, average='weighted')\n",
        "\n",
        "print(f\"Accuracy MoritzLaurer/DeBERTa-v3-base-mnli-fever-anli: {accuracy:.4f}\")\n",
        "print(f\"F1 Score MoritzLaurer/DeBERTa-v3-base-mnli-fever-anli: {f1:.4f}\")"
      ],
      "metadata": {
        "colab": {
          "base_uri": "https://localhost:8080/"
        },
        "id": "k8YhCm-kr4T9",
        "outputId": "3d1e83a7-491c-4950-f88b-1c34b38c8f09"
      },
      "execution_count": 29,
      "outputs": [
        {
          "output_type": "stream",
          "name": "stdout",
          "text": [
            "Accuracy MoritzLaurer/DeBERTa-v3-base-mnli-fever-anli: 0.1902\n",
            "F1 Score MoritzLaurer/DeBERTa-v3-base-mnli-fever-anli: 0.1849\n"
          ]
        }
      ]
    },
    {
      "cell_type": "code",
      "source": [
        "pipe = pipeline(model=\"MoritzLaurer/multilingual-MiniLMv2-L6-mnli-xnli\",device = 0)\n",
        "balanced_sample = balanced_sample.map(predict_category, batched=False)"
      ],
      "metadata": {
        "colab": {
          "base_uri": "https://localhost:8080/",
          "height": 49,
          "referenced_widgets": [
            "5a6308b961c44595830cf3e378c65aa9",
            "800fefacb1e8405cbdb25b4a45be2eb6",
            "a6789721629c42cba38a872c5480c49f",
            "c67ad1f8b38847f5a3e85e32152ef125",
            "63f4bf8aa14643229d49a3afaafec168",
            "6ae253d1054a44818dba30c4ebfb6cd5",
            "74ee053abcba4353a91a77c394a4be7c",
            "7f61917b4755438a8c05b65aa3a300a2",
            "d9ead1e860fc41d0a55646c792dfd863",
            "0d33111544754779946c928c5bec4587",
            "c9887b75e05244df8df9fb6ffdff11ea"
          ]
        },
        "id": "7rRbAferryBT",
        "outputId": "4ca8a279-e1b0-4972-81b7-c3c31bda47fe"
      },
      "execution_count": 65,
      "outputs": [
        {
          "output_type": "display_data",
          "data": {
            "text/plain": [
              "Map:   0%|          | 0/999 [00:00<?, ? examples/s]"
            ],
            "application/vnd.jupyter.widget-view+json": {
              "version_major": 2,
              "version_minor": 0,
              "model_id": "5a6308b961c44595830cf3e378c65aa9"
            }
          },
          "metadata": {}
        }
      ]
    },
    {
      "cell_type": "code",
      "source": [
        "true_categories = balanced_sample['first_category_english']\n",
        "predicted_categories = balanced_sample['predicted_category']\n",
        "\n",
        "accuracy = accuracy_score(true_categories, predicted_categories)\n",
        "f1 = f1_score(true_categories, predicted_categories, average='weighted')\n",
        "\n",
        "print(f\"Accuracy MoritzLaurer/multilingual-MiniLMv2-L6-mnli-xnli: {accuracy:.4f}\")\n",
        "print(f\"F1 Score MoritzLaurer/multilingual-MiniLMv2-L6-mnli-xnli: {f1:.4f}\")"
      ],
      "metadata": {
        "colab": {
          "base_uri": "https://localhost:8080/"
        },
        "id": "N2VVP0h-sB0F",
        "outputId": "01ded794-f9ba-4180-f41d-af4a5aea46fa"
      },
      "execution_count": 66,
      "outputs": [
        {
          "output_type": "stream",
          "name": "stdout",
          "text": [
            "Accuracy MoritzLaurer/multilingual-MiniLMv2-L6-mnli-xnli: 0.0981\n",
            "F1 Score MoritzLaurer/multilingual-MiniLMv2-L6-mnli-xnli: 0.0818\n"
          ]
        }
      ]
    },
    {
      "cell_type": "markdown",
      "metadata": {
        "id": "VqnDEqxw47G9"
      },
      "source": [
        "Written answer:\n",
        "\n",
        "DeBERTa-v3-base-mnli-fever-anli is the best model with an accuracy of 0.1902 and an F1 score of 0.1849. It has stronger contextual understanding and pretrained on the MultiNLI, Fever-NLI and Adversarial-NLI (ANLI) datasets. The facebook/bart-large-mnli model does moderately well, with an accuracy of 0.1652 and an F1 score of 0.1575. The multilingual-MiniLMv2-L6-mnli-xnl model has highest inference speed so it is expected to have poor performance. Also, multilingual-MiniLMv2-L6-mnli-xnl focuses on multilingual tasks more than the other 2 models. However, these models performances are not well enough, possibly because the weakness of classification on similar technical terms."
      ]
    },
    {
      "cell_type": "markdown",
      "metadata": {
        "id": "XEcL2SxsGaZy"
      },
      "source": [
        "### d) Repear parts a) and b) with the abstracts"
      ]
    },
    {
      "cell_type": "code",
      "execution_count": 33,
      "metadata": {
        "id": "rTaHNX4OGfgE",
        "colab": {
          "base_uri": "https://localhost:8080/",
          "height": 49,
          "referenced_widgets": [
            "28139b4a69984ab393cf2146b3e95e08",
            "2517d9990da14ac28bf1748846884870",
            "a1636c8bd1354e8ab7acd0399026d588",
            "5e83c56b18f44b06b0f318e4be0b0473",
            "b8443e4d41854bbca8d1ec33939eafb9",
            "c97676a805764ebdac2c80e74fbbc78e",
            "5c6e84656b7949c0a0cdf0413bf69bee",
            "73c53085e2954ae48354d8d32773543c",
            "93930e9fcbb74f2baeca0f28402bc25a",
            "a0b27be36eaa4f5388017c86b4c444d5",
            "c74b8817e14e49d1b75f162dedc28ac8"
          ]
        },
        "outputId": "79e4a4e7-eebb-4a80-9d8b-aa1225754066"
      },
      "outputs": [
        {
          "output_type": "display_data",
          "data": {
            "text/plain": [
              "Map:   0%|          | 0/999 [00:00<?, ? examples/s]"
            ],
            "application/vnd.jupyter.widget-view+json": {
              "version_major": 2,
              "version_minor": 0,
              "model_id": "28139b4a69984ab393cf2146b3e95e08"
            }
          },
          "metadata": {}
        }
      ],
      "source": [
        "pipe = pipeline(model=\"facebook/bart-large-mnli\",device = 0)\n",
        "\n",
        "def predict_category(batch):\n",
        "  result = pipe(batch['abstract'], candidate_labels=candidate_labels)\n",
        "  batch['predicted_category'] = result['labels'][0]\n",
        "  return batch\n",
        "\n",
        "# using map to predict category\n",
        "balanced_sample = balanced_sample.map(predict_category, batched=False)"
      ]
    },
    {
      "cell_type": "code",
      "source": [
        "true_categories = balanced_sample['first_category_english']\n",
        "predicted_categories = balanced_sample['predicted_category']\n",
        "\n",
        "accuracy = accuracy_score(true_categories, predicted_categories)\n",
        "f1 = f1_score(true_categories, predicted_categories, average='weighted')\n",
        "\n",
        "print(f\"Accuracy: {accuracy:.4f}\")\n",
        "print(f\"F1 Score: {f1:.4f}\")\n",
        "\n",
        "# classification report to analyze category-wise performance\n",
        "report = classification_report(true_categories, predicted_categories, target_names=candidate_labels)\n",
        "print(report)"
      ],
      "metadata": {
        "colab": {
          "base_uri": "https://localhost:8080/"
        },
        "id": "b1zgjDF_tBLi",
        "outputId": "27ee7829-5aec-454d-9b1e-b6f217684266"
      },
      "execution_count": 34,
      "outputs": [
        {
          "output_type": "stream",
          "name": "stdout",
          "text": [
            "Accuracy: 0.1582\n",
            "F1 Score: 0.1648\n",
            "                                                 precision    recall  f1-score   support\n",
            "\n",
            "        Computer Vision and Pattern Recognition       0.10      0.08      0.09        37\n",
            "                          Emerging Technologies       0.18      0.22      0.20        37\n",
            "                          Programming Languages       0.05      0.32      0.08        37\n",
            "                             Information Theory       0.00      0.00      0.00        37\n",
            "                       Computation and Language       1.00      0.11      0.20        37\n",
            "                Social and Information Networks       0.00      0.00      0.00        37\n",
            "               Computer Science and Game Theory       0.00      0.00      0.00        37\n",
            "                          Mathematical Software       0.89      0.22      0.35        37\n",
            "                       Computational Complexity       0.50      0.08      0.14        37\n",
            "Computational Engineering, Finance, and Science       0.58      0.19      0.29        37\n",
            "                                       Robotics       0.22      0.05      0.09        37\n",
            "                                      Databases       0.67      0.05      0.10        37\n",
            "                               Machine Learning       0.19      0.22      0.20        37\n",
            "                        Artificial Intelligence       1.00      0.08      0.15        37\n",
            "                     Human-Computer Interaction       0.44      0.30      0.35        37\n",
            "   Distributed, Parallel, and Cluster Computing       0.14      0.11      0.12        37\n",
            "                 Data Structures and Algorithms       0.00      0.00      0.00        37\n",
            "                             Numerical Analysis       0.14      0.70      0.24        37\n",
            "                           Discrete Mathematics       0.60      0.24      0.35        37\n",
            "                          Computers and Society       0.20      0.03      0.05        37\n",
            "                           Software Engineering       0.06      0.14      0.09        37\n",
            "              Neural and Evolutionary Computing       0.05      0.16      0.07        37\n",
            "           Formal Languages and Automata Theory       0.63      0.32      0.43        37\n",
            "                          Information Retrieval       0.68      0.41      0.51        37\n",
            "                      Cryptography and Security       0.60      0.08      0.14        37\n",
            "                           Symbolic Computation       0.50      0.08      0.14        37\n",
            "                         Other Computer Science       0.09      0.08      0.09        37\n",
            "\n",
            "                                       accuracy                           0.16       999\n",
            "                                      macro avg       0.35      0.16      0.16       999\n",
            "                                   weighted avg       0.35      0.16      0.16       999\n",
            "\n"
          ]
        },
        {
          "output_type": "stream",
          "name": "stderr",
          "text": [
            "/usr/local/lib/python3.10/dist-packages/sklearn/metrics/_classification.py:1531: UndefinedMetricWarning: Precision is ill-defined and being set to 0.0 in labels with no predicted samples. Use `zero_division` parameter to control this behavior.\n",
            "  _warn_prf(average, modifier, f\"{metric.capitalize()} is\", len(result))\n",
            "/usr/local/lib/python3.10/dist-packages/sklearn/metrics/_classification.py:1531: UndefinedMetricWarning: Precision is ill-defined and being set to 0.0 in labels with no predicted samples. Use `zero_division` parameter to control this behavior.\n",
            "  _warn_prf(average, modifier, f\"{metric.capitalize()} is\", len(result))\n",
            "/usr/local/lib/python3.10/dist-packages/sklearn/metrics/_classification.py:1531: UndefinedMetricWarning: Precision is ill-defined and being set to 0.0 in labels with no predicted samples. Use `zero_division` parameter to control this behavior.\n",
            "  _warn_prf(average, modifier, f\"{metric.capitalize()} is\", len(result))\n"
          ]
        }
      ]
    },
    {
      "cell_type": "markdown",
      "metadata": {
        "id": "8o0YdJ3OGh3V"
      },
      "source": [
        "Written asnwer:"
      ]
    },
    {
      "cell_type": "markdown",
      "metadata": {
        "id": "L0Bh4tTOG-2-"
      },
      "source": [
        "Using the abstract instead of the title with the facebook/bart-large-mnli model resulted in slightly lower performance, with an accuracy of 0.1582 and F1-score of 0.1648 compared to the previous results of 0.1652 and 0.1575 respectively. However, the differences are minor overall. The abstracts may add more context subject so that some subjects like \"Formal Languages and Automata Theory\" increase the F1 score. F1 scores for some subjects like \" Cryptography and Security\" drops, which indicates that the additional texts also introduce noise, depending on the clarity and specificity of the abstract's content. I think the additional context in the abstract might confuse the model for categories with overlapping semantics."
      ]
    },
    {
      "cell_type": "markdown",
      "metadata": {
        "id": "roRQOgoGGjuR"
      },
      "source": [
        "### e) Change labels to long descriptions"
      ]
    },
    {
      "cell_type": "code",
      "execution_count": 71,
      "metadata": {
        "id": "NuhaR029Giye"
      },
      "outputs": [],
      "source": [
        "categories_dict = {\n",
        "    'cs.AI': 'Covers all areas of AI except Vision, Robotics, Machine Learning, Multiagent Systems, and Computation and Language (Natural Language Processing), which have separate subject areas. In particular, includes Expert Systems, Theorem Proving (although this may overlap with Logic in Computer Science), Knowledge Representation, Planning, and Uncertainty in AI. Roughly includes material in ACM Subject Classes I.2.0, I.2.1, I.2.3, I.2.4, I.2.8, and I.2.11.',\n",
        "    'cs.AR': 'Covers systems organization and hardware architecture. Roughly includes material in ACM Subject Classes C.0, C.1, and C.5.',\n",
        "    'cs.CC': 'Covers models of computation, complexity classes, structural complexity, complexity tradeoffs, upper and lower bounds. Roughly includes material in ACM Subject Classes F.1 (computation by abstract devices), F.2.3 (tradeoffs among complexity measures), and F.4.3 (formal languages), although some material in formal languages may be more appropriate for Logic in Computer Science. Some material in F.2.1 and F.2.2, may also be appropriate here, but is more likely to have Data Structures and Algorithms as the primary subject area.',\n",
        "    'cs.CE': 'Covers applications of computer science to the mathematical modeling of complex systems in the fields of science, engineering, and finance. Papers here are interdisciplinary and applications-oriented, focusing on techniques and tools that enable challenging computational simulations to be performed, for which the use of supercomputers or distributed computing platforms is often required. Includes material in ACM Subject Classes J.2, J.3, and J.4 (economics).',\n",
        "    'cs.CG': 'Roughly includes material in ACM Subject Classes I.3.5 and F.2.2.',\n",
        "    'cs.CL': 'Covers natural language processing. Roughly includes material in ACM Subject Class I.2.7. Note that work on artificial languages (programming languages, logics, formal systems) that does not explicitly address natural-language issues broadly construed (natural-language processing, computational linguistics, speech, text retrieval, etc.) is not appropriate for this area.',\n",
        "    'cs.CR': 'Covers all areas of cryptography and security including authentication, public key cryptosytems, proof-carrying code, etc. Roughly includes material in ACM Subject Classes D.4.6 and E.3.',\n",
        "    'cs.CV': 'Covers image processing, computer vision, pattern recognition, and scene understanding. Roughly includes material in ACM Subject Classes I.2.10, I.4, and I.5.',\n",
        "    'cs.CY': 'Covers impact of computers on society, computer ethics, information technology and public policy, legal aspects of computing, computers and education. Roughly includes material in ACM Subject Classes K.0, K.2, K.3, K.4, K.5, and K.7.',\n",
        "    'cs.DB': 'Covers database management, datamining, and data processing. Roughly includes material in ACM Subject Classes E.2, E.5, H.0, H.2, and J.1.',\n",
        "    'cs.DC': 'Covers fault-tolerance, distributed algorithms, stabilility, parallel computation, and cluster computing. Roughly includes material in ACM Subject Classes C.1.2, C.1.4, C.2.4, D.1.3, D.4.5, D.4.7, E.1.',\n",
        "    'cs.DL': 'Covers all aspects of the digital library design and document and text creation. Note that there will be some overlap with Information Retrieval (which is a separate subject area). Roughly includes material in ACM Subject Classes H.3.5, H.3.6, H.3.7, I.7.',\n",
        "    'cs.DM': 'Covers combinatorics, graph theory, applications of probability. Roughly includes material in ACM Subject Classes G.2 and G.3.',\n",
        "    'cs.DS': 'Covers data structures and analysis of algorithms. Roughly includes material in ACM Subject Classes E.1, E.2, F.2.1, and F.2.2.',\n",
        "    'cs.ET': 'Covers approaches to information processing (computing, communication, sensing) and bio-chemical analysis based on alternatives to silicon CMOS-based technologies, such as nanoscale electronic, photonic, spin-based, superconducting, mechanical, bio-chemical and quantum technologies (this list is not exclusive). Topics of interest include (1) building blocks for emerging technologies, their scalability and adoption in larger systems, including integration with traditional technologies, (2) modeling, design and optimization of novel devices and systems, (3) models of computation, algorithm design and programming for emerging technologies.',\n",
        "    'cs.FL': 'Covers automata theory, formal language theory, grammars, and combinatorics on words. This roughly corresponds to ACM Subject Classes F.1.1, and F.4.3. Papers dealing with computational complexity should go to cs.CC; papers dealing with logic should go to cs.LO.',\n",
        "    'cs.GL': 'Covers introductory material, survey material, predictions of future trends, biographies, and miscellaneous computer-science related material. Roughly includes all of ACM Subject Class A, except it does not include conference proceedings (which will be listed in the appropriate subject area).',\n",
        "    'cs.GR': 'Covers all aspects of computer graphics. Roughly includes material in all of ACM Subject Class I.3, except that I.3.5 is is likely to have Computational Geometry as the primary subject area.',\n",
        "    'cs.GT': 'Covers all theoretical and applied aspects at the intersection of computer science and game theory, including work in mechanism design, learning in games (which may overlap with Learning), foundations of agent modeling in games (which may overlap with Multiagent systems), coordination, specification and formal methods for non-cooperative computational environments. The area also deals with applications of game theory to areas such as electronic commerce.',\n",
        "    'cs.HC': 'Covers human factors, user interfaces, and collaborative computing. Roughly includes material in ACM Subject Classes H.1.2 and all of H.5, except for H.5.1, which is more likely to have Multimedia as the primary subject area.',\n",
        "    'cs.IR': 'Covers indexing, dictionaries, retrieval, content and analysis. Roughly includes material in ACM Subject Classes H.3.0, H.3.1, H.3.2, H.3.3, and H.3.4.',\n",
        "    'cs.IT': 'Covers theoretical and experimental aspects of information theory and coding. Includes material in ACM Subject Class E.4 and intersects with H.1.1.',\n",
        "    'cs.LG': 'Papers on all aspects of machine learning research (supervised, unsupervised, reinforcement learning, bandit problems, and so on) including also robustness, explanation, fairness, and methodology. cs.LG is also an appropriate primary category for applications of machine learning methods.',\n",
        "    'cs.LO': 'Covers all aspects of logic in computer science, including finite model theory, logics of programs, modal logic, and program verification. Programming language semantics should have Programming Languages as the primary subject area. Roughly includes material in ACM Subject Classes D.2.4, F.3.1, F.4.0, F.4.1, and F.4.2; some material in F.4.3 (formal languages) may also be appropriate here, although Computational Complexity is typically the more appropriate subject area.',\n",
        "    'cs.MA': 'Covers multiagent systems, distributed artificial intelligence, intelligent agents, coordinated interactions. and practical applications. Roughly covers ACM Subject Class I.2.11.',\n",
        "    'cs.MM': 'Roughly includes material in ACM Subject Class H.5.1.',\n",
        "    'cs.MS': 'Roughly includes material in ACM Subject Class G.4.',\n",
        "    'cs.NA': 'cs.NA is an alias for math.NA. Roughly includes material in ACM Subject Class G.1.',\n",
        "    'cs.NE': 'Covers neural networks, connectionism, genetic algorithms, artificial life, adaptive behavior. Roughly includes some material in ACM Subject Class C.1.3, I.2.6, I.5.',\n",
        "    'cs.NI': 'Covers all aspects of computer communication networks, including network architecture and design, network protocols, and internetwork standards (like TCP/IP). Also includes topics, such as web caching, that are directly relevant to Internet architecture and performance. Roughly includes all of ACM Subject Class C.2 except C.2.4, which is more likely to have Distributed, Parallel, and Cluster Computing as the primary subject area.',\n",
        "    'cs.OH': 'This is the classification to use for documents that do not fit anywhere else.',\n",
        "    'cs.OS': 'Roughly includes material in ACM Subject Classes D.4.1, D.4.2., D.4.3, D.4.4, D.4.5, D.4.7, and D.4.9.',\n",
        "    'cs.PF': 'Covers performance measurement and evaluation, queueing, and simulation. Roughly includes material in ACM Subject Classes D.4.8 and K.6.2.',\n",
        "    'cs.PL': 'Covers programming language semantics, language features, programming approaches (such as object-oriented programming, functional programming, logic programming). Also includes material on compilers oriented towards programming languages; other material on compilers may be more appropriate in Architecture (AR). Roughly includes material in ACM Subject Classes D.1 and D.3.',\n",
        "    'cs.RO': 'Roughly includes material in ACM Subject Class I.2.9.',\n",
        "    'cs.SC': 'Roughly includes material in ACM Subject Class I.1.',\n",
        "    'cs.SD': 'Covers all aspects of computing with sound, and sound as an information channel. Includes models of sound, analysis and synthesis, audio user interfaces, sonification of data, computer music, and sound signal processing. Includes ACM Subject Class H.5.5, and intersects with H.1.2, H.5.1, H.5.2, I.2.7, I.5.4, I.6.3, J.5, K.4.2.',\n",
        "    'cs.SE': 'Covers design tools, software metrics, testing and debugging, programming environments, etc. Roughly includes material in all of ACM Subject Classes D.2, except that D.2.4 (program verification) should probably have Logics in Computer Science as the primary subject area.',\n",
        "    'cs.SI': 'Covers the design, analysis, and modeling of social and information networks, including their applications for on-line information access, communication, and interaction, and their roles as datasets in the exploration of questions in these and other domains, including connections to the social and biological sciences. Analysis and modeling of such networks includes topics in ACM Subject classes F.2, G.2, G.3, H.2, and I.2; applications in computing include topics in H.3, H.4, and H.5; and applications at the interface of computing and other disciplines include topics in J.1--J.7. Papers on computer communication systems and network protocols (e.g. TCP/IP) are generally a closer fit to the Networking and Internet Architecture (cs.NI) category.',\n",
        "    'cs.SY': 'cs.SY is an alias for eess.SY. This section includes theoretical and experimental research covering all facets of automatic control systems. The section is focused on methods of control system analysis and design using tools of modeling, simulation and optimization. Specific areas of research include nonlinear, distributed, adaptive, stochastic and robust control in addition to hybrid and discrete event systems. Application areas include automotive and aerospace control systems, network control, biological systems, multiagent and cooperative control, robotics, reinforcement learning, sensor networks, control of cyber-physical and energy-related systems, and control of computing systems.'\n",
        "}\n",
        "\n",
        "# helper function to match the first_category to first_category_english and the long description\n",
        "def match_description(dataset, categories_dict):\n",
        "    mapping = {}\n",
        "    for example in dataset:\n",
        "        first_category = example['first_category']\n",
        "        first_category_english = example['first_category_english']\n",
        "        long_description = categories_dict.get(first_category, 'Unknown Description')\n",
        "        mapping[first_category_english] = long_description\n",
        "    return mapping\n",
        "\n",
        "categories_dict = match_description(balanced_sample, categories_dict)\n"
      ]
    },
    {
      "cell_type": "code",
      "source": [
        "# extract long descriptions\n",
        "long_labels = list(categories_dict.values())\n",
        "\n",
        "# reverse mapping to category\n",
        "reverse_mapping = {value: key for key, value in categories_dict.items()}\n",
        "\n",
        "# modified predict_category function\n",
        "def predict_category(batch):\n",
        "  result = pipe(batch['title'], candidate_labels=long_labels)\n",
        "  predicted_long_label = result['labels'][0]\n",
        "  # Map to the English description\n",
        "  batch['predicted_category'] = reverse_mapping[predicted_long_label]\n",
        "  return batch\n",
        "\n",
        "pipe = pipeline(model=\"facebook/bart-large-mnli\",device = 0)\n",
        "# using map to predict category\n",
        "balanced_sample = balanced_sample.map(predict_category, batched=False)"
      ],
      "metadata": {
        "id": "RROgC7dv6uoD",
        "colab": {
          "base_uri": "https://localhost:8080/",
          "height": 49,
          "referenced_widgets": [
            "e32992d13669469a9accb7ff5412cdd8",
            "061c1d90e8f74a75a8b086164b6af1d7",
            "54f5cb4254ff43b7a91a39d8aef11eb7",
            "3a9931940074421da9a4b4d1ecfac6e9",
            "46b97dbb5b1d4647a1de45a7e1f4ef59",
            "e9ea607b4ef94c78bc550be1b6ac6264",
            "5d5638e6208c4b10af3a64ee3bb54dc9",
            "4dd888bf0143430383fb2c58f81824d6",
            "6756662afb99428ba14e7aac689dac52",
            "d6f8d19a061c4546adb7ec2cd09ad9b9",
            "f3a9dead9b0141559ae06fe6417faeab"
          ]
        },
        "outputId": "3d2eab9b-1574-4b05-d6a4-309a35b4f636"
      },
      "execution_count": 72,
      "outputs": [
        {
          "output_type": "display_data",
          "data": {
            "text/plain": [
              "Map:   0%|          | 0/999 [00:00<?, ? examples/s]"
            ],
            "application/vnd.jupyter.widget-view+json": {
              "version_major": 2,
              "version_minor": 0,
              "model_id": "e32992d13669469a9accb7ff5412cdd8"
            }
          },
          "metadata": {}
        }
      ]
    },
    {
      "cell_type": "code",
      "source": [
        "true_categories = balanced_sample['first_category_english']\n",
        "predicted_categories = balanced_sample['predicted_category']\n",
        "\n",
        "accuracy = accuracy_score(true_categories, predicted_categories)\n",
        "f1 = f1_score(true_categories, predicted_categories, average='weighted')\n",
        "\n",
        "print(f\"Accuracy: {accuracy:.4f}\")\n",
        "print(f\"F1 Score: {f1:.4f}\")"
      ],
      "metadata": {
        "colab": {
          "base_uri": "https://localhost:8080/"
        },
        "id": "pDdDtNcDuavw",
        "outputId": "e70240f6-1390-4be6-d2dd-1ba0ae272c8e"
      },
      "execution_count": 75,
      "outputs": [
        {
          "output_type": "stream",
          "name": "stdout",
          "text": [
            "Accuracy: 0.0380\n",
            "F1 Score: 0.0048\n"
          ]
        }
      ]
    },
    {
      "cell_type": "markdown",
      "metadata": {
        "id": "Zq9nCEjCGnpG"
      },
      "source": [
        "Written answers:\n",
        "\n",
        "NO. The titles are short and lack of enough context to match the long descriptions. The long descriptions are not concise labels but instead detailed explanations, which are not ideal for ZeroShot classification. The model performs better when labels are shorter and capture the essence of the category. It results allocated number of papers into only a few categories that are more general. The model cannot easily disambiguate between similar concepts without explicit training."
      ]
    },
    {
      "cell_type": "code",
      "source": [],
      "metadata": {
        "id": "obQIi5zSPoMk"
      },
      "execution_count": null,
      "outputs": []
    }
  ],
  "metadata": {
    "colab": {
      "provenance": [],
      "gpuType": "T4"
    },
    "kernelspec": {
      "display_name": "Python 3",
      "name": "python3"
    },
    "language_info": {
      "name": "python"
    },
    "accelerator": "GPU",
    "widgets": {
      "application/vnd.jupyter.widget-state+json": {
        "9ed8015585284df7969584cf481788f1": {
          "model_module": "@jupyter-widgets/controls",
          "model_name": "HBoxModel",
          "model_module_version": "1.5.0",
          "state": {
            "_dom_classes": [],
            "_model_module": "@jupyter-widgets/controls",
            "_model_module_version": "1.5.0",
            "_model_name": "HBoxModel",
            "_view_count": null,
            "_view_module": "@jupyter-widgets/controls",
            "_view_module_version": "1.5.0",
            "_view_name": "HBoxView",
            "box_style": "",
            "children": [
              "IPY_MODEL_c5c0a9f9f1e74e58a0282b73d3ecb0e5",
              "IPY_MODEL_077983254e9641bd9f934c8bdb039bfa",
              "IPY_MODEL_dbac88d95c354a6499966b20757df4cf"
            ],
            "layout": "IPY_MODEL_b2dd1a6f3628446c94cf4a08e771ab18"
          }
        },
        "c5c0a9f9f1e74e58a0282b73d3ecb0e5": {
          "model_module": "@jupyter-widgets/controls",
          "model_name": "HTMLModel",
          "model_module_version": "1.5.0",
          "state": {
            "_dom_classes": [],
            "_model_module": "@jupyter-widgets/controls",
            "_model_module_version": "1.5.0",
            "_model_name": "HTMLModel",
            "_view_count": null,
            "_view_module": "@jupyter-widgets/controls",
            "_view_module_version": "1.5.0",
            "_view_name": "HTMLView",
            "description": "",
            "description_tooltip": null,
            "layout": "IPY_MODEL_9f8bda1704ea4f57b20b1a1274e8be08",
            "placeholder": "​",
            "style": "IPY_MODEL_7d510e2499bd46abac05690911559061",
            "value": "Map: 100%"
          }
        },
        "077983254e9641bd9f934c8bdb039bfa": {
          "model_module": "@jupyter-widgets/controls",
          "model_name": "FloatProgressModel",
          "model_module_version": "1.5.0",
          "state": {
            "_dom_classes": [],
            "_model_module": "@jupyter-widgets/controls",
            "_model_module_version": "1.5.0",
            "_model_name": "FloatProgressModel",
            "_view_count": null,
            "_view_module": "@jupyter-widgets/controls",
            "_view_module_version": "1.5.0",
            "_view_name": "ProgressView",
            "bar_style": "success",
            "description": "",
            "description_tooltip": null,
            "layout": "IPY_MODEL_97066a558c3f4698b654c7c5860e35fe",
            "max": 999,
            "min": 0,
            "orientation": "horizontal",
            "style": "IPY_MODEL_df35cf1bbdc7431ebe06157ad3f2fe4b",
            "value": 999
          }
        },
        "dbac88d95c354a6499966b20757df4cf": {
          "model_module": "@jupyter-widgets/controls",
          "model_name": "HTMLModel",
          "model_module_version": "1.5.0",
          "state": {
            "_dom_classes": [],
            "_model_module": "@jupyter-widgets/controls",
            "_model_module_version": "1.5.0",
            "_model_name": "HTMLModel",
            "_view_count": null,
            "_view_module": "@jupyter-widgets/controls",
            "_view_module_version": "1.5.0",
            "_view_name": "HTMLView",
            "description": "",
            "description_tooltip": null,
            "layout": "IPY_MODEL_318c79fed96445df8ad3ce3f17934019",
            "placeholder": "​",
            "style": "IPY_MODEL_0f05cad3be8f4041bd7898dde8747b11",
            "value": " 999/999 [11:01&lt;00:00,  1.62 examples/s]"
          }
        },
        "b2dd1a6f3628446c94cf4a08e771ab18": {
          "model_module": "@jupyter-widgets/base",
          "model_name": "LayoutModel",
          "model_module_version": "1.2.0",
          "state": {
            "_model_module": "@jupyter-widgets/base",
            "_model_module_version": "1.2.0",
            "_model_name": "LayoutModel",
            "_view_count": null,
            "_view_module": "@jupyter-widgets/base",
            "_view_module_version": "1.2.0",
            "_view_name": "LayoutView",
            "align_content": null,
            "align_items": null,
            "align_self": null,
            "border": null,
            "bottom": null,
            "display": null,
            "flex": null,
            "flex_flow": null,
            "grid_area": null,
            "grid_auto_columns": null,
            "grid_auto_flow": null,
            "grid_auto_rows": null,
            "grid_column": null,
            "grid_gap": null,
            "grid_row": null,
            "grid_template_areas": null,
            "grid_template_columns": null,
            "grid_template_rows": null,
            "height": null,
            "justify_content": null,
            "justify_items": null,
            "left": null,
            "margin": null,
            "max_height": null,
            "max_width": null,
            "min_height": null,
            "min_width": null,
            "object_fit": null,
            "object_position": null,
            "order": null,
            "overflow": null,
            "overflow_x": null,
            "overflow_y": null,
            "padding": null,
            "right": null,
            "top": null,
            "visibility": null,
            "width": null
          }
        },
        "9f8bda1704ea4f57b20b1a1274e8be08": {
          "model_module": "@jupyter-widgets/base",
          "model_name": "LayoutModel",
          "model_module_version": "1.2.0",
          "state": {
            "_model_module": "@jupyter-widgets/base",
            "_model_module_version": "1.2.0",
            "_model_name": "LayoutModel",
            "_view_count": null,
            "_view_module": "@jupyter-widgets/base",
            "_view_module_version": "1.2.0",
            "_view_name": "LayoutView",
            "align_content": null,
            "align_items": null,
            "align_self": null,
            "border": null,
            "bottom": null,
            "display": null,
            "flex": null,
            "flex_flow": null,
            "grid_area": null,
            "grid_auto_columns": null,
            "grid_auto_flow": null,
            "grid_auto_rows": null,
            "grid_column": null,
            "grid_gap": null,
            "grid_row": null,
            "grid_template_areas": null,
            "grid_template_columns": null,
            "grid_template_rows": null,
            "height": null,
            "justify_content": null,
            "justify_items": null,
            "left": null,
            "margin": null,
            "max_height": null,
            "max_width": null,
            "min_height": null,
            "min_width": null,
            "object_fit": null,
            "object_position": null,
            "order": null,
            "overflow": null,
            "overflow_x": null,
            "overflow_y": null,
            "padding": null,
            "right": null,
            "top": null,
            "visibility": null,
            "width": null
          }
        },
        "7d510e2499bd46abac05690911559061": {
          "model_module": "@jupyter-widgets/controls",
          "model_name": "DescriptionStyleModel",
          "model_module_version": "1.5.0",
          "state": {
            "_model_module": "@jupyter-widgets/controls",
            "_model_module_version": "1.5.0",
            "_model_name": "DescriptionStyleModel",
            "_view_count": null,
            "_view_module": "@jupyter-widgets/base",
            "_view_module_version": "1.2.0",
            "_view_name": "StyleView",
            "description_width": ""
          }
        },
        "97066a558c3f4698b654c7c5860e35fe": {
          "model_module": "@jupyter-widgets/base",
          "model_name": "LayoutModel",
          "model_module_version": "1.2.0",
          "state": {
            "_model_module": "@jupyter-widgets/base",
            "_model_module_version": "1.2.0",
            "_model_name": "LayoutModel",
            "_view_count": null,
            "_view_module": "@jupyter-widgets/base",
            "_view_module_version": "1.2.0",
            "_view_name": "LayoutView",
            "align_content": null,
            "align_items": null,
            "align_self": null,
            "border": null,
            "bottom": null,
            "display": null,
            "flex": null,
            "flex_flow": null,
            "grid_area": null,
            "grid_auto_columns": null,
            "grid_auto_flow": null,
            "grid_auto_rows": null,
            "grid_column": null,
            "grid_gap": null,
            "grid_row": null,
            "grid_template_areas": null,
            "grid_template_columns": null,
            "grid_template_rows": null,
            "height": null,
            "justify_content": null,
            "justify_items": null,
            "left": null,
            "margin": null,
            "max_height": null,
            "max_width": null,
            "min_height": null,
            "min_width": null,
            "object_fit": null,
            "object_position": null,
            "order": null,
            "overflow": null,
            "overflow_x": null,
            "overflow_y": null,
            "padding": null,
            "right": null,
            "top": null,
            "visibility": null,
            "width": null
          }
        },
        "df35cf1bbdc7431ebe06157ad3f2fe4b": {
          "model_module": "@jupyter-widgets/controls",
          "model_name": "ProgressStyleModel",
          "model_module_version": "1.5.0",
          "state": {
            "_model_module": "@jupyter-widgets/controls",
            "_model_module_version": "1.5.0",
            "_model_name": "ProgressStyleModel",
            "_view_count": null,
            "_view_module": "@jupyter-widgets/base",
            "_view_module_version": "1.2.0",
            "_view_name": "StyleView",
            "bar_color": null,
            "description_width": ""
          }
        },
        "318c79fed96445df8ad3ce3f17934019": {
          "model_module": "@jupyter-widgets/base",
          "model_name": "LayoutModel",
          "model_module_version": "1.2.0",
          "state": {
            "_model_module": "@jupyter-widgets/base",
            "_model_module_version": "1.2.0",
            "_model_name": "LayoutModel",
            "_view_count": null,
            "_view_module": "@jupyter-widgets/base",
            "_view_module_version": "1.2.0",
            "_view_name": "LayoutView",
            "align_content": null,
            "align_items": null,
            "align_self": null,
            "border": null,
            "bottom": null,
            "display": null,
            "flex": null,
            "flex_flow": null,
            "grid_area": null,
            "grid_auto_columns": null,
            "grid_auto_flow": null,
            "grid_auto_rows": null,
            "grid_column": null,
            "grid_gap": null,
            "grid_row": null,
            "grid_template_areas": null,
            "grid_template_columns": null,
            "grid_template_rows": null,
            "height": null,
            "justify_content": null,
            "justify_items": null,
            "left": null,
            "margin": null,
            "max_height": null,
            "max_width": null,
            "min_height": null,
            "min_width": null,
            "object_fit": null,
            "object_position": null,
            "order": null,
            "overflow": null,
            "overflow_x": null,
            "overflow_y": null,
            "padding": null,
            "right": null,
            "top": null,
            "visibility": null,
            "width": null
          }
        },
        "0f05cad3be8f4041bd7898dde8747b11": {
          "model_module": "@jupyter-widgets/controls",
          "model_name": "DescriptionStyleModel",
          "model_module_version": "1.5.0",
          "state": {
            "_model_module": "@jupyter-widgets/controls",
            "_model_module_version": "1.5.0",
            "_model_name": "DescriptionStyleModel",
            "_view_count": null,
            "_view_module": "@jupyter-widgets/base",
            "_view_module_version": "1.2.0",
            "_view_name": "StyleView",
            "description_width": ""
          }
        },
        "050146b285154278b92002dd3c052eba": {
          "model_module": "@jupyter-widgets/controls",
          "model_name": "HBoxModel",
          "model_module_version": "1.5.0",
          "state": {
            "_dom_classes": [],
            "_model_module": "@jupyter-widgets/controls",
            "_model_module_version": "1.5.0",
            "_model_name": "HBoxModel",
            "_view_count": null,
            "_view_module": "@jupyter-widgets/controls",
            "_view_module_version": "1.5.0",
            "_view_name": "HBoxView",
            "box_style": "",
            "children": [
              "IPY_MODEL_b43390a083524129ad7effeeb47745dc",
              "IPY_MODEL_b8bcf47b9a234c8abb138f81ad9c39df",
              "IPY_MODEL_3c515bcad38146ccad15363a6833371c"
            ],
            "layout": "IPY_MODEL_e6c2ce11f2f54b0386bae23ab70bf91c"
          }
        },
        "b43390a083524129ad7effeeb47745dc": {
          "model_module": "@jupyter-widgets/controls",
          "model_name": "HTMLModel",
          "model_module_version": "1.5.0",
          "state": {
            "_dom_classes": [],
            "_model_module": "@jupyter-widgets/controls",
            "_model_module_version": "1.5.0",
            "_model_name": "HTMLModel",
            "_view_count": null,
            "_view_module": "@jupyter-widgets/controls",
            "_view_module_version": "1.5.0",
            "_view_name": "HTMLView",
            "description": "",
            "description_tooltip": null,
            "layout": "IPY_MODEL_68b5372f94224533a95838457d100bda",
            "placeholder": "​",
            "style": "IPY_MODEL_0079230985214fc4b1f36a6ff888ace0",
            "value": "config.json: 100%"
          }
        },
        "b8bcf47b9a234c8abb138f81ad9c39df": {
          "model_module": "@jupyter-widgets/controls",
          "model_name": "FloatProgressModel",
          "model_module_version": "1.5.0",
          "state": {
            "_dom_classes": [],
            "_model_module": "@jupyter-widgets/controls",
            "_model_module_version": "1.5.0",
            "_model_name": "FloatProgressModel",
            "_view_count": null,
            "_view_module": "@jupyter-widgets/controls",
            "_view_module_version": "1.5.0",
            "_view_name": "ProgressView",
            "bar_style": "success",
            "description": "",
            "description_tooltip": null,
            "layout": "IPY_MODEL_a66de8f7bcc54112b3018721d49bf1f5",
            "max": 1090,
            "min": 0,
            "orientation": "horizontal",
            "style": "IPY_MODEL_69726e0f764842ef81385a02bad300d6",
            "value": 1090
          }
        },
        "3c515bcad38146ccad15363a6833371c": {
          "model_module": "@jupyter-widgets/controls",
          "model_name": "HTMLModel",
          "model_module_version": "1.5.0",
          "state": {
            "_dom_classes": [],
            "_model_module": "@jupyter-widgets/controls",
            "_model_module_version": "1.5.0",
            "_model_name": "HTMLModel",
            "_view_count": null,
            "_view_module": "@jupyter-widgets/controls",
            "_view_module_version": "1.5.0",
            "_view_name": "HTMLView",
            "description": "",
            "description_tooltip": null,
            "layout": "IPY_MODEL_99e9f18de37941729ba0055c42d27b2e",
            "placeholder": "​",
            "style": "IPY_MODEL_879dd3cda5ca4966816ed08cf19eae42",
            "value": " 1.09k/1.09k [00:00&lt;00:00, 37.0kB/s]"
          }
        },
        "e6c2ce11f2f54b0386bae23ab70bf91c": {
          "model_module": "@jupyter-widgets/base",
          "model_name": "LayoutModel",
          "model_module_version": "1.2.0",
          "state": {
            "_model_module": "@jupyter-widgets/base",
            "_model_module_version": "1.2.0",
            "_model_name": "LayoutModel",
            "_view_count": null,
            "_view_module": "@jupyter-widgets/base",
            "_view_module_version": "1.2.0",
            "_view_name": "LayoutView",
            "align_content": null,
            "align_items": null,
            "align_self": null,
            "border": null,
            "bottom": null,
            "display": null,
            "flex": null,
            "flex_flow": null,
            "grid_area": null,
            "grid_auto_columns": null,
            "grid_auto_flow": null,
            "grid_auto_rows": null,
            "grid_column": null,
            "grid_gap": null,
            "grid_row": null,
            "grid_template_areas": null,
            "grid_template_columns": null,
            "grid_template_rows": null,
            "height": null,
            "justify_content": null,
            "justify_items": null,
            "left": null,
            "margin": null,
            "max_height": null,
            "max_width": null,
            "min_height": null,
            "min_width": null,
            "object_fit": null,
            "object_position": null,
            "order": null,
            "overflow": null,
            "overflow_x": null,
            "overflow_y": null,
            "padding": null,
            "right": null,
            "top": null,
            "visibility": null,
            "width": null
          }
        },
        "68b5372f94224533a95838457d100bda": {
          "model_module": "@jupyter-widgets/base",
          "model_name": "LayoutModel",
          "model_module_version": "1.2.0",
          "state": {
            "_model_module": "@jupyter-widgets/base",
            "_model_module_version": "1.2.0",
            "_model_name": "LayoutModel",
            "_view_count": null,
            "_view_module": "@jupyter-widgets/base",
            "_view_module_version": "1.2.0",
            "_view_name": "LayoutView",
            "align_content": null,
            "align_items": null,
            "align_self": null,
            "border": null,
            "bottom": null,
            "display": null,
            "flex": null,
            "flex_flow": null,
            "grid_area": null,
            "grid_auto_columns": null,
            "grid_auto_flow": null,
            "grid_auto_rows": null,
            "grid_column": null,
            "grid_gap": null,
            "grid_row": null,
            "grid_template_areas": null,
            "grid_template_columns": null,
            "grid_template_rows": null,
            "height": null,
            "justify_content": null,
            "justify_items": null,
            "left": null,
            "margin": null,
            "max_height": null,
            "max_width": null,
            "min_height": null,
            "min_width": null,
            "object_fit": null,
            "object_position": null,
            "order": null,
            "overflow": null,
            "overflow_x": null,
            "overflow_y": null,
            "padding": null,
            "right": null,
            "top": null,
            "visibility": null,
            "width": null
          }
        },
        "0079230985214fc4b1f36a6ff888ace0": {
          "model_module": "@jupyter-widgets/controls",
          "model_name": "DescriptionStyleModel",
          "model_module_version": "1.5.0",
          "state": {
            "_model_module": "@jupyter-widgets/controls",
            "_model_module_version": "1.5.0",
            "_model_name": "DescriptionStyleModel",
            "_view_count": null,
            "_view_module": "@jupyter-widgets/base",
            "_view_module_version": "1.2.0",
            "_view_name": "StyleView",
            "description_width": ""
          }
        },
        "a66de8f7bcc54112b3018721d49bf1f5": {
          "model_module": "@jupyter-widgets/base",
          "model_name": "LayoutModel",
          "model_module_version": "1.2.0",
          "state": {
            "_model_module": "@jupyter-widgets/base",
            "_model_module_version": "1.2.0",
            "_model_name": "LayoutModel",
            "_view_count": null,
            "_view_module": "@jupyter-widgets/base",
            "_view_module_version": "1.2.0",
            "_view_name": "LayoutView",
            "align_content": null,
            "align_items": null,
            "align_self": null,
            "border": null,
            "bottom": null,
            "display": null,
            "flex": null,
            "flex_flow": null,
            "grid_area": null,
            "grid_auto_columns": null,
            "grid_auto_flow": null,
            "grid_auto_rows": null,
            "grid_column": null,
            "grid_gap": null,
            "grid_row": null,
            "grid_template_areas": null,
            "grid_template_columns": null,
            "grid_template_rows": null,
            "height": null,
            "justify_content": null,
            "justify_items": null,
            "left": null,
            "margin": null,
            "max_height": null,
            "max_width": null,
            "min_height": null,
            "min_width": null,
            "object_fit": null,
            "object_position": null,
            "order": null,
            "overflow": null,
            "overflow_x": null,
            "overflow_y": null,
            "padding": null,
            "right": null,
            "top": null,
            "visibility": null,
            "width": null
          }
        },
        "69726e0f764842ef81385a02bad300d6": {
          "model_module": "@jupyter-widgets/controls",
          "model_name": "ProgressStyleModel",
          "model_module_version": "1.5.0",
          "state": {
            "_model_module": "@jupyter-widgets/controls",
            "_model_module_version": "1.5.0",
            "_model_name": "ProgressStyleModel",
            "_view_count": null,
            "_view_module": "@jupyter-widgets/base",
            "_view_module_version": "1.2.0",
            "_view_name": "StyleView",
            "bar_color": null,
            "description_width": ""
          }
        },
        "99e9f18de37941729ba0055c42d27b2e": {
          "model_module": "@jupyter-widgets/base",
          "model_name": "LayoutModel",
          "model_module_version": "1.2.0",
          "state": {
            "_model_module": "@jupyter-widgets/base",
            "_model_module_version": "1.2.0",
            "_model_name": "LayoutModel",
            "_view_count": null,
            "_view_module": "@jupyter-widgets/base",
            "_view_module_version": "1.2.0",
            "_view_name": "LayoutView",
            "align_content": null,
            "align_items": null,
            "align_self": null,
            "border": null,
            "bottom": null,
            "display": null,
            "flex": null,
            "flex_flow": null,
            "grid_area": null,
            "grid_auto_columns": null,
            "grid_auto_flow": null,
            "grid_auto_rows": null,
            "grid_column": null,
            "grid_gap": null,
            "grid_row": null,
            "grid_template_areas": null,
            "grid_template_columns": null,
            "grid_template_rows": null,
            "height": null,
            "justify_content": null,
            "justify_items": null,
            "left": null,
            "margin": null,
            "max_height": null,
            "max_width": null,
            "min_height": null,
            "min_width": null,
            "object_fit": null,
            "object_position": null,
            "order": null,
            "overflow": null,
            "overflow_x": null,
            "overflow_y": null,
            "padding": null,
            "right": null,
            "top": null,
            "visibility": null,
            "width": null
          }
        },
        "879dd3cda5ca4966816ed08cf19eae42": {
          "model_module": "@jupyter-widgets/controls",
          "model_name": "DescriptionStyleModel",
          "model_module_version": "1.5.0",
          "state": {
            "_model_module": "@jupyter-widgets/controls",
            "_model_module_version": "1.5.0",
            "_model_name": "DescriptionStyleModel",
            "_view_count": null,
            "_view_module": "@jupyter-widgets/base",
            "_view_module_version": "1.2.0",
            "_view_name": "StyleView",
            "description_width": ""
          }
        },
        "638c97ad7d71447dab1ae236a83758c5": {
          "model_module": "@jupyter-widgets/controls",
          "model_name": "HBoxModel",
          "model_module_version": "1.5.0",
          "state": {
            "_dom_classes": [],
            "_model_module": "@jupyter-widgets/controls",
            "_model_module_version": "1.5.0",
            "_model_name": "HBoxModel",
            "_view_count": null,
            "_view_module": "@jupyter-widgets/controls",
            "_view_module_version": "1.5.0",
            "_view_name": "HBoxView",
            "box_style": "",
            "children": [
              "IPY_MODEL_4af14b559e7c44dfa78c20141a4b7541",
              "IPY_MODEL_1875d1b0693f47e196468dfcb2bcee52",
              "IPY_MODEL_cb3365c6362f4f0197ed8818c820fd10"
            ],
            "layout": "IPY_MODEL_990731eca7ce48a296bc2285f0cb5b47"
          }
        },
        "4af14b559e7c44dfa78c20141a4b7541": {
          "model_module": "@jupyter-widgets/controls",
          "model_name": "HTMLModel",
          "model_module_version": "1.5.0",
          "state": {
            "_dom_classes": [],
            "_model_module": "@jupyter-widgets/controls",
            "_model_module_version": "1.5.0",
            "_model_name": "HTMLModel",
            "_view_count": null,
            "_view_module": "@jupyter-widgets/controls",
            "_view_module_version": "1.5.0",
            "_view_name": "HTMLView",
            "description": "",
            "description_tooltip": null,
            "layout": "IPY_MODEL_d86963c900044759b58eb1fc08584514",
            "placeholder": "​",
            "style": "IPY_MODEL_db40bef2ce9f46879418b042512fa44b",
            "value": "model.safetensors: 100%"
          }
        },
        "1875d1b0693f47e196468dfcb2bcee52": {
          "model_module": "@jupyter-widgets/controls",
          "model_name": "FloatProgressModel",
          "model_module_version": "1.5.0",
          "state": {
            "_dom_classes": [],
            "_model_module": "@jupyter-widgets/controls",
            "_model_module_version": "1.5.0",
            "_model_name": "FloatProgressModel",
            "_view_count": null,
            "_view_module": "@jupyter-widgets/controls",
            "_view_module_version": "1.5.0",
            "_view_name": "ProgressView",
            "bar_style": "success",
            "description": "",
            "description_tooltip": null,
            "layout": "IPY_MODEL_d51c7aa0921241c390f4b5490c48e807",
            "max": 368877646,
            "min": 0,
            "orientation": "horizontal",
            "style": "IPY_MODEL_f2059859fdc841939d184a7121c281d6",
            "value": 368877646
          }
        },
        "cb3365c6362f4f0197ed8818c820fd10": {
          "model_module": "@jupyter-widgets/controls",
          "model_name": "HTMLModel",
          "model_module_version": "1.5.0",
          "state": {
            "_dom_classes": [],
            "_model_module": "@jupyter-widgets/controls",
            "_model_module_version": "1.5.0",
            "_model_name": "HTMLModel",
            "_view_count": null,
            "_view_module": "@jupyter-widgets/controls",
            "_view_module_version": "1.5.0",
            "_view_name": "HTMLView",
            "description": "",
            "description_tooltip": null,
            "layout": "IPY_MODEL_e17e480e4c6641af952f8c32f2c6f47a",
            "placeholder": "​",
            "style": "IPY_MODEL_9fba4a901e334003be0b27e4331b1885",
            "value": " 369M/369M [00:05&lt;00:00, 53.2MB/s]"
          }
        },
        "990731eca7ce48a296bc2285f0cb5b47": {
          "model_module": "@jupyter-widgets/base",
          "model_name": "LayoutModel",
          "model_module_version": "1.2.0",
          "state": {
            "_model_module": "@jupyter-widgets/base",
            "_model_module_version": "1.2.0",
            "_model_name": "LayoutModel",
            "_view_count": null,
            "_view_module": "@jupyter-widgets/base",
            "_view_module_version": "1.2.0",
            "_view_name": "LayoutView",
            "align_content": null,
            "align_items": null,
            "align_self": null,
            "border": null,
            "bottom": null,
            "display": null,
            "flex": null,
            "flex_flow": null,
            "grid_area": null,
            "grid_auto_columns": null,
            "grid_auto_flow": null,
            "grid_auto_rows": null,
            "grid_column": null,
            "grid_gap": null,
            "grid_row": null,
            "grid_template_areas": null,
            "grid_template_columns": null,
            "grid_template_rows": null,
            "height": null,
            "justify_content": null,
            "justify_items": null,
            "left": null,
            "margin": null,
            "max_height": null,
            "max_width": null,
            "min_height": null,
            "min_width": null,
            "object_fit": null,
            "object_position": null,
            "order": null,
            "overflow": null,
            "overflow_x": null,
            "overflow_y": null,
            "padding": null,
            "right": null,
            "top": null,
            "visibility": null,
            "width": null
          }
        },
        "d86963c900044759b58eb1fc08584514": {
          "model_module": "@jupyter-widgets/base",
          "model_name": "LayoutModel",
          "model_module_version": "1.2.0",
          "state": {
            "_model_module": "@jupyter-widgets/base",
            "_model_module_version": "1.2.0",
            "_model_name": "LayoutModel",
            "_view_count": null,
            "_view_module": "@jupyter-widgets/base",
            "_view_module_version": "1.2.0",
            "_view_name": "LayoutView",
            "align_content": null,
            "align_items": null,
            "align_self": null,
            "border": null,
            "bottom": null,
            "display": null,
            "flex": null,
            "flex_flow": null,
            "grid_area": null,
            "grid_auto_columns": null,
            "grid_auto_flow": null,
            "grid_auto_rows": null,
            "grid_column": null,
            "grid_gap": null,
            "grid_row": null,
            "grid_template_areas": null,
            "grid_template_columns": null,
            "grid_template_rows": null,
            "height": null,
            "justify_content": null,
            "justify_items": null,
            "left": null,
            "margin": null,
            "max_height": null,
            "max_width": null,
            "min_height": null,
            "min_width": null,
            "object_fit": null,
            "object_position": null,
            "order": null,
            "overflow": null,
            "overflow_x": null,
            "overflow_y": null,
            "padding": null,
            "right": null,
            "top": null,
            "visibility": null,
            "width": null
          }
        },
        "db40bef2ce9f46879418b042512fa44b": {
          "model_module": "@jupyter-widgets/controls",
          "model_name": "DescriptionStyleModel",
          "model_module_version": "1.5.0",
          "state": {
            "_model_module": "@jupyter-widgets/controls",
            "_model_module_version": "1.5.0",
            "_model_name": "DescriptionStyleModel",
            "_view_count": null,
            "_view_module": "@jupyter-widgets/base",
            "_view_module_version": "1.2.0",
            "_view_name": "StyleView",
            "description_width": ""
          }
        },
        "d51c7aa0921241c390f4b5490c48e807": {
          "model_module": "@jupyter-widgets/base",
          "model_name": "LayoutModel",
          "model_module_version": "1.2.0",
          "state": {
            "_model_module": "@jupyter-widgets/base",
            "_model_module_version": "1.2.0",
            "_model_name": "LayoutModel",
            "_view_count": null,
            "_view_module": "@jupyter-widgets/base",
            "_view_module_version": "1.2.0",
            "_view_name": "LayoutView",
            "align_content": null,
            "align_items": null,
            "align_self": null,
            "border": null,
            "bottom": null,
            "display": null,
            "flex": null,
            "flex_flow": null,
            "grid_area": null,
            "grid_auto_columns": null,
            "grid_auto_flow": null,
            "grid_auto_rows": null,
            "grid_column": null,
            "grid_gap": null,
            "grid_row": null,
            "grid_template_areas": null,
            "grid_template_columns": null,
            "grid_template_rows": null,
            "height": null,
            "justify_content": null,
            "justify_items": null,
            "left": null,
            "margin": null,
            "max_height": null,
            "max_width": null,
            "min_height": null,
            "min_width": null,
            "object_fit": null,
            "object_position": null,
            "order": null,
            "overflow": null,
            "overflow_x": null,
            "overflow_y": null,
            "padding": null,
            "right": null,
            "top": null,
            "visibility": null,
            "width": null
          }
        },
        "f2059859fdc841939d184a7121c281d6": {
          "model_module": "@jupyter-widgets/controls",
          "model_name": "ProgressStyleModel",
          "model_module_version": "1.5.0",
          "state": {
            "_model_module": "@jupyter-widgets/controls",
            "_model_module_version": "1.5.0",
            "_model_name": "ProgressStyleModel",
            "_view_count": null,
            "_view_module": "@jupyter-widgets/base",
            "_view_module_version": "1.2.0",
            "_view_name": "StyleView",
            "bar_color": null,
            "description_width": ""
          }
        },
        "e17e480e4c6641af952f8c32f2c6f47a": {
          "model_module": "@jupyter-widgets/base",
          "model_name": "LayoutModel",
          "model_module_version": "1.2.0",
          "state": {
            "_model_module": "@jupyter-widgets/base",
            "_model_module_version": "1.2.0",
            "_model_name": "LayoutModel",
            "_view_count": null,
            "_view_module": "@jupyter-widgets/base",
            "_view_module_version": "1.2.0",
            "_view_name": "LayoutView",
            "align_content": null,
            "align_items": null,
            "align_self": null,
            "border": null,
            "bottom": null,
            "display": null,
            "flex": null,
            "flex_flow": null,
            "grid_area": null,
            "grid_auto_columns": null,
            "grid_auto_flow": null,
            "grid_auto_rows": null,
            "grid_column": null,
            "grid_gap": null,
            "grid_row": null,
            "grid_template_areas": null,
            "grid_template_columns": null,
            "grid_template_rows": null,
            "height": null,
            "justify_content": null,
            "justify_items": null,
            "left": null,
            "margin": null,
            "max_height": null,
            "max_width": null,
            "min_height": null,
            "min_width": null,
            "object_fit": null,
            "object_position": null,
            "order": null,
            "overflow": null,
            "overflow_x": null,
            "overflow_y": null,
            "padding": null,
            "right": null,
            "top": null,
            "visibility": null,
            "width": null
          }
        },
        "9fba4a901e334003be0b27e4331b1885": {
          "model_module": "@jupyter-widgets/controls",
          "model_name": "DescriptionStyleModel",
          "model_module_version": "1.5.0",
          "state": {
            "_model_module": "@jupyter-widgets/controls",
            "_model_module_version": "1.5.0",
            "_model_name": "DescriptionStyleModel",
            "_view_count": null,
            "_view_module": "@jupyter-widgets/base",
            "_view_module_version": "1.2.0",
            "_view_name": "StyleView",
            "description_width": ""
          }
        },
        "c0f65d6a29f247a48a64195526becb07": {
          "model_module": "@jupyter-widgets/controls",
          "model_name": "HBoxModel",
          "model_module_version": "1.5.0",
          "state": {
            "_dom_classes": [],
            "_model_module": "@jupyter-widgets/controls",
            "_model_module_version": "1.5.0",
            "_model_name": "HBoxModel",
            "_view_count": null,
            "_view_module": "@jupyter-widgets/controls",
            "_view_module_version": "1.5.0",
            "_view_name": "HBoxView",
            "box_style": "",
            "children": [
              "IPY_MODEL_aba5102a17ca41ea8acb892361c5fa8d",
              "IPY_MODEL_cf5c606801ad4a7a9c0d8ba949695e40",
              "IPY_MODEL_90f60d441f254d63b72e14c4f675ee2e"
            ],
            "layout": "IPY_MODEL_b5c1ac66661e4a1094e895de859a0a8f"
          }
        },
        "aba5102a17ca41ea8acb892361c5fa8d": {
          "model_module": "@jupyter-widgets/controls",
          "model_name": "HTMLModel",
          "model_module_version": "1.5.0",
          "state": {
            "_dom_classes": [],
            "_model_module": "@jupyter-widgets/controls",
            "_model_module_version": "1.5.0",
            "_model_name": "HTMLModel",
            "_view_count": null,
            "_view_module": "@jupyter-widgets/controls",
            "_view_module_version": "1.5.0",
            "_view_name": "HTMLView",
            "description": "",
            "description_tooltip": null,
            "layout": "IPY_MODEL_8ce3ba8ca98942188b7fa7bba0c33e18",
            "placeholder": "​",
            "style": "IPY_MODEL_cf1432328b2745d4956af08b4f5b56d2",
            "value": "tokenizer_config.json: 100%"
          }
        },
        "cf5c606801ad4a7a9c0d8ba949695e40": {
          "model_module": "@jupyter-widgets/controls",
          "model_name": "FloatProgressModel",
          "model_module_version": "1.5.0",
          "state": {
            "_dom_classes": [],
            "_model_module": "@jupyter-widgets/controls",
            "_model_module_version": "1.5.0",
            "_model_name": "FloatProgressModel",
            "_view_count": null,
            "_view_module": "@jupyter-widgets/controls",
            "_view_module_version": "1.5.0",
            "_view_name": "ProgressView",
            "bar_style": "success",
            "description": "",
            "description_tooltip": null,
            "layout": "IPY_MODEL_410e7ae836d9468c8038b59267e2fd3b",
            "max": 1284,
            "min": 0,
            "orientation": "horizontal",
            "style": "IPY_MODEL_c534958de7b34afb90db7e31bf719b2c",
            "value": 1284
          }
        },
        "90f60d441f254d63b72e14c4f675ee2e": {
          "model_module": "@jupyter-widgets/controls",
          "model_name": "HTMLModel",
          "model_module_version": "1.5.0",
          "state": {
            "_dom_classes": [],
            "_model_module": "@jupyter-widgets/controls",
            "_model_module_version": "1.5.0",
            "_model_name": "HTMLModel",
            "_view_count": null,
            "_view_module": "@jupyter-widgets/controls",
            "_view_module_version": "1.5.0",
            "_view_name": "HTMLView",
            "description": "",
            "description_tooltip": null,
            "layout": "IPY_MODEL_eea27765d852458dad9700c1a1496830",
            "placeholder": "​",
            "style": "IPY_MODEL_a0a1b67fde684c3580aad1630127a945",
            "value": " 1.28k/1.28k [00:00&lt;00:00, 72.8kB/s]"
          }
        },
        "b5c1ac66661e4a1094e895de859a0a8f": {
          "model_module": "@jupyter-widgets/base",
          "model_name": "LayoutModel",
          "model_module_version": "1.2.0",
          "state": {
            "_model_module": "@jupyter-widgets/base",
            "_model_module_version": "1.2.0",
            "_model_name": "LayoutModel",
            "_view_count": null,
            "_view_module": "@jupyter-widgets/base",
            "_view_module_version": "1.2.0",
            "_view_name": "LayoutView",
            "align_content": null,
            "align_items": null,
            "align_self": null,
            "border": null,
            "bottom": null,
            "display": null,
            "flex": null,
            "flex_flow": null,
            "grid_area": null,
            "grid_auto_columns": null,
            "grid_auto_flow": null,
            "grid_auto_rows": null,
            "grid_column": null,
            "grid_gap": null,
            "grid_row": null,
            "grid_template_areas": null,
            "grid_template_columns": null,
            "grid_template_rows": null,
            "height": null,
            "justify_content": null,
            "justify_items": null,
            "left": null,
            "margin": null,
            "max_height": null,
            "max_width": null,
            "min_height": null,
            "min_width": null,
            "object_fit": null,
            "object_position": null,
            "order": null,
            "overflow": null,
            "overflow_x": null,
            "overflow_y": null,
            "padding": null,
            "right": null,
            "top": null,
            "visibility": null,
            "width": null
          }
        },
        "8ce3ba8ca98942188b7fa7bba0c33e18": {
          "model_module": "@jupyter-widgets/base",
          "model_name": "LayoutModel",
          "model_module_version": "1.2.0",
          "state": {
            "_model_module": "@jupyter-widgets/base",
            "_model_module_version": "1.2.0",
            "_model_name": "LayoutModel",
            "_view_count": null,
            "_view_module": "@jupyter-widgets/base",
            "_view_module_version": "1.2.0",
            "_view_name": "LayoutView",
            "align_content": null,
            "align_items": null,
            "align_self": null,
            "border": null,
            "bottom": null,
            "display": null,
            "flex": null,
            "flex_flow": null,
            "grid_area": null,
            "grid_auto_columns": null,
            "grid_auto_flow": null,
            "grid_auto_rows": null,
            "grid_column": null,
            "grid_gap": null,
            "grid_row": null,
            "grid_template_areas": null,
            "grid_template_columns": null,
            "grid_template_rows": null,
            "height": null,
            "justify_content": null,
            "justify_items": null,
            "left": null,
            "margin": null,
            "max_height": null,
            "max_width": null,
            "min_height": null,
            "min_width": null,
            "object_fit": null,
            "object_position": null,
            "order": null,
            "overflow": null,
            "overflow_x": null,
            "overflow_y": null,
            "padding": null,
            "right": null,
            "top": null,
            "visibility": null,
            "width": null
          }
        },
        "cf1432328b2745d4956af08b4f5b56d2": {
          "model_module": "@jupyter-widgets/controls",
          "model_name": "DescriptionStyleModel",
          "model_module_version": "1.5.0",
          "state": {
            "_model_module": "@jupyter-widgets/controls",
            "_model_module_version": "1.5.0",
            "_model_name": "DescriptionStyleModel",
            "_view_count": null,
            "_view_module": "@jupyter-widgets/base",
            "_view_module_version": "1.2.0",
            "_view_name": "StyleView",
            "description_width": ""
          }
        },
        "410e7ae836d9468c8038b59267e2fd3b": {
          "model_module": "@jupyter-widgets/base",
          "model_name": "LayoutModel",
          "model_module_version": "1.2.0",
          "state": {
            "_model_module": "@jupyter-widgets/base",
            "_model_module_version": "1.2.0",
            "_model_name": "LayoutModel",
            "_view_count": null,
            "_view_module": "@jupyter-widgets/base",
            "_view_module_version": "1.2.0",
            "_view_name": "LayoutView",
            "align_content": null,
            "align_items": null,
            "align_self": null,
            "border": null,
            "bottom": null,
            "display": null,
            "flex": null,
            "flex_flow": null,
            "grid_area": null,
            "grid_auto_columns": null,
            "grid_auto_flow": null,
            "grid_auto_rows": null,
            "grid_column": null,
            "grid_gap": null,
            "grid_row": null,
            "grid_template_areas": null,
            "grid_template_columns": null,
            "grid_template_rows": null,
            "height": null,
            "justify_content": null,
            "justify_items": null,
            "left": null,
            "margin": null,
            "max_height": null,
            "max_width": null,
            "min_height": null,
            "min_width": null,
            "object_fit": null,
            "object_position": null,
            "order": null,
            "overflow": null,
            "overflow_x": null,
            "overflow_y": null,
            "padding": null,
            "right": null,
            "top": null,
            "visibility": null,
            "width": null
          }
        },
        "c534958de7b34afb90db7e31bf719b2c": {
          "model_module": "@jupyter-widgets/controls",
          "model_name": "ProgressStyleModel",
          "model_module_version": "1.5.0",
          "state": {
            "_model_module": "@jupyter-widgets/controls",
            "_model_module_version": "1.5.0",
            "_model_name": "ProgressStyleModel",
            "_view_count": null,
            "_view_module": "@jupyter-widgets/base",
            "_view_module_version": "1.2.0",
            "_view_name": "StyleView",
            "bar_color": null,
            "description_width": ""
          }
        },
        "eea27765d852458dad9700c1a1496830": {
          "model_module": "@jupyter-widgets/base",
          "model_name": "LayoutModel",
          "model_module_version": "1.2.0",
          "state": {
            "_model_module": "@jupyter-widgets/base",
            "_model_module_version": "1.2.0",
            "_model_name": "LayoutModel",
            "_view_count": null,
            "_view_module": "@jupyter-widgets/base",
            "_view_module_version": "1.2.0",
            "_view_name": "LayoutView",
            "align_content": null,
            "align_items": null,
            "align_self": null,
            "border": null,
            "bottom": null,
            "display": null,
            "flex": null,
            "flex_flow": null,
            "grid_area": null,
            "grid_auto_columns": null,
            "grid_auto_flow": null,
            "grid_auto_rows": null,
            "grid_column": null,
            "grid_gap": null,
            "grid_row": null,
            "grid_template_areas": null,
            "grid_template_columns": null,
            "grid_template_rows": null,
            "height": null,
            "justify_content": null,
            "justify_items": null,
            "left": null,
            "margin": null,
            "max_height": null,
            "max_width": null,
            "min_height": null,
            "min_width": null,
            "object_fit": null,
            "object_position": null,
            "order": null,
            "overflow": null,
            "overflow_x": null,
            "overflow_y": null,
            "padding": null,
            "right": null,
            "top": null,
            "visibility": null,
            "width": null
          }
        },
        "a0a1b67fde684c3580aad1630127a945": {
          "model_module": "@jupyter-widgets/controls",
          "model_name": "DescriptionStyleModel",
          "model_module_version": "1.5.0",
          "state": {
            "_model_module": "@jupyter-widgets/controls",
            "_model_module_version": "1.5.0",
            "_model_name": "DescriptionStyleModel",
            "_view_count": null,
            "_view_module": "@jupyter-widgets/base",
            "_view_module_version": "1.2.0",
            "_view_name": "StyleView",
            "description_width": ""
          }
        },
        "7081f1bb0bd147a6ad63a0b268133d96": {
          "model_module": "@jupyter-widgets/controls",
          "model_name": "HBoxModel",
          "model_module_version": "1.5.0",
          "state": {
            "_dom_classes": [],
            "_model_module": "@jupyter-widgets/controls",
            "_model_module_version": "1.5.0",
            "_model_name": "HBoxModel",
            "_view_count": null,
            "_view_module": "@jupyter-widgets/controls",
            "_view_module_version": "1.5.0",
            "_view_name": "HBoxView",
            "box_style": "",
            "children": [
              "IPY_MODEL_ef39f4b5026d4abeb088ca729428a514",
              "IPY_MODEL_1e535331ee0142719ed6252676dc887c",
              "IPY_MODEL_7e7b6f73548f4de6831a461d5fec99a7"
            ],
            "layout": "IPY_MODEL_2a771762bcf24353b4c1dc3ca5e3f001"
          }
        },
        "ef39f4b5026d4abeb088ca729428a514": {
          "model_module": "@jupyter-widgets/controls",
          "model_name": "HTMLModel",
          "model_module_version": "1.5.0",
          "state": {
            "_dom_classes": [],
            "_model_module": "@jupyter-widgets/controls",
            "_model_module_version": "1.5.0",
            "_model_name": "HTMLModel",
            "_view_count": null,
            "_view_module": "@jupyter-widgets/controls",
            "_view_module_version": "1.5.0",
            "_view_name": "HTMLView",
            "description": "",
            "description_tooltip": null,
            "layout": "IPY_MODEL_334f1324285240b580de50ef1ee54443",
            "placeholder": "​",
            "style": "IPY_MODEL_7ee29bbb4425491fa64389fdc2aad0d4",
            "value": "spm.model: 100%"
          }
        },
        "1e535331ee0142719ed6252676dc887c": {
          "model_module": "@jupyter-widgets/controls",
          "model_name": "FloatProgressModel",
          "model_module_version": "1.5.0",
          "state": {
            "_dom_classes": [],
            "_model_module": "@jupyter-widgets/controls",
            "_model_module_version": "1.5.0",
            "_model_name": "FloatProgressModel",
            "_view_count": null,
            "_view_module": "@jupyter-widgets/controls",
            "_view_module_version": "1.5.0",
            "_view_name": "ProgressView",
            "bar_style": "success",
            "description": "",
            "description_tooltip": null,
            "layout": "IPY_MODEL_15924c1598044fc3a457b8fee95dc59b",
            "max": 2464616,
            "min": 0,
            "orientation": "horizontal",
            "style": "IPY_MODEL_746aa369d2fa46ef9768a1e94af2067a",
            "value": 2464616
          }
        },
        "7e7b6f73548f4de6831a461d5fec99a7": {
          "model_module": "@jupyter-widgets/controls",
          "model_name": "HTMLModel",
          "model_module_version": "1.5.0",
          "state": {
            "_dom_classes": [],
            "_model_module": "@jupyter-widgets/controls",
            "_model_module_version": "1.5.0",
            "_model_name": "HTMLModel",
            "_view_count": null,
            "_view_module": "@jupyter-widgets/controls",
            "_view_module_version": "1.5.0",
            "_view_name": "HTMLView",
            "description": "",
            "description_tooltip": null,
            "layout": "IPY_MODEL_219f223841ae47429e4001a0fabdb920",
            "placeholder": "​",
            "style": "IPY_MODEL_fecc82894d574cf1bc956d5efc92f116",
            "value": " 2.46M/2.46M [00:00&lt;00:00, 55.4MB/s]"
          }
        },
        "2a771762bcf24353b4c1dc3ca5e3f001": {
          "model_module": "@jupyter-widgets/base",
          "model_name": "LayoutModel",
          "model_module_version": "1.2.0",
          "state": {
            "_model_module": "@jupyter-widgets/base",
            "_model_module_version": "1.2.0",
            "_model_name": "LayoutModel",
            "_view_count": null,
            "_view_module": "@jupyter-widgets/base",
            "_view_module_version": "1.2.0",
            "_view_name": "LayoutView",
            "align_content": null,
            "align_items": null,
            "align_self": null,
            "border": null,
            "bottom": null,
            "display": null,
            "flex": null,
            "flex_flow": null,
            "grid_area": null,
            "grid_auto_columns": null,
            "grid_auto_flow": null,
            "grid_auto_rows": null,
            "grid_column": null,
            "grid_gap": null,
            "grid_row": null,
            "grid_template_areas": null,
            "grid_template_columns": null,
            "grid_template_rows": null,
            "height": null,
            "justify_content": null,
            "justify_items": null,
            "left": null,
            "margin": null,
            "max_height": null,
            "max_width": null,
            "min_height": null,
            "min_width": null,
            "object_fit": null,
            "object_position": null,
            "order": null,
            "overflow": null,
            "overflow_x": null,
            "overflow_y": null,
            "padding": null,
            "right": null,
            "top": null,
            "visibility": null,
            "width": null
          }
        },
        "334f1324285240b580de50ef1ee54443": {
          "model_module": "@jupyter-widgets/base",
          "model_name": "LayoutModel",
          "model_module_version": "1.2.0",
          "state": {
            "_model_module": "@jupyter-widgets/base",
            "_model_module_version": "1.2.0",
            "_model_name": "LayoutModel",
            "_view_count": null,
            "_view_module": "@jupyter-widgets/base",
            "_view_module_version": "1.2.0",
            "_view_name": "LayoutView",
            "align_content": null,
            "align_items": null,
            "align_self": null,
            "border": null,
            "bottom": null,
            "display": null,
            "flex": null,
            "flex_flow": null,
            "grid_area": null,
            "grid_auto_columns": null,
            "grid_auto_flow": null,
            "grid_auto_rows": null,
            "grid_column": null,
            "grid_gap": null,
            "grid_row": null,
            "grid_template_areas": null,
            "grid_template_columns": null,
            "grid_template_rows": null,
            "height": null,
            "justify_content": null,
            "justify_items": null,
            "left": null,
            "margin": null,
            "max_height": null,
            "max_width": null,
            "min_height": null,
            "min_width": null,
            "object_fit": null,
            "object_position": null,
            "order": null,
            "overflow": null,
            "overflow_x": null,
            "overflow_y": null,
            "padding": null,
            "right": null,
            "top": null,
            "visibility": null,
            "width": null
          }
        },
        "7ee29bbb4425491fa64389fdc2aad0d4": {
          "model_module": "@jupyter-widgets/controls",
          "model_name": "DescriptionStyleModel",
          "model_module_version": "1.5.0",
          "state": {
            "_model_module": "@jupyter-widgets/controls",
            "_model_module_version": "1.5.0",
            "_model_name": "DescriptionStyleModel",
            "_view_count": null,
            "_view_module": "@jupyter-widgets/base",
            "_view_module_version": "1.2.0",
            "_view_name": "StyleView",
            "description_width": ""
          }
        },
        "15924c1598044fc3a457b8fee95dc59b": {
          "model_module": "@jupyter-widgets/base",
          "model_name": "LayoutModel",
          "model_module_version": "1.2.0",
          "state": {
            "_model_module": "@jupyter-widgets/base",
            "_model_module_version": "1.2.0",
            "_model_name": "LayoutModel",
            "_view_count": null,
            "_view_module": "@jupyter-widgets/base",
            "_view_module_version": "1.2.0",
            "_view_name": "LayoutView",
            "align_content": null,
            "align_items": null,
            "align_self": null,
            "border": null,
            "bottom": null,
            "display": null,
            "flex": null,
            "flex_flow": null,
            "grid_area": null,
            "grid_auto_columns": null,
            "grid_auto_flow": null,
            "grid_auto_rows": null,
            "grid_column": null,
            "grid_gap": null,
            "grid_row": null,
            "grid_template_areas": null,
            "grid_template_columns": null,
            "grid_template_rows": null,
            "height": null,
            "justify_content": null,
            "justify_items": null,
            "left": null,
            "margin": null,
            "max_height": null,
            "max_width": null,
            "min_height": null,
            "min_width": null,
            "object_fit": null,
            "object_position": null,
            "order": null,
            "overflow": null,
            "overflow_x": null,
            "overflow_y": null,
            "padding": null,
            "right": null,
            "top": null,
            "visibility": null,
            "width": null
          }
        },
        "746aa369d2fa46ef9768a1e94af2067a": {
          "model_module": "@jupyter-widgets/controls",
          "model_name": "ProgressStyleModel",
          "model_module_version": "1.5.0",
          "state": {
            "_model_module": "@jupyter-widgets/controls",
            "_model_module_version": "1.5.0",
            "_model_name": "ProgressStyleModel",
            "_view_count": null,
            "_view_module": "@jupyter-widgets/base",
            "_view_module_version": "1.2.0",
            "_view_name": "StyleView",
            "bar_color": null,
            "description_width": ""
          }
        },
        "219f223841ae47429e4001a0fabdb920": {
          "model_module": "@jupyter-widgets/base",
          "model_name": "LayoutModel",
          "model_module_version": "1.2.0",
          "state": {
            "_model_module": "@jupyter-widgets/base",
            "_model_module_version": "1.2.0",
            "_model_name": "LayoutModel",
            "_view_count": null,
            "_view_module": "@jupyter-widgets/base",
            "_view_module_version": "1.2.0",
            "_view_name": "LayoutView",
            "align_content": null,
            "align_items": null,
            "align_self": null,
            "border": null,
            "bottom": null,
            "display": null,
            "flex": null,
            "flex_flow": null,
            "grid_area": null,
            "grid_auto_columns": null,
            "grid_auto_flow": null,
            "grid_auto_rows": null,
            "grid_column": null,
            "grid_gap": null,
            "grid_row": null,
            "grid_template_areas": null,
            "grid_template_columns": null,
            "grid_template_rows": null,
            "height": null,
            "justify_content": null,
            "justify_items": null,
            "left": null,
            "margin": null,
            "max_height": null,
            "max_width": null,
            "min_height": null,
            "min_width": null,
            "object_fit": null,
            "object_position": null,
            "order": null,
            "overflow": null,
            "overflow_x": null,
            "overflow_y": null,
            "padding": null,
            "right": null,
            "top": null,
            "visibility": null,
            "width": null
          }
        },
        "fecc82894d574cf1bc956d5efc92f116": {
          "model_module": "@jupyter-widgets/controls",
          "model_name": "DescriptionStyleModel",
          "model_module_version": "1.5.0",
          "state": {
            "_model_module": "@jupyter-widgets/controls",
            "_model_module_version": "1.5.0",
            "_model_name": "DescriptionStyleModel",
            "_view_count": null,
            "_view_module": "@jupyter-widgets/base",
            "_view_module_version": "1.2.0",
            "_view_name": "StyleView",
            "description_width": ""
          }
        },
        "cbbc1b34c2a04078abbd42abb0c8333e": {
          "model_module": "@jupyter-widgets/controls",
          "model_name": "HBoxModel",
          "model_module_version": "1.5.0",
          "state": {
            "_dom_classes": [],
            "_model_module": "@jupyter-widgets/controls",
            "_model_module_version": "1.5.0",
            "_model_name": "HBoxModel",
            "_view_count": null,
            "_view_module": "@jupyter-widgets/controls",
            "_view_module_version": "1.5.0",
            "_view_name": "HBoxView",
            "box_style": "",
            "children": [
              "IPY_MODEL_629b666cf35c433e8c9d15058a633c2f",
              "IPY_MODEL_3a3387ad51a849cbae2952410ec5ab31",
              "IPY_MODEL_58386e5c207f42219f588f1f5aa4e5e8"
            ],
            "layout": "IPY_MODEL_8f7f6582e6bf40aba56506b9558b7391"
          }
        },
        "629b666cf35c433e8c9d15058a633c2f": {
          "model_module": "@jupyter-widgets/controls",
          "model_name": "HTMLModel",
          "model_module_version": "1.5.0",
          "state": {
            "_dom_classes": [],
            "_model_module": "@jupyter-widgets/controls",
            "_model_module_version": "1.5.0",
            "_model_name": "HTMLModel",
            "_view_count": null,
            "_view_module": "@jupyter-widgets/controls",
            "_view_module_version": "1.5.0",
            "_view_name": "HTMLView",
            "description": "",
            "description_tooltip": null,
            "layout": "IPY_MODEL_94ee5b3f28164dfea0ecd9ba2e5a0e52",
            "placeholder": "​",
            "style": "IPY_MODEL_cafc1a2141b649a6af55d4277992b740",
            "value": "tokenizer.json: 100%"
          }
        },
        "3a3387ad51a849cbae2952410ec5ab31": {
          "model_module": "@jupyter-widgets/controls",
          "model_name": "FloatProgressModel",
          "model_module_version": "1.5.0",
          "state": {
            "_dom_classes": [],
            "_model_module": "@jupyter-widgets/controls",
            "_model_module_version": "1.5.0",
            "_model_name": "FloatProgressModel",
            "_view_count": null,
            "_view_module": "@jupyter-widgets/controls",
            "_view_module_version": "1.5.0",
            "_view_name": "ProgressView",
            "bar_style": "success",
            "description": "",
            "description_tooltip": null,
            "layout": "IPY_MODEL_0a357143ca5941b1855296adbf9fa2a8",
            "max": 8656646,
            "min": 0,
            "orientation": "horizontal",
            "style": "IPY_MODEL_0a5dccd42aa84e5d9ad72f75db119127",
            "value": 8656646
          }
        },
        "58386e5c207f42219f588f1f5aa4e5e8": {
          "model_module": "@jupyter-widgets/controls",
          "model_name": "HTMLModel",
          "model_module_version": "1.5.0",
          "state": {
            "_dom_classes": [],
            "_model_module": "@jupyter-widgets/controls",
            "_model_module_version": "1.5.0",
            "_model_name": "HTMLModel",
            "_view_count": null,
            "_view_module": "@jupyter-widgets/controls",
            "_view_module_version": "1.5.0",
            "_view_name": "HTMLView",
            "description": "",
            "description_tooltip": null,
            "layout": "IPY_MODEL_47e5f70259d742dcb5f56d8e2c630b18",
            "placeholder": "​",
            "style": "IPY_MODEL_e146be70762c463fa05f91fa700e4958",
            "value": " 8.66M/8.66M [00:00&lt;00:00, 18.4MB/s]"
          }
        },
        "8f7f6582e6bf40aba56506b9558b7391": {
          "model_module": "@jupyter-widgets/base",
          "model_name": "LayoutModel",
          "model_module_version": "1.2.0",
          "state": {
            "_model_module": "@jupyter-widgets/base",
            "_model_module_version": "1.2.0",
            "_model_name": "LayoutModel",
            "_view_count": null,
            "_view_module": "@jupyter-widgets/base",
            "_view_module_version": "1.2.0",
            "_view_name": "LayoutView",
            "align_content": null,
            "align_items": null,
            "align_self": null,
            "border": null,
            "bottom": null,
            "display": null,
            "flex": null,
            "flex_flow": null,
            "grid_area": null,
            "grid_auto_columns": null,
            "grid_auto_flow": null,
            "grid_auto_rows": null,
            "grid_column": null,
            "grid_gap": null,
            "grid_row": null,
            "grid_template_areas": null,
            "grid_template_columns": null,
            "grid_template_rows": null,
            "height": null,
            "justify_content": null,
            "justify_items": null,
            "left": null,
            "margin": null,
            "max_height": null,
            "max_width": null,
            "min_height": null,
            "min_width": null,
            "object_fit": null,
            "object_position": null,
            "order": null,
            "overflow": null,
            "overflow_x": null,
            "overflow_y": null,
            "padding": null,
            "right": null,
            "top": null,
            "visibility": null,
            "width": null
          }
        },
        "94ee5b3f28164dfea0ecd9ba2e5a0e52": {
          "model_module": "@jupyter-widgets/base",
          "model_name": "LayoutModel",
          "model_module_version": "1.2.0",
          "state": {
            "_model_module": "@jupyter-widgets/base",
            "_model_module_version": "1.2.0",
            "_model_name": "LayoutModel",
            "_view_count": null,
            "_view_module": "@jupyter-widgets/base",
            "_view_module_version": "1.2.0",
            "_view_name": "LayoutView",
            "align_content": null,
            "align_items": null,
            "align_self": null,
            "border": null,
            "bottom": null,
            "display": null,
            "flex": null,
            "flex_flow": null,
            "grid_area": null,
            "grid_auto_columns": null,
            "grid_auto_flow": null,
            "grid_auto_rows": null,
            "grid_column": null,
            "grid_gap": null,
            "grid_row": null,
            "grid_template_areas": null,
            "grid_template_columns": null,
            "grid_template_rows": null,
            "height": null,
            "justify_content": null,
            "justify_items": null,
            "left": null,
            "margin": null,
            "max_height": null,
            "max_width": null,
            "min_height": null,
            "min_width": null,
            "object_fit": null,
            "object_position": null,
            "order": null,
            "overflow": null,
            "overflow_x": null,
            "overflow_y": null,
            "padding": null,
            "right": null,
            "top": null,
            "visibility": null,
            "width": null
          }
        },
        "cafc1a2141b649a6af55d4277992b740": {
          "model_module": "@jupyter-widgets/controls",
          "model_name": "DescriptionStyleModel",
          "model_module_version": "1.5.0",
          "state": {
            "_model_module": "@jupyter-widgets/controls",
            "_model_module_version": "1.5.0",
            "_model_name": "DescriptionStyleModel",
            "_view_count": null,
            "_view_module": "@jupyter-widgets/base",
            "_view_module_version": "1.2.0",
            "_view_name": "StyleView",
            "description_width": ""
          }
        },
        "0a357143ca5941b1855296adbf9fa2a8": {
          "model_module": "@jupyter-widgets/base",
          "model_name": "LayoutModel",
          "model_module_version": "1.2.0",
          "state": {
            "_model_module": "@jupyter-widgets/base",
            "_model_module_version": "1.2.0",
            "_model_name": "LayoutModel",
            "_view_count": null,
            "_view_module": "@jupyter-widgets/base",
            "_view_module_version": "1.2.0",
            "_view_name": "LayoutView",
            "align_content": null,
            "align_items": null,
            "align_self": null,
            "border": null,
            "bottom": null,
            "display": null,
            "flex": null,
            "flex_flow": null,
            "grid_area": null,
            "grid_auto_columns": null,
            "grid_auto_flow": null,
            "grid_auto_rows": null,
            "grid_column": null,
            "grid_gap": null,
            "grid_row": null,
            "grid_template_areas": null,
            "grid_template_columns": null,
            "grid_template_rows": null,
            "height": null,
            "justify_content": null,
            "justify_items": null,
            "left": null,
            "margin": null,
            "max_height": null,
            "max_width": null,
            "min_height": null,
            "min_width": null,
            "object_fit": null,
            "object_position": null,
            "order": null,
            "overflow": null,
            "overflow_x": null,
            "overflow_y": null,
            "padding": null,
            "right": null,
            "top": null,
            "visibility": null,
            "width": null
          }
        },
        "0a5dccd42aa84e5d9ad72f75db119127": {
          "model_module": "@jupyter-widgets/controls",
          "model_name": "ProgressStyleModel",
          "model_module_version": "1.5.0",
          "state": {
            "_model_module": "@jupyter-widgets/controls",
            "_model_module_version": "1.5.0",
            "_model_name": "ProgressStyleModel",
            "_view_count": null,
            "_view_module": "@jupyter-widgets/base",
            "_view_module_version": "1.2.0",
            "_view_name": "StyleView",
            "bar_color": null,
            "description_width": ""
          }
        },
        "47e5f70259d742dcb5f56d8e2c630b18": {
          "model_module": "@jupyter-widgets/base",
          "model_name": "LayoutModel",
          "model_module_version": "1.2.0",
          "state": {
            "_model_module": "@jupyter-widgets/base",
            "_model_module_version": "1.2.0",
            "_model_name": "LayoutModel",
            "_view_count": null,
            "_view_module": "@jupyter-widgets/base",
            "_view_module_version": "1.2.0",
            "_view_name": "LayoutView",
            "align_content": null,
            "align_items": null,
            "align_self": null,
            "border": null,
            "bottom": null,
            "display": null,
            "flex": null,
            "flex_flow": null,
            "grid_area": null,
            "grid_auto_columns": null,
            "grid_auto_flow": null,
            "grid_auto_rows": null,
            "grid_column": null,
            "grid_gap": null,
            "grid_row": null,
            "grid_template_areas": null,
            "grid_template_columns": null,
            "grid_template_rows": null,
            "height": null,
            "justify_content": null,
            "justify_items": null,
            "left": null,
            "margin": null,
            "max_height": null,
            "max_width": null,
            "min_height": null,
            "min_width": null,
            "object_fit": null,
            "object_position": null,
            "order": null,
            "overflow": null,
            "overflow_x": null,
            "overflow_y": null,
            "padding": null,
            "right": null,
            "top": null,
            "visibility": null,
            "width": null
          }
        },
        "e146be70762c463fa05f91fa700e4958": {
          "model_module": "@jupyter-widgets/controls",
          "model_name": "DescriptionStyleModel",
          "model_module_version": "1.5.0",
          "state": {
            "_model_module": "@jupyter-widgets/controls",
            "_model_module_version": "1.5.0",
            "_model_name": "DescriptionStyleModel",
            "_view_count": null,
            "_view_module": "@jupyter-widgets/base",
            "_view_module_version": "1.2.0",
            "_view_name": "StyleView",
            "description_width": ""
          }
        },
        "6f8a24c4c1d44fd097e9b1816587cdae": {
          "model_module": "@jupyter-widgets/controls",
          "model_name": "HBoxModel",
          "model_module_version": "1.5.0",
          "state": {
            "_dom_classes": [],
            "_model_module": "@jupyter-widgets/controls",
            "_model_module_version": "1.5.0",
            "_model_name": "HBoxModel",
            "_view_count": null,
            "_view_module": "@jupyter-widgets/controls",
            "_view_module_version": "1.5.0",
            "_view_name": "HBoxView",
            "box_style": "",
            "children": [
              "IPY_MODEL_80cc3c40ddf844b1a85dfaab12bbd29d",
              "IPY_MODEL_ccf07389cad241239dd095710617aec5",
              "IPY_MODEL_d3d518d2590543a4aa250ea058a959cd"
            ],
            "layout": "IPY_MODEL_080fe304f5624211af9f2b30416407df"
          }
        },
        "80cc3c40ddf844b1a85dfaab12bbd29d": {
          "model_module": "@jupyter-widgets/controls",
          "model_name": "HTMLModel",
          "model_module_version": "1.5.0",
          "state": {
            "_dom_classes": [],
            "_model_module": "@jupyter-widgets/controls",
            "_model_module_version": "1.5.0",
            "_model_name": "HTMLModel",
            "_view_count": null,
            "_view_module": "@jupyter-widgets/controls",
            "_view_module_version": "1.5.0",
            "_view_name": "HTMLView",
            "description": "",
            "description_tooltip": null,
            "layout": "IPY_MODEL_9453d221dbc94f5c8a8d7e4de0a1f9c5",
            "placeholder": "​",
            "style": "IPY_MODEL_42da3e59246e46d2b698914d9faac9cc",
            "value": "added_tokens.json: 100%"
          }
        },
        "ccf07389cad241239dd095710617aec5": {
          "model_module": "@jupyter-widgets/controls",
          "model_name": "FloatProgressModel",
          "model_module_version": "1.5.0",
          "state": {
            "_dom_classes": [],
            "_model_module": "@jupyter-widgets/controls",
            "_model_module_version": "1.5.0",
            "_model_name": "FloatProgressModel",
            "_view_count": null,
            "_view_module": "@jupyter-widgets/controls",
            "_view_module_version": "1.5.0",
            "_view_name": "ProgressView",
            "bar_style": "success",
            "description": "",
            "description_tooltip": null,
            "layout": "IPY_MODEL_3987189e9dfb461db1593c4ad219c04d",
            "max": 23,
            "min": 0,
            "orientation": "horizontal",
            "style": "IPY_MODEL_2af77223d39846a98d45e838a6d9a9ad",
            "value": 23
          }
        },
        "d3d518d2590543a4aa250ea058a959cd": {
          "model_module": "@jupyter-widgets/controls",
          "model_name": "HTMLModel",
          "model_module_version": "1.5.0",
          "state": {
            "_dom_classes": [],
            "_model_module": "@jupyter-widgets/controls",
            "_model_module_version": "1.5.0",
            "_model_name": "HTMLModel",
            "_view_count": null,
            "_view_module": "@jupyter-widgets/controls",
            "_view_module_version": "1.5.0",
            "_view_name": "HTMLView",
            "description": "",
            "description_tooltip": null,
            "layout": "IPY_MODEL_dea86525e1c44055bd3bfa6a8b13c9fb",
            "placeholder": "​",
            "style": "IPY_MODEL_209406e0cae14649a23699f932179ca0",
            "value": " 23.0/23.0 [00:00&lt;00:00, 1.25kB/s]"
          }
        },
        "080fe304f5624211af9f2b30416407df": {
          "model_module": "@jupyter-widgets/base",
          "model_name": "LayoutModel",
          "model_module_version": "1.2.0",
          "state": {
            "_model_module": "@jupyter-widgets/base",
            "_model_module_version": "1.2.0",
            "_model_name": "LayoutModel",
            "_view_count": null,
            "_view_module": "@jupyter-widgets/base",
            "_view_module_version": "1.2.0",
            "_view_name": "LayoutView",
            "align_content": null,
            "align_items": null,
            "align_self": null,
            "border": null,
            "bottom": null,
            "display": null,
            "flex": null,
            "flex_flow": null,
            "grid_area": null,
            "grid_auto_columns": null,
            "grid_auto_flow": null,
            "grid_auto_rows": null,
            "grid_column": null,
            "grid_gap": null,
            "grid_row": null,
            "grid_template_areas": null,
            "grid_template_columns": null,
            "grid_template_rows": null,
            "height": null,
            "justify_content": null,
            "justify_items": null,
            "left": null,
            "margin": null,
            "max_height": null,
            "max_width": null,
            "min_height": null,
            "min_width": null,
            "object_fit": null,
            "object_position": null,
            "order": null,
            "overflow": null,
            "overflow_x": null,
            "overflow_y": null,
            "padding": null,
            "right": null,
            "top": null,
            "visibility": null,
            "width": null
          }
        },
        "9453d221dbc94f5c8a8d7e4de0a1f9c5": {
          "model_module": "@jupyter-widgets/base",
          "model_name": "LayoutModel",
          "model_module_version": "1.2.0",
          "state": {
            "_model_module": "@jupyter-widgets/base",
            "_model_module_version": "1.2.0",
            "_model_name": "LayoutModel",
            "_view_count": null,
            "_view_module": "@jupyter-widgets/base",
            "_view_module_version": "1.2.0",
            "_view_name": "LayoutView",
            "align_content": null,
            "align_items": null,
            "align_self": null,
            "border": null,
            "bottom": null,
            "display": null,
            "flex": null,
            "flex_flow": null,
            "grid_area": null,
            "grid_auto_columns": null,
            "grid_auto_flow": null,
            "grid_auto_rows": null,
            "grid_column": null,
            "grid_gap": null,
            "grid_row": null,
            "grid_template_areas": null,
            "grid_template_columns": null,
            "grid_template_rows": null,
            "height": null,
            "justify_content": null,
            "justify_items": null,
            "left": null,
            "margin": null,
            "max_height": null,
            "max_width": null,
            "min_height": null,
            "min_width": null,
            "object_fit": null,
            "object_position": null,
            "order": null,
            "overflow": null,
            "overflow_x": null,
            "overflow_y": null,
            "padding": null,
            "right": null,
            "top": null,
            "visibility": null,
            "width": null
          }
        },
        "42da3e59246e46d2b698914d9faac9cc": {
          "model_module": "@jupyter-widgets/controls",
          "model_name": "DescriptionStyleModel",
          "model_module_version": "1.5.0",
          "state": {
            "_model_module": "@jupyter-widgets/controls",
            "_model_module_version": "1.5.0",
            "_model_name": "DescriptionStyleModel",
            "_view_count": null,
            "_view_module": "@jupyter-widgets/base",
            "_view_module_version": "1.2.0",
            "_view_name": "StyleView",
            "description_width": ""
          }
        },
        "3987189e9dfb461db1593c4ad219c04d": {
          "model_module": "@jupyter-widgets/base",
          "model_name": "LayoutModel",
          "model_module_version": "1.2.0",
          "state": {
            "_model_module": "@jupyter-widgets/base",
            "_model_module_version": "1.2.0",
            "_model_name": "LayoutModel",
            "_view_count": null,
            "_view_module": "@jupyter-widgets/base",
            "_view_module_version": "1.2.0",
            "_view_name": "LayoutView",
            "align_content": null,
            "align_items": null,
            "align_self": null,
            "border": null,
            "bottom": null,
            "display": null,
            "flex": null,
            "flex_flow": null,
            "grid_area": null,
            "grid_auto_columns": null,
            "grid_auto_flow": null,
            "grid_auto_rows": null,
            "grid_column": null,
            "grid_gap": null,
            "grid_row": null,
            "grid_template_areas": null,
            "grid_template_columns": null,
            "grid_template_rows": null,
            "height": null,
            "justify_content": null,
            "justify_items": null,
            "left": null,
            "margin": null,
            "max_height": null,
            "max_width": null,
            "min_height": null,
            "min_width": null,
            "object_fit": null,
            "object_position": null,
            "order": null,
            "overflow": null,
            "overflow_x": null,
            "overflow_y": null,
            "padding": null,
            "right": null,
            "top": null,
            "visibility": null,
            "width": null
          }
        },
        "2af77223d39846a98d45e838a6d9a9ad": {
          "model_module": "@jupyter-widgets/controls",
          "model_name": "ProgressStyleModel",
          "model_module_version": "1.5.0",
          "state": {
            "_model_module": "@jupyter-widgets/controls",
            "_model_module_version": "1.5.0",
            "_model_name": "ProgressStyleModel",
            "_view_count": null,
            "_view_module": "@jupyter-widgets/base",
            "_view_module_version": "1.2.0",
            "_view_name": "StyleView",
            "bar_color": null,
            "description_width": ""
          }
        },
        "dea86525e1c44055bd3bfa6a8b13c9fb": {
          "model_module": "@jupyter-widgets/base",
          "model_name": "LayoutModel",
          "model_module_version": "1.2.0",
          "state": {
            "_model_module": "@jupyter-widgets/base",
            "_model_module_version": "1.2.0",
            "_model_name": "LayoutModel",
            "_view_count": null,
            "_view_module": "@jupyter-widgets/base",
            "_view_module_version": "1.2.0",
            "_view_name": "LayoutView",
            "align_content": null,
            "align_items": null,
            "align_self": null,
            "border": null,
            "bottom": null,
            "display": null,
            "flex": null,
            "flex_flow": null,
            "grid_area": null,
            "grid_auto_columns": null,
            "grid_auto_flow": null,
            "grid_auto_rows": null,
            "grid_column": null,
            "grid_gap": null,
            "grid_row": null,
            "grid_template_areas": null,
            "grid_template_columns": null,
            "grid_template_rows": null,
            "height": null,
            "justify_content": null,
            "justify_items": null,
            "left": null,
            "margin": null,
            "max_height": null,
            "max_width": null,
            "min_height": null,
            "min_width": null,
            "object_fit": null,
            "object_position": null,
            "order": null,
            "overflow": null,
            "overflow_x": null,
            "overflow_y": null,
            "padding": null,
            "right": null,
            "top": null,
            "visibility": null,
            "width": null
          }
        },
        "209406e0cae14649a23699f932179ca0": {
          "model_module": "@jupyter-widgets/controls",
          "model_name": "DescriptionStyleModel",
          "model_module_version": "1.5.0",
          "state": {
            "_model_module": "@jupyter-widgets/controls",
            "_model_module_version": "1.5.0",
            "_model_name": "DescriptionStyleModel",
            "_view_count": null,
            "_view_module": "@jupyter-widgets/base",
            "_view_module_version": "1.2.0",
            "_view_name": "StyleView",
            "description_width": ""
          }
        },
        "bd589169d7db40c9b3d477277d01f4de": {
          "model_module": "@jupyter-widgets/controls",
          "model_name": "HBoxModel",
          "model_module_version": "1.5.0",
          "state": {
            "_dom_classes": [],
            "_model_module": "@jupyter-widgets/controls",
            "_model_module_version": "1.5.0",
            "_model_name": "HBoxModel",
            "_view_count": null,
            "_view_module": "@jupyter-widgets/controls",
            "_view_module_version": "1.5.0",
            "_view_name": "HBoxView",
            "box_style": "",
            "children": [
              "IPY_MODEL_657bb19eecc54f2e8b2fe4c21f0f381e",
              "IPY_MODEL_f04f83297f2c42d3a488f333f8ce507c",
              "IPY_MODEL_16efcaacb772403dbceef7fbb3d5cecb"
            ],
            "layout": "IPY_MODEL_e68f60e21e27479bb130924cf0079575"
          }
        },
        "657bb19eecc54f2e8b2fe4c21f0f381e": {
          "model_module": "@jupyter-widgets/controls",
          "model_name": "HTMLModel",
          "model_module_version": "1.5.0",
          "state": {
            "_dom_classes": [],
            "_model_module": "@jupyter-widgets/controls",
            "_model_module_version": "1.5.0",
            "_model_name": "HTMLModel",
            "_view_count": null,
            "_view_module": "@jupyter-widgets/controls",
            "_view_module_version": "1.5.0",
            "_view_name": "HTMLView",
            "description": "",
            "description_tooltip": null,
            "layout": "IPY_MODEL_0fe0b1eaece54ce499064a1024e60779",
            "placeholder": "​",
            "style": "IPY_MODEL_fb1fb751b68f4135bf0a6e398fe1348a",
            "value": "special_tokens_map.json: 100%"
          }
        },
        "f04f83297f2c42d3a488f333f8ce507c": {
          "model_module": "@jupyter-widgets/controls",
          "model_name": "FloatProgressModel",
          "model_module_version": "1.5.0",
          "state": {
            "_dom_classes": [],
            "_model_module": "@jupyter-widgets/controls",
            "_model_module_version": "1.5.0",
            "_model_name": "FloatProgressModel",
            "_view_count": null,
            "_view_module": "@jupyter-widgets/controls",
            "_view_module_version": "1.5.0",
            "_view_name": "ProgressView",
            "bar_style": "success",
            "description": "",
            "description_tooltip": null,
            "layout": "IPY_MODEL_378061433f9143e08c52f4f65ec149a3",
            "max": 286,
            "min": 0,
            "orientation": "horizontal",
            "style": "IPY_MODEL_dca97be486e547a3a05b9a8bc2fd3ab7",
            "value": 286
          }
        },
        "16efcaacb772403dbceef7fbb3d5cecb": {
          "model_module": "@jupyter-widgets/controls",
          "model_name": "HTMLModel",
          "model_module_version": "1.5.0",
          "state": {
            "_dom_classes": [],
            "_model_module": "@jupyter-widgets/controls",
            "_model_module_version": "1.5.0",
            "_model_name": "HTMLModel",
            "_view_count": null,
            "_view_module": "@jupyter-widgets/controls",
            "_view_module_version": "1.5.0",
            "_view_name": "HTMLView",
            "description": "",
            "description_tooltip": null,
            "layout": "IPY_MODEL_d02dce24e9c94893b8d7f7185872e352",
            "placeholder": "​",
            "style": "IPY_MODEL_1833ec8fdac44a10adbcc758ecf67701",
            "value": " 286/286 [00:00&lt;00:00, 8.59kB/s]"
          }
        },
        "e68f60e21e27479bb130924cf0079575": {
          "model_module": "@jupyter-widgets/base",
          "model_name": "LayoutModel",
          "model_module_version": "1.2.0",
          "state": {
            "_model_module": "@jupyter-widgets/base",
            "_model_module_version": "1.2.0",
            "_model_name": "LayoutModel",
            "_view_count": null,
            "_view_module": "@jupyter-widgets/base",
            "_view_module_version": "1.2.0",
            "_view_name": "LayoutView",
            "align_content": null,
            "align_items": null,
            "align_self": null,
            "border": null,
            "bottom": null,
            "display": null,
            "flex": null,
            "flex_flow": null,
            "grid_area": null,
            "grid_auto_columns": null,
            "grid_auto_flow": null,
            "grid_auto_rows": null,
            "grid_column": null,
            "grid_gap": null,
            "grid_row": null,
            "grid_template_areas": null,
            "grid_template_columns": null,
            "grid_template_rows": null,
            "height": null,
            "justify_content": null,
            "justify_items": null,
            "left": null,
            "margin": null,
            "max_height": null,
            "max_width": null,
            "min_height": null,
            "min_width": null,
            "object_fit": null,
            "object_position": null,
            "order": null,
            "overflow": null,
            "overflow_x": null,
            "overflow_y": null,
            "padding": null,
            "right": null,
            "top": null,
            "visibility": null,
            "width": null
          }
        },
        "0fe0b1eaece54ce499064a1024e60779": {
          "model_module": "@jupyter-widgets/base",
          "model_name": "LayoutModel",
          "model_module_version": "1.2.0",
          "state": {
            "_model_module": "@jupyter-widgets/base",
            "_model_module_version": "1.2.0",
            "_model_name": "LayoutModel",
            "_view_count": null,
            "_view_module": "@jupyter-widgets/base",
            "_view_module_version": "1.2.0",
            "_view_name": "LayoutView",
            "align_content": null,
            "align_items": null,
            "align_self": null,
            "border": null,
            "bottom": null,
            "display": null,
            "flex": null,
            "flex_flow": null,
            "grid_area": null,
            "grid_auto_columns": null,
            "grid_auto_flow": null,
            "grid_auto_rows": null,
            "grid_column": null,
            "grid_gap": null,
            "grid_row": null,
            "grid_template_areas": null,
            "grid_template_columns": null,
            "grid_template_rows": null,
            "height": null,
            "justify_content": null,
            "justify_items": null,
            "left": null,
            "margin": null,
            "max_height": null,
            "max_width": null,
            "min_height": null,
            "min_width": null,
            "object_fit": null,
            "object_position": null,
            "order": null,
            "overflow": null,
            "overflow_x": null,
            "overflow_y": null,
            "padding": null,
            "right": null,
            "top": null,
            "visibility": null,
            "width": null
          }
        },
        "fb1fb751b68f4135bf0a6e398fe1348a": {
          "model_module": "@jupyter-widgets/controls",
          "model_name": "DescriptionStyleModel",
          "model_module_version": "1.5.0",
          "state": {
            "_model_module": "@jupyter-widgets/controls",
            "_model_module_version": "1.5.0",
            "_model_name": "DescriptionStyleModel",
            "_view_count": null,
            "_view_module": "@jupyter-widgets/base",
            "_view_module_version": "1.2.0",
            "_view_name": "StyleView",
            "description_width": ""
          }
        },
        "378061433f9143e08c52f4f65ec149a3": {
          "model_module": "@jupyter-widgets/base",
          "model_name": "LayoutModel",
          "model_module_version": "1.2.0",
          "state": {
            "_model_module": "@jupyter-widgets/base",
            "_model_module_version": "1.2.0",
            "_model_name": "LayoutModel",
            "_view_count": null,
            "_view_module": "@jupyter-widgets/base",
            "_view_module_version": "1.2.0",
            "_view_name": "LayoutView",
            "align_content": null,
            "align_items": null,
            "align_self": null,
            "border": null,
            "bottom": null,
            "display": null,
            "flex": null,
            "flex_flow": null,
            "grid_area": null,
            "grid_auto_columns": null,
            "grid_auto_flow": null,
            "grid_auto_rows": null,
            "grid_column": null,
            "grid_gap": null,
            "grid_row": null,
            "grid_template_areas": null,
            "grid_template_columns": null,
            "grid_template_rows": null,
            "height": null,
            "justify_content": null,
            "justify_items": null,
            "left": null,
            "margin": null,
            "max_height": null,
            "max_width": null,
            "min_height": null,
            "min_width": null,
            "object_fit": null,
            "object_position": null,
            "order": null,
            "overflow": null,
            "overflow_x": null,
            "overflow_y": null,
            "padding": null,
            "right": null,
            "top": null,
            "visibility": null,
            "width": null
          }
        },
        "dca97be486e547a3a05b9a8bc2fd3ab7": {
          "model_module": "@jupyter-widgets/controls",
          "model_name": "ProgressStyleModel",
          "model_module_version": "1.5.0",
          "state": {
            "_model_module": "@jupyter-widgets/controls",
            "_model_module_version": "1.5.0",
            "_model_name": "ProgressStyleModel",
            "_view_count": null,
            "_view_module": "@jupyter-widgets/base",
            "_view_module_version": "1.2.0",
            "_view_name": "StyleView",
            "bar_color": null,
            "description_width": ""
          }
        },
        "d02dce24e9c94893b8d7f7185872e352": {
          "model_module": "@jupyter-widgets/base",
          "model_name": "LayoutModel",
          "model_module_version": "1.2.0",
          "state": {
            "_model_module": "@jupyter-widgets/base",
            "_model_module_version": "1.2.0",
            "_model_name": "LayoutModel",
            "_view_count": null,
            "_view_module": "@jupyter-widgets/base",
            "_view_module_version": "1.2.0",
            "_view_name": "LayoutView",
            "align_content": null,
            "align_items": null,
            "align_self": null,
            "border": null,
            "bottom": null,
            "display": null,
            "flex": null,
            "flex_flow": null,
            "grid_area": null,
            "grid_auto_columns": null,
            "grid_auto_flow": null,
            "grid_auto_rows": null,
            "grid_column": null,
            "grid_gap": null,
            "grid_row": null,
            "grid_template_areas": null,
            "grid_template_columns": null,
            "grid_template_rows": null,
            "height": null,
            "justify_content": null,
            "justify_items": null,
            "left": null,
            "margin": null,
            "max_height": null,
            "max_width": null,
            "min_height": null,
            "min_width": null,
            "object_fit": null,
            "object_position": null,
            "order": null,
            "overflow": null,
            "overflow_x": null,
            "overflow_y": null,
            "padding": null,
            "right": null,
            "top": null,
            "visibility": null,
            "width": null
          }
        },
        "1833ec8fdac44a10adbcc758ecf67701": {
          "model_module": "@jupyter-widgets/controls",
          "model_name": "DescriptionStyleModel",
          "model_module_version": "1.5.0",
          "state": {
            "_model_module": "@jupyter-widgets/controls",
            "_model_module_version": "1.5.0",
            "_model_name": "DescriptionStyleModel",
            "_view_count": null,
            "_view_module": "@jupyter-widgets/base",
            "_view_module_version": "1.2.0",
            "_view_name": "StyleView",
            "description_width": ""
          }
        },
        "a7696b4b634e44ecbcc02dd8059edc41": {
          "model_module": "@jupyter-widgets/controls",
          "model_name": "HBoxModel",
          "model_module_version": "1.5.0",
          "state": {
            "_dom_classes": [],
            "_model_module": "@jupyter-widgets/controls",
            "_model_module_version": "1.5.0",
            "_model_name": "HBoxModel",
            "_view_count": null,
            "_view_module": "@jupyter-widgets/controls",
            "_view_module_version": "1.5.0",
            "_view_name": "HBoxView",
            "box_style": "",
            "children": [
              "IPY_MODEL_bfc01c3fe2fd450996dcdb313fb16631",
              "IPY_MODEL_9e4da7a396f5437494c5f86b000cb01a",
              "IPY_MODEL_89a1e808276a4a7db62fe0b23bc3335c"
            ],
            "layout": "IPY_MODEL_4c9a77d5cf2e491a94208dcf93603807"
          }
        },
        "bfc01c3fe2fd450996dcdb313fb16631": {
          "model_module": "@jupyter-widgets/controls",
          "model_name": "HTMLModel",
          "model_module_version": "1.5.0",
          "state": {
            "_dom_classes": [],
            "_model_module": "@jupyter-widgets/controls",
            "_model_module_version": "1.5.0",
            "_model_name": "HTMLModel",
            "_view_count": null,
            "_view_module": "@jupyter-widgets/controls",
            "_view_module_version": "1.5.0",
            "_view_name": "HTMLView",
            "description": "",
            "description_tooltip": null,
            "layout": "IPY_MODEL_fe9c2846db91448c9c5bbea224dca5db",
            "placeholder": "​",
            "style": "IPY_MODEL_bd2c00affb8348a69b6bb0935a1fab07",
            "value": "Map: 100%"
          }
        },
        "9e4da7a396f5437494c5f86b000cb01a": {
          "model_module": "@jupyter-widgets/controls",
          "model_name": "FloatProgressModel",
          "model_module_version": "1.5.0",
          "state": {
            "_dom_classes": [],
            "_model_module": "@jupyter-widgets/controls",
            "_model_module_version": "1.5.0",
            "_model_name": "FloatProgressModel",
            "_view_count": null,
            "_view_module": "@jupyter-widgets/controls",
            "_view_module_version": "1.5.0",
            "_view_name": "ProgressView",
            "bar_style": "success",
            "description": "",
            "description_tooltip": null,
            "layout": "IPY_MODEL_b21696e50f354a1cb3b28f3f10c0f1d5",
            "max": 999,
            "min": 0,
            "orientation": "horizontal",
            "style": "IPY_MODEL_2c8add9792f3419fb0d209291d5cee22",
            "value": 999
          }
        },
        "89a1e808276a4a7db62fe0b23bc3335c": {
          "model_module": "@jupyter-widgets/controls",
          "model_name": "HTMLModel",
          "model_module_version": "1.5.0",
          "state": {
            "_dom_classes": [],
            "_model_module": "@jupyter-widgets/controls",
            "_model_module_version": "1.5.0",
            "_model_name": "HTMLModel",
            "_view_count": null,
            "_view_module": "@jupyter-widgets/controls",
            "_view_module_version": "1.5.0",
            "_view_name": "HTMLView",
            "description": "",
            "description_tooltip": null,
            "layout": "IPY_MODEL_dd8e0221f56a470e9a380a4dd5f14cea",
            "placeholder": "​",
            "style": "IPY_MODEL_ad66636770c0461db7bb137e0c442e42",
            "value": " 999/999 [13:37&lt;00:00,  1.43 examples/s]"
          }
        },
        "4c9a77d5cf2e491a94208dcf93603807": {
          "model_module": "@jupyter-widgets/base",
          "model_name": "LayoutModel",
          "model_module_version": "1.2.0",
          "state": {
            "_model_module": "@jupyter-widgets/base",
            "_model_module_version": "1.2.0",
            "_model_name": "LayoutModel",
            "_view_count": null,
            "_view_module": "@jupyter-widgets/base",
            "_view_module_version": "1.2.0",
            "_view_name": "LayoutView",
            "align_content": null,
            "align_items": null,
            "align_self": null,
            "border": null,
            "bottom": null,
            "display": null,
            "flex": null,
            "flex_flow": null,
            "grid_area": null,
            "grid_auto_columns": null,
            "grid_auto_flow": null,
            "grid_auto_rows": null,
            "grid_column": null,
            "grid_gap": null,
            "grid_row": null,
            "grid_template_areas": null,
            "grid_template_columns": null,
            "grid_template_rows": null,
            "height": null,
            "justify_content": null,
            "justify_items": null,
            "left": null,
            "margin": null,
            "max_height": null,
            "max_width": null,
            "min_height": null,
            "min_width": null,
            "object_fit": null,
            "object_position": null,
            "order": null,
            "overflow": null,
            "overflow_x": null,
            "overflow_y": null,
            "padding": null,
            "right": null,
            "top": null,
            "visibility": null,
            "width": null
          }
        },
        "fe9c2846db91448c9c5bbea224dca5db": {
          "model_module": "@jupyter-widgets/base",
          "model_name": "LayoutModel",
          "model_module_version": "1.2.0",
          "state": {
            "_model_module": "@jupyter-widgets/base",
            "_model_module_version": "1.2.0",
            "_model_name": "LayoutModel",
            "_view_count": null,
            "_view_module": "@jupyter-widgets/base",
            "_view_module_version": "1.2.0",
            "_view_name": "LayoutView",
            "align_content": null,
            "align_items": null,
            "align_self": null,
            "border": null,
            "bottom": null,
            "display": null,
            "flex": null,
            "flex_flow": null,
            "grid_area": null,
            "grid_auto_columns": null,
            "grid_auto_flow": null,
            "grid_auto_rows": null,
            "grid_column": null,
            "grid_gap": null,
            "grid_row": null,
            "grid_template_areas": null,
            "grid_template_columns": null,
            "grid_template_rows": null,
            "height": null,
            "justify_content": null,
            "justify_items": null,
            "left": null,
            "margin": null,
            "max_height": null,
            "max_width": null,
            "min_height": null,
            "min_width": null,
            "object_fit": null,
            "object_position": null,
            "order": null,
            "overflow": null,
            "overflow_x": null,
            "overflow_y": null,
            "padding": null,
            "right": null,
            "top": null,
            "visibility": null,
            "width": null
          }
        },
        "bd2c00affb8348a69b6bb0935a1fab07": {
          "model_module": "@jupyter-widgets/controls",
          "model_name": "DescriptionStyleModel",
          "model_module_version": "1.5.0",
          "state": {
            "_model_module": "@jupyter-widgets/controls",
            "_model_module_version": "1.5.0",
            "_model_name": "DescriptionStyleModel",
            "_view_count": null,
            "_view_module": "@jupyter-widgets/base",
            "_view_module_version": "1.2.0",
            "_view_name": "StyleView",
            "description_width": ""
          }
        },
        "b21696e50f354a1cb3b28f3f10c0f1d5": {
          "model_module": "@jupyter-widgets/base",
          "model_name": "LayoutModel",
          "model_module_version": "1.2.0",
          "state": {
            "_model_module": "@jupyter-widgets/base",
            "_model_module_version": "1.2.0",
            "_model_name": "LayoutModel",
            "_view_count": null,
            "_view_module": "@jupyter-widgets/base",
            "_view_module_version": "1.2.0",
            "_view_name": "LayoutView",
            "align_content": null,
            "align_items": null,
            "align_self": null,
            "border": null,
            "bottom": null,
            "display": null,
            "flex": null,
            "flex_flow": null,
            "grid_area": null,
            "grid_auto_columns": null,
            "grid_auto_flow": null,
            "grid_auto_rows": null,
            "grid_column": null,
            "grid_gap": null,
            "grid_row": null,
            "grid_template_areas": null,
            "grid_template_columns": null,
            "grid_template_rows": null,
            "height": null,
            "justify_content": null,
            "justify_items": null,
            "left": null,
            "margin": null,
            "max_height": null,
            "max_width": null,
            "min_height": null,
            "min_width": null,
            "object_fit": null,
            "object_position": null,
            "order": null,
            "overflow": null,
            "overflow_x": null,
            "overflow_y": null,
            "padding": null,
            "right": null,
            "top": null,
            "visibility": null,
            "width": null
          }
        },
        "2c8add9792f3419fb0d209291d5cee22": {
          "model_module": "@jupyter-widgets/controls",
          "model_name": "ProgressStyleModel",
          "model_module_version": "1.5.0",
          "state": {
            "_model_module": "@jupyter-widgets/controls",
            "_model_module_version": "1.5.0",
            "_model_name": "ProgressStyleModel",
            "_view_count": null,
            "_view_module": "@jupyter-widgets/base",
            "_view_module_version": "1.2.0",
            "_view_name": "StyleView",
            "bar_color": null,
            "description_width": ""
          }
        },
        "dd8e0221f56a470e9a380a4dd5f14cea": {
          "model_module": "@jupyter-widgets/base",
          "model_name": "LayoutModel",
          "model_module_version": "1.2.0",
          "state": {
            "_model_module": "@jupyter-widgets/base",
            "_model_module_version": "1.2.0",
            "_model_name": "LayoutModel",
            "_view_count": null,
            "_view_module": "@jupyter-widgets/base",
            "_view_module_version": "1.2.0",
            "_view_name": "LayoutView",
            "align_content": null,
            "align_items": null,
            "align_self": null,
            "border": null,
            "bottom": null,
            "display": null,
            "flex": null,
            "flex_flow": null,
            "grid_area": null,
            "grid_auto_columns": null,
            "grid_auto_flow": null,
            "grid_auto_rows": null,
            "grid_column": null,
            "grid_gap": null,
            "grid_row": null,
            "grid_template_areas": null,
            "grid_template_columns": null,
            "grid_template_rows": null,
            "height": null,
            "justify_content": null,
            "justify_items": null,
            "left": null,
            "margin": null,
            "max_height": null,
            "max_width": null,
            "min_height": null,
            "min_width": null,
            "object_fit": null,
            "object_position": null,
            "order": null,
            "overflow": null,
            "overflow_x": null,
            "overflow_y": null,
            "padding": null,
            "right": null,
            "top": null,
            "visibility": null,
            "width": null
          }
        },
        "ad66636770c0461db7bb137e0c442e42": {
          "model_module": "@jupyter-widgets/controls",
          "model_name": "DescriptionStyleModel",
          "model_module_version": "1.5.0",
          "state": {
            "_model_module": "@jupyter-widgets/controls",
            "_model_module_version": "1.5.0",
            "_model_name": "DescriptionStyleModel",
            "_view_count": null,
            "_view_module": "@jupyter-widgets/base",
            "_view_module_version": "1.2.0",
            "_view_name": "StyleView",
            "description_width": ""
          }
        },
        "5a6308b961c44595830cf3e378c65aa9": {
          "model_module": "@jupyter-widgets/controls",
          "model_name": "HBoxModel",
          "model_module_version": "1.5.0",
          "state": {
            "_dom_classes": [],
            "_model_module": "@jupyter-widgets/controls",
            "_model_module_version": "1.5.0",
            "_model_name": "HBoxModel",
            "_view_count": null,
            "_view_module": "@jupyter-widgets/controls",
            "_view_module_version": "1.5.0",
            "_view_name": "HBoxView",
            "box_style": "",
            "children": [
              "IPY_MODEL_800fefacb1e8405cbdb25b4a45be2eb6",
              "IPY_MODEL_a6789721629c42cba38a872c5480c49f",
              "IPY_MODEL_c67ad1f8b38847f5a3e85e32152ef125"
            ],
            "layout": "IPY_MODEL_63f4bf8aa14643229d49a3afaafec168"
          }
        },
        "800fefacb1e8405cbdb25b4a45be2eb6": {
          "model_module": "@jupyter-widgets/controls",
          "model_name": "HTMLModel",
          "model_module_version": "1.5.0",
          "state": {
            "_dom_classes": [],
            "_model_module": "@jupyter-widgets/controls",
            "_model_module_version": "1.5.0",
            "_model_name": "HTMLModel",
            "_view_count": null,
            "_view_module": "@jupyter-widgets/controls",
            "_view_module_version": "1.5.0",
            "_view_name": "HTMLView",
            "description": "",
            "description_tooltip": null,
            "layout": "IPY_MODEL_6ae253d1054a44818dba30c4ebfb6cd5",
            "placeholder": "​",
            "style": "IPY_MODEL_74ee053abcba4353a91a77c394a4be7c",
            "value": "Map: 100%"
          }
        },
        "a6789721629c42cba38a872c5480c49f": {
          "model_module": "@jupyter-widgets/controls",
          "model_name": "FloatProgressModel",
          "model_module_version": "1.5.0",
          "state": {
            "_dom_classes": [],
            "_model_module": "@jupyter-widgets/controls",
            "_model_module_version": "1.5.0",
            "_model_name": "FloatProgressModel",
            "_view_count": null,
            "_view_module": "@jupyter-widgets/controls",
            "_view_module_version": "1.5.0",
            "_view_name": "ProgressView",
            "bar_style": "success",
            "description": "",
            "description_tooltip": null,
            "layout": "IPY_MODEL_7f61917b4755438a8c05b65aa3a300a2",
            "max": 999,
            "min": 0,
            "orientation": "horizontal",
            "style": "IPY_MODEL_d9ead1e860fc41d0a55646c792dfd863",
            "value": 999
          }
        },
        "c67ad1f8b38847f5a3e85e32152ef125": {
          "model_module": "@jupyter-widgets/controls",
          "model_name": "HTMLModel",
          "model_module_version": "1.5.0",
          "state": {
            "_dom_classes": [],
            "_model_module": "@jupyter-widgets/controls",
            "_model_module_version": "1.5.0",
            "_model_name": "HTMLModel",
            "_view_count": null,
            "_view_module": "@jupyter-widgets/controls",
            "_view_module_version": "1.5.0",
            "_view_name": "HTMLView",
            "description": "",
            "description_tooltip": null,
            "layout": "IPY_MODEL_0d33111544754779946c928c5bec4587",
            "placeholder": "​",
            "style": "IPY_MODEL_c9887b75e05244df8df9fb6ffdff11ea",
            "value": " 999/999 [03:00&lt;00:00,  4.44 examples/s]"
          }
        },
        "63f4bf8aa14643229d49a3afaafec168": {
          "model_module": "@jupyter-widgets/base",
          "model_name": "LayoutModel",
          "model_module_version": "1.2.0",
          "state": {
            "_model_module": "@jupyter-widgets/base",
            "_model_module_version": "1.2.0",
            "_model_name": "LayoutModel",
            "_view_count": null,
            "_view_module": "@jupyter-widgets/base",
            "_view_module_version": "1.2.0",
            "_view_name": "LayoutView",
            "align_content": null,
            "align_items": null,
            "align_self": null,
            "border": null,
            "bottom": null,
            "display": null,
            "flex": null,
            "flex_flow": null,
            "grid_area": null,
            "grid_auto_columns": null,
            "grid_auto_flow": null,
            "grid_auto_rows": null,
            "grid_column": null,
            "grid_gap": null,
            "grid_row": null,
            "grid_template_areas": null,
            "grid_template_columns": null,
            "grid_template_rows": null,
            "height": null,
            "justify_content": null,
            "justify_items": null,
            "left": null,
            "margin": null,
            "max_height": null,
            "max_width": null,
            "min_height": null,
            "min_width": null,
            "object_fit": null,
            "object_position": null,
            "order": null,
            "overflow": null,
            "overflow_x": null,
            "overflow_y": null,
            "padding": null,
            "right": null,
            "top": null,
            "visibility": null,
            "width": null
          }
        },
        "6ae253d1054a44818dba30c4ebfb6cd5": {
          "model_module": "@jupyter-widgets/base",
          "model_name": "LayoutModel",
          "model_module_version": "1.2.0",
          "state": {
            "_model_module": "@jupyter-widgets/base",
            "_model_module_version": "1.2.0",
            "_model_name": "LayoutModel",
            "_view_count": null,
            "_view_module": "@jupyter-widgets/base",
            "_view_module_version": "1.2.0",
            "_view_name": "LayoutView",
            "align_content": null,
            "align_items": null,
            "align_self": null,
            "border": null,
            "bottom": null,
            "display": null,
            "flex": null,
            "flex_flow": null,
            "grid_area": null,
            "grid_auto_columns": null,
            "grid_auto_flow": null,
            "grid_auto_rows": null,
            "grid_column": null,
            "grid_gap": null,
            "grid_row": null,
            "grid_template_areas": null,
            "grid_template_columns": null,
            "grid_template_rows": null,
            "height": null,
            "justify_content": null,
            "justify_items": null,
            "left": null,
            "margin": null,
            "max_height": null,
            "max_width": null,
            "min_height": null,
            "min_width": null,
            "object_fit": null,
            "object_position": null,
            "order": null,
            "overflow": null,
            "overflow_x": null,
            "overflow_y": null,
            "padding": null,
            "right": null,
            "top": null,
            "visibility": null,
            "width": null
          }
        },
        "74ee053abcba4353a91a77c394a4be7c": {
          "model_module": "@jupyter-widgets/controls",
          "model_name": "DescriptionStyleModel",
          "model_module_version": "1.5.0",
          "state": {
            "_model_module": "@jupyter-widgets/controls",
            "_model_module_version": "1.5.0",
            "_model_name": "DescriptionStyleModel",
            "_view_count": null,
            "_view_module": "@jupyter-widgets/base",
            "_view_module_version": "1.2.0",
            "_view_name": "StyleView",
            "description_width": ""
          }
        },
        "7f61917b4755438a8c05b65aa3a300a2": {
          "model_module": "@jupyter-widgets/base",
          "model_name": "LayoutModel",
          "model_module_version": "1.2.0",
          "state": {
            "_model_module": "@jupyter-widgets/base",
            "_model_module_version": "1.2.0",
            "_model_name": "LayoutModel",
            "_view_count": null,
            "_view_module": "@jupyter-widgets/base",
            "_view_module_version": "1.2.0",
            "_view_name": "LayoutView",
            "align_content": null,
            "align_items": null,
            "align_self": null,
            "border": null,
            "bottom": null,
            "display": null,
            "flex": null,
            "flex_flow": null,
            "grid_area": null,
            "grid_auto_columns": null,
            "grid_auto_flow": null,
            "grid_auto_rows": null,
            "grid_column": null,
            "grid_gap": null,
            "grid_row": null,
            "grid_template_areas": null,
            "grid_template_columns": null,
            "grid_template_rows": null,
            "height": null,
            "justify_content": null,
            "justify_items": null,
            "left": null,
            "margin": null,
            "max_height": null,
            "max_width": null,
            "min_height": null,
            "min_width": null,
            "object_fit": null,
            "object_position": null,
            "order": null,
            "overflow": null,
            "overflow_x": null,
            "overflow_y": null,
            "padding": null,
            "right": null,
            "top": null,
            "visibility": null,
            "width": null
          }
        },
        "d9ead1e860fc41d0a55646c792dfd863": {
          "model_module": "@jupyter-widgets/controls",
          "model_name": "ProgressStyleModel",
          "model_module_version": "1.5.0",
          "state": {
            "_model_module": "@jupyter-widgets/controls",
            "_model_module_version": "1.5.0",
            "_model_name": "ProgressStyleModel",
            "_view_count": null,
            "_view_module": "@jupyter-widgets/base",
            "_view_module_version": "1.2.0",
            "_view_name": "StyleView",
            "bar_color": null,
            "description_width": ""
          }
        },
        "0d33111544754779946c928c5bec4587": {
          "model_module": "@jupyter-widgets/base",
          "model_name": "LayoutModel",
          "model_module_version": "1.2.0",
          "state": {
            "_model_module": "@jupyter-widgets/base",
            "_model_module_version": "1.2.0",
            "_model_name": "LayoutModel",
            "_view_count": null,
            "_view_module": "@jupyter-widgets/base",
            "_view_module_version": "1.2.0",
            "_view_name": "LayoutView",
            "align_content": null,
            "align_items": null,
            "align_self": null,
            "border": null,
            "bottom": null,
            "display": null,
            "flex": null,
            "flex_flow": null,
            "grid_area": null,
            "grid_auto_columns": null,
            "grid_auto_flow": null,
            "grid_auto_rows": null,
            "grid_column": null,
            "grid_gap": null,
            "grid_row": null,
            "grid_template_areas": null,
            "grid_template_columns": null,
            "grid_template_rows": null,
            "height": null,
            "justify_content": null,
            "justify_items": null,
            "left": null,
            "margin": null,
            "max_height": null,
            "max_width": null,
            "min_height": null,
            "min_width": null,
            "object_fit": null,
            "object_position": null,
            "order": null,
            "overflow": null,
            "overflow_x": null,
            "overflow_y": null,
            "padding": null,
            "right": null,
            "top": null,
            "visibility": null,
            "width": null
          }
        },
        "c9887b75e05244df8df9fb6ffdff11ea": {
          "model_module": "@jupyter-widgets/controls",
          "model_name": "DescriptionStyleModel",
          "model_module_version": "1.5.0",
          "state": {
            "_model_module": "@jupyter-widgets/controls",
            "_model_module_version": "1.5.0",
            "_model_name": "DescriptionStyleModel",
            "_view_count": null,
            "_view_module": "@jupyter-widgets/base",
            "_view_module_version": "1.2.0",
            "_view_name": "StyleView",
            "description_width": ""
          }
        },
        "28139b4a69984ab393cf2146b3e95e08": {
          "model_module": "@jupyter-widgets/controls",
          "model_name": "HBoxModel",
          "model_module_version": "1.5.0",
          "state": {
            "_dom_classes": [],
            "_model_module": "@jupyter-widgets/controls",
            "_model_module_version": "1.5.0",
            "_model_name": "HBoxModel",
            "_view_count": null,
            "_view_module": "@jupyter-widgets/controls",
            "_view_module_version": "1.5.0",
            "_view_name": "HBoxView",
            "box_style": "",
            "children": [
              "IPY_MODEL_2517d9990da14ac28bf1748846884870",
              "IPY_MODEL_a1636c8bd1354e8ab7acd0399026d588",
              "IPY_MODEL_5e83c56b18f44b06b0f318e4be0b0473"
            ],
            "layout": "IPY_MODEL_b8443e4d41854bbca8d1ec33939eafb9"
          }
        },
        "2517d9990da14ac28bf1748846884870": {
          "model_module": "@jupyter-widgets/controls",
          "model_name": "HTMLModel",
          "model_module_version": "1.5.0",
          "state": {
            "_dom_classes": [],
            "_model_module": "@jupyter-widgets/controls",
            "_model_module_version": "1.5.0",
            "_model_name": "HTMLModel",
            "_view_count": null,
            "_view_module": "@jupyter-widgets/controls",
            "_view_module_version": "1.5.0",
            "_view_name": "HTMLView",
            "description": "",
            "description_tooltip": null,
            "layout": "IPY_MODEL_c97676a805764ebdac2c80e74fbbc78e",
            "placeholder": "​",
            "style": "IPY_MODEL_5c6e84656b7949c0a0cdf0413bf69bee",
            "value": "Map: 100%"
          }
        },
        "a1636c8bd1354e8ab7acd0399026d588": {
          "model_module": "@jupyter-widgets/controls",
          "model_name": "FloatProgressModel",
          "model_module_version": "1.5.0",
          "state": {
            "_dom_classes": [],
            "_model_module": "@jupyter-widgets/controls",
            "_model_module_version": "1.5.0",
            "_model_name": "FloatProgressModel",
            "_view_count": null,
            "_view_module": "@jupyter-widgets/controls",
            "_view_module_version": "1.5.0",
            "_view_name": "ProgressView",
            "bar_style": "success",
            "description": "",
            "description_tooltip": null,
            "layout": "IPY_MODEL_73c53085e2954ae48354d8d32773543c",
            "max": 999,
            "min": 0,
            "orientation": "horizontal",
            "style": "IPY_MODEL_93930e9fcbb74f2baeca0f28402bc25a",
            "value": 999
          }
        },
        "5e83c56b18f44b06b0f318e4be0b0473": {
          "model_module": "@jupyter-widgets/controls",
          "model_name": "HTMLModel",
          "model_module_version": "1.5.0",
          "state": {
            "_dom_classes": [],
            "_model_module": "@jupyter-widgets/controls",
            "_model_module_version": "1.5.0",
            "_model_name": "HTMLModel",
            "_view_count": null,
            "_view_module": "@jupyter-widgets/controls",
            "_view_module_version": "1.5.0",
            "_view_name": "HTMLView",
            "description": "",
            "description_tooltip": null,
            "layout": "IPY_MODEL_a0b27be36eaa4f5388017c86b4c444d5",
            "placeholder": "​",
            "style": "IPY_MODEL_c74b8817e14e49d1b75f162dedc28ac8",
            "value": " 999/999 [33:38&lt;00:00,  2.09s/ examples]"
          }
        },
        "b8443e4d41854bbca8d1ec33939eafb9": {
          "model_module": "@jupyter-widgets/base",
          "model_name": "LayoutModel",
          "model_module_version": "1.2.0",
          "state": {
            "_model_module": "@jupyter-widgets/base",
            "_model_module_version": "1.2.0",
            "_model_name": "LayoutModel",
            "_view_count": null,
            "_view_module": "@jupyter-widgets/base",
            "_view_module_version": "1.2.0",
            "_view_name": "LayoutView",
            "align_content": null,
            "align_items": null,
            "align_self": null,
            "border": null,
            "bottom": null,
            "display": null,
            "flex": null,
            "flex_flow": null,
            "grid_area": null,
            "grid_auto_columns": null,
            "grid_auto_flow": null,
            "grid_auto_rows": null,
            "grid_column": null,
            "grid_gap": null,
            "grid_row": null,
            "grid_template_areas": null,
            "grid_template_columns": null,
            "grid_template_rows": null,
            "height": null,
            "justify_content": null,
            "justify_items": null,
            "left": null,
            "margin": null,
            "max_height": null,
            "max_width": null,
            "min_height": null,
            "min_width": null,
            "object_fit": null,
            "object_position": null,
            "order": null,
            "overflow": null,
            "overflow_x": null,
            "overflow_y": null,
            "padding": null,
            "right": null,
            "top": null,
            "visibility": null,
            "width": null
          }
        },
        "c97676a805764ebdac2c80e74fbbc78e": {
          "model_module": "@jupyter-widgets/base",
          "model_name": "LayoutModel",
          "model_module_version": "1.2.0",
          "state": {
            "_model_module": "@jupyter-widgets/base",
            "_model_module_version": "1.2.0",
            "_model_name": "LayoutModel",
            "_view_count": null,
            "_view_module": "@jupyter-widgets/base",
            "_view_module_version": "1.2.0",
            "_view_name": "LayoutView",
            "align_content": null,
            "align_items": null,
            "align_self": null,
            "border": null,
            "bottom": null,
            "display": null,
            "flex": null,
            "flex_flow": null,
            "grid_area": null,
            "grid_auto_columns": null,
            "grid_auto_flow": null,
            "grid_auto_rows": null,
            "grid_column": null,
            "grid_gap": null,
            "grid_row": null,
            "grid_template_areas": null,
            "grid_template_columns": null,
            "grid_template_rows": null,
            "height": null,
            "justify_content": null,
            "justify_items": null,
            "left": null,
            "margin": null,
            "max_height": null,
            "max_width": null,
            "min_height": null,
            "min_width": null,
            "object_fit": null,
            "object_position": null,
            "order": null,
            "overflow": null,
            "overflow_x": null,
            "overflow_y": null,
            "padding": null,
            "right": null,
            "top": null,
            "visibility": null,
            "width": null
          }
        },
        "5c6e84656b7949c0a0cdf0413bf69bee": {
          "model_module": "@jupyter-widgets/controls",
          "model_name": "DescriptionStyleModel",
          "model_module_version": "1.5.0",
          "state": {
            "_model_module": "@jupyter-widgets/controls",
            "_model_module_version": "1.5.0",
            "_model_name": "DescriptionStyleModel",
            "_view_count": null,
            "_view_module": "@jupyter-widgets/base",
            "_view_module_version": "1.2.0",
            "_view_name": "StyleView",
            "description_width": ""
          }
        },
        "73c53085e2954ae48354d8d32773543c": {
          "model_module": "@jupyter-widgets/base",
          "model_name": "LayoutModel",
          "model_module_version": "1.2.0",
          "state": {
            "_model_module": "@jupyter-widgets/base",
            "_model_module_version": "1.2.0",
            "_model_name": "LayoutModel",
            "_view_count": null,
            "_view_module": "@jupyter-widgets/base",
            "_view_module_version": "1.2.0",
            "_view_name": "LayoutView",
            "align_content": null,
            "align_items": null,
            "align_self": null,
            "border": null,
            "bottom": null,
            "display": null,
            "flex": null,
            "flex_flow": null,
            "grid_area": null,
            "grid_auto_columns": null,
            "grid_auto_flow": null,
            "grid_auto_rows": null,
            "grid_column": null,
            "grid_gap": null,
            "grid_row": null,
            "grid_template_areas": null,
            "grid_template_columns": null,
            "grid_template_rows": null,
            "height": null,
            "justify_content": null,
            "justify_items": null,
            "left": null,
            "margin": null,
            "max_height": null,
            "max_width": null,
            "min_height": null,
            "min_width": null,
            "object_fit": null,
            "object_position": null,
            "order": null,
            "overflow": null,
            "overflow_x": null,
            "overflow_y": null,
            "padding": null,
            "right": null,
            "top": null,
            "visibility": null,
            "width": null
          }
        },
        "93930e9fcbb74f2baeca0f28402bc25a": {
          "model_module": "@jupyter-widgets/controls",
          "model_name": "ProgressStyleModel",
          "model_module_version": "1.5.0",
          "state": {
            "_model_module": "@jupyter-widgets/controls",
            "_model_module_version": "1.5.0",
            "_model_name": "ProgressStyleModel",
            "_view_count": null,
            "_view_module": "@jupyter-widgets/base",
            "_view_module_version": "1.2.0",
            "_view_name": "StyleView",
            "bar_color": null,
            "description_width": ""
          }
        },
        "a0b27be36eaa4f5388017c86b4c444d5": {
          "model_module": "@jupyter-widgets/base",
          "model_name": "LayoutModel",
          "model_module_version": "1.2.0",
          "state": {
            "_model_module": "@jupyter-widgets/base",
            "_model_module_version": "1.2.0",
            "_model_name": "LayoutModel",
            "_view_count": null,
            "_view_module": "@jupyter-widgets/base",
            "_view_module_version": "1.2.0",
            "_view_name": "LayoutView",
            "align_content": null,
            "align_items": null,
            "align_self": null,
            "border": null,
            "bottom": null,
            "display": null,
            "flex": null,
            "flex_flow": null,
            "grid_area": null,
            "grid_auto_columns": null,
            "grid_auto_flow": null,
            "grid_auto_rows": null,
            "grid_column": null,
            "grid_gap": null,
            "grid_row": null,
            "grid_template_areas": null,
            "grid_template_columns": null,
            "grid_template_rows": null,
            "height": null,
            "justify_content": null,
            "justify_items": null,
            "left": null,
            "margin": null,
            "max_height": null,
            "max_width": null,
            "min_height": null,
            "min_width": null,
            "object_fit": null,
            "object_position": null,
            "order": null,
            "overflow": null,
            "overflow_x": null,
            "overflow_y": null,
            "padding": null,
            "right": null,
            "top": null,
            "visibility": null,
            "width": null
          }
        },
        "c74b8817e14e49d1b75f162dedc28ac8": {
          "model_module": "@jupyter-widgets/controls",
          "model_name": "DescriptionStyleModel",
          "model_module_version": "1.5.0",
          "state": {
            "_model_module": "@jupyter-widgets/controls",
            "_model_module_version": "1.5.0",
            "_model_name": "DescriptionStyleModel",
            "_view_count": null,
            "_view_module": "@jupyter-widgets/base",
            "_view_module_version": "1.2.0",
            "_view_name": "StyleView",
            "description_width": ""
          }
        },
        "e32992d13669469a9accb7ff5412cdd8": {
          "model_module": "@jupyter-widgets/controls",
          "model_name": "HBoxModel",
          "model_module_version": "1.5.0",
          "state": {
            "_dom_classes": [],
            "_model_module": "@jupyter-widgets/controls",
            "_model_module_version": "1.5.0",
            "_model_name": "HBoxModel",
            "_view_count": null,
            "_view_module": "@jupyter-widgets/controls",
            "_view_module_version": "1.5.0",
            "_view_name": "HBoxView",
            "box_style": "",
            "children": [
              "IPY_MODEL_061c1d90e8f74a75a8b086164b6af1d7",
              "IPY_MODEL_54f5cb4254ff43b7a91a39d8aef11eb7",
              "IPY_MODEL_3a9931940074421da9a4b4d1ecfac6e9"
            ],
            "layout": "IPY_MODEL_46b97dbb5b1d4647a1de45a7e1f4ef59"
          }
        },
        "061c1d90e8f74a75a8b086164b6af1d7": {
          "model_module": "@jupyter-widgets/controls",
          "model_name": "HTMLModel",
          "model_module_version": "1.5.0",
          "state": {
            "_dom_classes": [],
            "_model_module": "@jupyter-widgets/controls",
            "_model_module_version": "1.5.0",
            "_model_name": "HTMLModel",
            "_view_count": null,
            "_view_module": "@jupyter-widgets/controls",
            "_view_module_version": "1.5.0",
            "_view_name": "HTMLView",
            "description": "",
            "description_tooltip": null,
            "layout": "IPY_MODEL_e9ea607b4ef94c78bc550be1b6ac6264",
            "placeholder": "​",
            "style": "IPY_MODEL_5d5638e6208c4b10af3a64ee3bb54dc9",
            "value": "Map: 100%"
          }
        },
        "54f5cb4254ff43b7a91a39d8aef11eb7": {
          "model_module": "@jupyter-widgets/controls",
          "model_name": "FloatProgressModel",
          "model_module_version": "1.5.0",
          "state": {
            "_dom_classes": [],
            "_model_module": "@jupyter-widgets/controls",
            "_model_module_version": "1.5.0",
            "_model_name": "FloatProgressModel",
            "_view_count": null,
            "_view_module": "@jupyter-widgets/controls",
            "_view_module_version": "1.5.0",
            "_view_name": "ProgressView",
            "bar_style": "success",
            "description": "",
            "description_tooltip": null,
            "layout": "IPY_MODEL_4dd888bf0143430383fb2c58f81824d6",
            "max": 999,
            "min": 0,
            "orientation": "horizontal",
            "style": "IPY_MODEL_6756662afb99428ba14e7aac689dac52",
            "value": 999
          }
        },
        "3a9931940074421da9a4b4d1ecfac6e9": {
          "model_module": "@jupyter-widgets/controls",
          "model_name": "HTMLModel",
          "model_module_version": "1.5.0",
          "state": {
            "_dom_classes": [],
            "_model_module": "@jupyter-widgets/controls",
            "_model_module_version": "1.5.0",
            "_model_name": "HTMLModel",
            "_view_count": null,
            "_view_module": "@jupyter-widgets/controls",
            "_view_module_version": "1.5.0",
            "_view_name": "HTMLView",
            "description": "",
            "description_tooltip": null,
            "layout": "IPY_MODEL_d6f8d19a061c4546adb7ec2cd09ad9b9",
            "placeholder": "​",
            "style": "IPY_MODEL_f3a9dead9b0141559ae06fe6417faeab",
            "value": " 999/999 [14:48&lt;00:00,  1.11 examples/s]"
          }
        },
        "46b97dbb5b1d4647a1de45a7e1f4ef59": {
          "model_module": "@jupyter-widgets/base",
          "model_name": "LayoutModel",
          "model_module_version": "1.2.0",
          "state": {
            "_model_module": "@jupyter-widgets/base",
            "_model_module_version": "1.2.0",
            "_model_name": "LayoutModel",
            "_view_count": null,
            "_view_module": "@jupyter-widgets/base",
            "_view_module_version": "1.2.0",
            "_view_name": "LayoutView",
            "align_content": null,
            "align_items": null,
            "align_self": null,
            "border": null,
            "bottom": null,
            "display": null,
            "flex": null,
            "flex_flow": null,
            "grid_area": null,
            "grid_auto_columns": null,
            "grid_auto_flow": null,
            "grid_auto_rows": null,
            "grid_column": null,
            "grid_gap": null,
            "grid_row": null,
            "grid_template_areas": null,
            "grid_template_columns": null,
            "grid_template_rows": null,
            "height": null,
            "justify_content": null,
            "justify_items": null,
            "left": null,
            "margin": null,
            "max_height": null,
            "max_width": null,
            "min_height": null,
            "min_width": null,
            "object_fit": null,
            "object_position": null,
            "order": null,
            "overflow": null,
            "overflow_x": null,
            "overflow_y": null,
            "padding": null,
            "right": null,
            "top": null,
            "visibility": null,
            "width": null
          }
        },
        "e9ea607b4ef94c78bc550be1b6ac6264": {
          "model_module": "@jupyter-widgets/base",
          "model_name": "LayoutModel",
          "model_module_version": "1.2.0",
          "state": {
            "_model_module": "@jupyter-widgets/base",
            "_model_module_version": "1.2.0",
            "_model_name": "LayoutModel",
            "_view_count": null,
            "_view_module": "@jupyter-widgets/base",
            "_view_module_version": "1.2.0",
            "_view_name": "LayoutView",
            "align_content": null,
            "align_items": null,
            "align_self": null,
            "border": null,
            "bottom": null,
            "display": null,
            "flex": null,
            "flex_flow": null,
            "grid_area": null,
            "grid_auto_columns": null,
            "grid_auto_flow": null,
            "grid_auto_rows": null,
            "grid_column": null,
            "grid_gap": null,
            "grid_row": null,
            "grid_template_areas": null,
            "grid_template_columns": null,
            "grid_template_rows": null,
            "height": null,
            "justify_content": null,
            "justify_items": null,
            "left": null,
            "margin": null,
            "max_height": null,
            "max_width": null,
            "min_height": null,
            "min_width": null,
            "object_fit": null,
            "object_position": null,
            "order": null,
            "overflow": null,
            "overflow_x": null,
            "overflow_y": null,
            "padding": null,
            "right": null,
            "top": null,
            "visibility": null,
            "width": null
          }
        },
        "5d5638e6208c4b10af3a64ee3bb54dc9": {
          "model_module": "@jupyter-widgets/controls",
          "model_name": "DescriptionStyleModel",
          "model_module_version": "1.5.0",
          "state": {
            "_model_module": "@jupyter-widgets/controls",
            "_model_module_version": "1.5.0",
            "_model_name": "DescriptionStyleModel",
            "_view_count": null,
            "_view_module": "@jupyter-widgets/base",
            "_view_module_version": "1.2.0",
            "_view_name": "StyleView",
            "description_width": ""
          }
        },
        "4dd888bf0143430383fb2c58f81824d6": {
          "model_module": "@jupyter-widgets/base",
          "model_name": "LayoutModel",
          "model_module_version": "1.2.0",
          "state": {
            "_model_module": "@jupyter-widgets/base",
            "_model_module_version": "1.2.0",
            "_model_name": "LayoutModel",
            "_view_count": null,
            "_view_module": "@jupyter-widgets/base",
            "_view_module_version": "1.2.0",
            "_view_name": "LayoutView",
            "align_content": null,
            "align_items": null,
            "align_self": null,
            "border": null,
            "bottom": null,
            "display": null,
            "flex": null,
            "flex_flow": null,
            "grid_area": null,
            "grid_auto_columns": null,
            "grid_auto_flow": null,
            "grid_auto_rows": null,
            "grid_column": null,
            "grid_gap": null,
            "grid_row": null,
            "grid_template_areas": null,
            "grid_template_columns": null,
            "grid_template_rows": null,
            "height": null,
            "justify_content": null,
            "justify_items": null,
            "left": null,
            "margin": null,
            "max_height": null,
            "max_width": null,
            "min_height": null,
            "min_width": null,
            "object_fit": null,
            "object_position": null,
            "order": null,
            "overflow": null,
            "overflow_x": null,
            "overflow_y": null,
            "padding": null,
            "right": null,
            "top": null,
            "visibility": null,
            "width": null
          }
        },
        "6756662afb99428ba14e7aac689dac52": {
          "model_module": "@jupyter-widgets/controls",
          "model_name": "ProgressStyleModel",
          "model_module_version": "1.5.0",
          "state": {
            "_model_module": "@jupyter-widgets/controls",
            "_model_module_version": "1.5.0",
            "_model_name": "ProgressStyleModel",
            "_view_count": null,
            "_view_module": "@jupyter-widgets/base",
            "_view_module_version": "1.2.0",
            "_view_name": "StyleView",
            "bar_color": null,
            "description_width": ""
          }
        },
        "d6f8d19a061c4546adb7ec2cd09ad9b9": {
          "model_module": "@jupyter-widgets/base",
          "model_name": "LayoutModel",
          "model_module_version": "1.2.0",
          "state": {
            "_model_module": "@jupyter-widgets/base",
            "_model_module_version": "1.2.0",
            "_model_name": "LayoutModel",
            "_view_count": null,
            "_view_module": "@jupyter-widgets/base",
            "_view_module_version": "1.2.0",
            "_view_name": "LayoutView",
            "align_content": null,
            "align_items": null,
            "align_self": null,
            "border": null,
            "bottom": null,
            "display": null,
            "flex": null,
            "flex_flow": null,
            "grid_area": null,
            "grid_auto_columns": null,
            "grid_auto_flow": null,
            "grid_auto_rows": null,
            "grid_column": null,
            "grid_gap": null,
            "grid_row": null,
            "grid_template_areas": null,
            "grid_template_columns": null,
            "grid_template_rows": null,
            "height": null,
            "justify_content": null,
            "justify_items": null,
            "left": null,
            "margin": null,
            "max_height": null,
            "max_width": null,
            "min_height": null,
            "min_width": null,
            "object_fit": null,
            "object_position": null,
            "order": null,
            "overflow": null,
            "overflow_x": null,
            "overflow_y": null,
            "padding": null,
            "right": null,
            "top": null,
            "visibility": null,
            "width": null
          }
        },
        "f3a9dead9b0141559ae06fe6417faeab": {
          "model_module": "@jupyter-widgets/controls",
          "model_name": "DescriptionStyleModel",
          "model_module_version": "1.5.0",
          "state": {
            "_model_module": "@jupyter-widgets/controls",
            "_model_module_version": "1.5.0",
            "_model_name": "DescriptionStyleModel",
            "_view_count": null,
            "_view_module": "@jupyter-widgets/base",
            "_view_module_version": "1.2.0",
            "_view_name": "StyleView",
            "description_width": ""
          }
        }
      }
    }
  },
  "nbformat": 4,
  "nbformat_minor": 0
}